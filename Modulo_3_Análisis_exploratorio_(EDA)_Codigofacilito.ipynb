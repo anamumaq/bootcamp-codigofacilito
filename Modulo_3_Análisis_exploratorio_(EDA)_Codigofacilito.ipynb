{
  "nbformat": 4,
  "nbformat_minor": 0,
  "metadata": {
    "colab": {
      "name": "Modulo 3 - Análisis exploratorio (EDA) - Codigofacilito",
      "provenance": [],
      "authorship_tag": "ABX9TyNDf4AJVpTOK3UfkvTD4SoS"
    },
    "kernelspec": {
      "name": "python3",
      "display_name": "Python 3"
    },
    "language_info": {
      "name": "python"
    }
  },
  "cells": [
    {
      "cell_type": "markdown",
      "metadata": {
        "id": "XCJuCM2oUprb"
      },
      "source": [
        "# Analisis Exploratorio\n",
        "* Conociendo los datos\n",
        "  - Definir le problema:\n",
        "    How to solve it - George Polya\n",
        "  - Metadatos\n",
        "  - Carga Datos\n",
        "* Estadisticas Descriptivas\n",
        "* Limpieza de datos"
      ]
    },
    {
      "cell_type": "code",
      "metadata": {
        "id": "hzmk_fmJUACs"
      },
      "source": [
        "\n",
        "import pandas as pd\n",
        "import numpy as np\n"
      ],
      "execution_count": null,
      "outputs": []
    },
    {
      "cell_type": "markdown",
      "metadata": {
        "id": "ovmB9TRbLTkb"
      },
      "source": [
        "El profesor exportó todas las bases de datos del kaggle, pero solo se realizo el ejemplo con uno. Para este caso solo use el dataset de MX"
      ]
    },
    {
      "cell_type": "code",
      "metadata": {
        "id": "uJ6PNKABTDFM"
      },
      "source": [
        "df = pd.read_csv('/content/MXvideos.csv', encoding= 'latin1')"
      ],
      "execution_count": null,
      "outputs": []
    },
    {
      "cell_type": "code",
      "metadata": {
        "colab": {
          "base_uri": "https://localhost:8080/",
          "height": 521
        },
        "id": "HrHb8NYkq0J0",
        "outputId": "e613de35-683b-4357-aca6-0e8b6a60b8a5"
      },
      "source": [
        "df.head()"
      ],
      "execution_count": null,
      "outputs": [
        {
          "output_type": "execute_result",
          "data": {
            "text/html": [
              "<div>\n",
              "<style scoped>\n",
              "    .dataframe tbody tr th:only-of-type {\n",
              "        vertical-align: middle;\n",
              "    }\n",
              "\n",
              "    .dataframe tbody tr th {\n",
              "        vertical-align: top;\n",
              "    }\n",
              "\n",
              "    .dataframe thead th {\n",
              "        text-align: right;\n",
              "    }\n",
              "</style>\n",
              "<table border=\"1\" class=\"dataframe\">\n",
              "  <thead>\n",
              "    <tr style=\"text-align: right;\">\n",
              "      <th></th>\n",
              "      <th>video_id</th>\n",
              "      <th>trending_date</th>\n",
              "      <th>title</th>\n",
              "      <th>channel_title</th>\n",
              "      <th>category_id</th>\n",
              "      <th>publish_time</th>\n",
              "      <th>tags</th>\n",
              "      <th>views</th>\n",
              "      <th>likes</th>\n",
              "      <th>dislikes</th>\n",
              "      <th>comment_count</th>\n",
              "      <th>thumbnail_link</th>\n",
              "      <th>comments_disabled</th>\n",
              "      <th>ratings_disabled</th>\n",
              "      <th>video_error_or_removed</th>\n",
              "      <th>description</th>\n",
              "    </tr>\n",
              "  </thead>\n",
              "  <tbody>\n",
              "    <tr>\n",
              "      <th>0</th>\n",
              "      <td>SbOwzAl9ZfQ</td>\n",
              "      <td>17.14.11</td>\n",
              "      <td>CapÃ­tulo 12 | MasterChef 2017</td>\n",
              "      <td>MasterChef 2017</td>\n",
              "      <td>24</td>\n",
              "      <td>2017-11-13T06:06:22.000Z</td>\n",
              "      <td>MasterChef Junior 2017|\"TV Azteca\"|\"recetas\"|\"...</td>\n",
              "      <td>310130</td>\n",
              "      <td>4182</td>\n",
              "      <td>361</td>\n",
              "      <td>1836</td>\n",
              "      <td>https://i.ytimg.com/vi/SbOwzAl9ZfQ/default.jpg</td>\n",
              "      <td>False</td>\n",
              "      <td>False</td>\n",
              "      <td>False</td>\n",
              "      <td>Disfruta la presencia del Chef Torreblanca en ...</td>\n",
              "    </tr>\n",
              "    <tr>\n",
              "      <th>1</th>\n",
              "      <td>klOV6Xh-DnI</td>\n",
              "      <td>17.14.11</td>\n",
              "      <td>ALEXA EX-INTEGRANTE DEL GRUPO TIMBIRICHE RENUN...</td>\n",
              "      <td>Micky Contreras Martinez</td>\n",
              "      <td>22</td>\n",
              "      <td>2017-11-13T05:11:58.000Z</td>\n",
              "      <td>La Voz Mexico 7</td>\n",
              "      <td>104972</td>\n",
              "      <td>271</td>\n",
              "      <td>174</td>\n",
              "      <td>369</td>\n",
              "      <td>https://i.ytimg.com/vi/klOV6Xh-DnI/default.jpg</td>\n",
              "      <td>False</td>\n",
              "      <td>False</td>\n",
              "      <td>False</td>\n",
              "      <td>ALEXA EX-INTEGRANTE DEL GRUPO TIMBIRICHE RENUN...</td>\n",
              "    </tr>\n",
              "    <tr>\n",
              "      <th>2</th>\n",
              "      <td>6L2ZF7Qzsbk</td>\n",
              "      <td>17.14.11</td>\n",
              "      <td>LOUIS CKAGÃ - EL PULSO DE LA REPÃBLICA</td>\n",
              "      <td>El Pulso De La RepÃºblica</td>\n",
              "      <td>25</td>\n",
              "      <td>2017-11-13T17:00:02.000Z</td>\n",
              "      <td>Chumel Torres|\"El Pulso de la Republica\"|\"noti...</td>\n",
              "      <td>136064</td>\n",
              "      <td>10105</td>\n",
              "      <td>266</td>\n",
              "      <td>607</td>\n",
              "      <td>https://i.ytimg.com/vi/6L2ZF7Qzsbk/default.jpg</td>\n",
              "      <td>False</td>\n",
              "      <td>False</td>\n",
              "      <td>False</td>\n",
              "      <td>La canciÃ³n del principio se llama âEste esp...</td>\n",
              "    </tr>\n",
              "    <tr>\n",
              "      <th>3</th>\n",
              "      <td>hcY52MFWMDM</td>\n",
              "      <td>17.14.11</td>\n",
              "      <td>Sismo de 6.7 sacude Costa Rica 12 Noviembre 2017</td>\n",
              "      <td>Casanare</td>\n",
              "      <td>25</td>\n",
              "      <td>2017-11-13T03:47:10.000Z</td>\n",
              "      <td>temblor|\"costa rica\"|\"sismo en costa rica\"</td>\n",
              "      <td>96153</td>\n",
              "      <td>378</td>\n",
              "      <td>171</td>\n",
              "      <td>208</td>\n",
              "      <td>https://i.ytimg.com/vi/hcY52MFWMDM/default.jpg</td>\n",
              "      <td>False</td>\n",
              "      <td>False</td>\n",
              "      <td>False</td>\n",
              "      <td>El video es de un Walmart en el pais centroame...</td>\n",
              "    </tr>\n",
              "    <tr>\n",
              "      <th>4</th>\n",
              "      <td>_OXDcGPVAa4</td>\n",
              "      <td>17.14.11</td>\n",
              "      <td>DOG HACKS | MUSAS LESSLIE LOS POLINESIOS</td>\n",
              "      <td>Musas</td>\n",
              "      <td>26</td>\n",
              "      <td>2017-11-13T19:17:48.000Z</td>\n",
              "      <td>MUSAS|\"lesslie\"|\"karen\"|\"hacks\"|\"perros\"|\"dogs...</td>\n",
              "      <td>499965</td>\n",
              "      <td>57781</td>\n",
              "      <td>681</td>\n",
              "      <td>7428</td>\n",
              "      <td>https://i.ytimg.com/vi/_OXDcGPVAa4/default.jpg</td>\n",
              "      <td>False</td>\n",
              "      <td>False</td>\n",
              "      <td>False</td>\n",
              "      <td>MI HERMANO NARRA MI RUTINA DE MAQUILLAJE\\nhttp...</td>\n",
              "    </tr>\n",
              "  </tbody>\n",
              "</table>\n",
              "</div>"
            ],
            "text/plain": [
              "      video_id  ...                                        description\n",
              "0  SbOwzAl9ZfQ  ...  Disfruta la presencia del Chef Torreblanca en ...\n",
              "1  klOV6Xh-DnI  ...  ALEXA EX-INTEGRANTE DEL GRUPO TIMBIRICHE RENUN...\n",
              "2  6L2ZF7Qzsbk  ...  La canciÃ³n del principio se llama âEste esp...\n",
              "3  hcY52MFWMDM  ...  El video es de un Walmart en el pais centroame...\n",
              "4  _OXDcGPVAa4  ...  MI HERMANO NARRA MI RUTINA DE MAQUILLAJE\\nhttp...\n",
              "\n",
              "[5 rows x 16 columns]"
            ]
          },
          "metadata": {},
          "execution_count": 33
        }
      ]
    },
    {
      "cell_type": "code",
      "metadata": {
        "colab": {
          "base_uri": "https://localhost:8080/"
        },
        "id": "ZddLZKrhsat3",
        "outputId": "8e3a5eb8-5a3a-4a90-bcb7-2871f388758f"
      },
      "source": [
        "df.info"
      ],
      "execution_count": null,
      "outputs": [
        {
          "output_type": "execute_result",
          "data": {
            "text/plain": [
              "<bound method DataFrame.info of           video_id  ...                                        description\n",
              "0      SbOwzAl9ZfQ  ...  Disfruta la presencia del Chef Torreblanca en ...\n",
              "1      klOV6Xh-DnI  ...  ALEXA EX-INTEGRANTE DEL GRUPO TIMBIRICHE RENUN...\n",
              "2      6L2ZF7Qzsbk  ...  La canciÃ³n del principio se llama âEste esp...\n",
              "3      hcY52MFWMDM  ...  El video es de un Walmart en el pais centroame...\n",
              "4      _OXDcGPVAa4  ...  MI HERMANO NARRA MI RUTINA DE MAQUILLAJE\\nhttp...\n",
              "...            ...  ...                                                ...\n",
              "40446  r63VBOagGAo  ...  Portugal's Football Team Official SongLyrics: ...\n",
              "40447  i7r_kMbyngk  ...  AMLO llegÃ³ con su esposa al Tercer Debate en ...\n",
              "40448  _jnwjdMe3Zo  ...  Maire usa una blusa kawaii de Alicia en el paÃ...\n",
              "40449  pAH9omNAWA4  ...                                                NaN\n",
              "40450  dj5Z4jTE3-c  ...  Hoy os traigo el preguntas y respuestas 104 de...\n",
              "\n",
              "[40451 rows x 16 columns]>"
            ]
          },
          "metadata": {},
          "execution_count": 40
        }
      ]
    },
    {
      "cell_type": "code",
      "metadata": {
        "colab": {
          "base_uri": "https://localhost:8080/",
          "height": 300
        },
        "id": "CvmMCS-sseMQ",
        "outputId": "cb2bca82-489b-40dc-f17a-0821e5197094"
      },
      "source": [
        "df.describe() #solo de variablesnumericas\n",
        "#se muestra valores maximos mas altas por eso la mediana es diferente a la media"
      ],
      "execution_count": null,
      "outputs": [
        {
          "output_type": "execute_result",
          "data": {
            "text/html": [
              "<div>\n",
              "<style scoped>\n",
              "    .dataframe tbody tr th:only-of-type {\n",
              "        vertical-align: middle;\n",
              "    }\n",
              "\n",
              "    .dataframe tbody tr th {\n",
              "        vertical-align: top;\n",
              "    }\n",
              "\n",
              "    .dataframe thead th {\n",
              "        text-align: right;\n",
              "    }\n",
              "</style>\n",
              "<table border=\"1\" class=\"dataframe\">\n",
              "  <thead>\n",
              "    <tr style=\"text-align: right;\">\n",
              "      <th></th>\n",
              "      <th>category_id</th>\n",
              "      <th>views</th>\n",
              "      <th>likes</th>\n",
              "      <th>dislikes</th>\n",
              "      <th>comment_count</th>\n",
              "    </tr>\n",
              "  </thead>\n",
              "  <tbody>\n",
              "    <tr>\n",
              "      <th>count</th>\n",
              "      <td>40451.000000</td>\n",
              "      <td>4.045100e+04</td>\n",
              "      <td>4.045100e+04</td>\n",
              "      <td>4.045100e+04</td>\n",
              "      <td>40451.000000</td>\n",
              "    </tr>\n",
              "    <tr>\n",
              "      <th>mean</th>\n",
              "      <td>21.003140</td>\n",
              "      <td>3.423820e+05</td>\n",
              "      <td>1.586184e+04</td>\n",
              "      <td>7.471604e+02</td>\n",
              "      <td>2039.660008</td>\n",
              "    </tr>\n",
              "    <tr>\n",
              "      <th>std</th>\n",
              "      <td>5.878995</td>\n",
              "      <td>1.714691e+06</td>\n",
              "      <td>8.108987e+04</td>\n",
              "      <td>1.095358e+04</td>\n",
              "      <td>13938.031797</td>\n",
              "    </tr>\n",
              "    <tr>\n",
              "      <th>min</th>\n",
              "      <td>1.000000</td>\n",
              "      <td>1.570000e+02</td>\n",
              "      <td>0.000000e+00</td>\n",
              "      <td>0.000000e+00</td>\n",
              "      <td>0.000000</td>\n",
              "    </tr>\n",
              "    <tr>\n",
              "      <th>25%</th>\n",
              "      <td>20.000000</td>\n",
              "      <td>1.681300e+04</td>\n",
              "      <td>2.990000e+02</td>\n",
              "      <td>1.700000e+01</td>\n",
              "      <td>42.000000</td>\n",
              "    </tr>\n",
              "    <tr>\n",
              "      <th>50%</th>\n",
              "      <td>24.000000</td>\n",
              "      <td>5.697300e+04</td>\n",
              "      <td>1.246000e+03</td>\n",
              "      <td>6.300000e+01</td>\n",
              "      <td>196.000000</td>\n",
              "    </tr>\n",
              "    <tr>\n",
              "      <th>75%</th>\n",
              "      <td>24.000000</td>\n",
              "      <td>2.068940e+05</td>\n",
              "      <td>7.226000e+03</td>\n",
              "      <td>2.670000e+02</td>\n",
              "      <td>885.000000</td>\n",
              "    </tr>\n",
              "    <tr>\n",
              "      <th>max</th>\n",
              "      <td>43.000000</td>\n",
              "      <td>1.009124e+08</td>\n",
              "      <td>4.470923e+06</td>\n",
              "      <td>1.353667e+06</td>\n",
              "      <td>905925.000000</td>\n",
              "    </tr>\n",
              "  </tbody>\n",
              "</table>\n",
              "</div>"
            ],
            "text/plain": [
              "        category_id         views         likes      dislikes  comment_count\n",
              "count  40451.000000  4.045100e+04  4.045100e+04  4.045100e+04   40451.000000\n",
              "mean      21.003140  3.423820e+05  1.586184e+04  7.471604e+02    2039.660008\n",
              "std        5.878995  1.714691e+06  8.108987e+04  1.095358e+04   13938.031797\n",
              "min        1.000000  1.570000e+02  0.000000e+00  0.000000e+00       0.000000\n",
              "25%       20.000000  1.681300e+04  2.990000e+02  1.700000e+01      42.000000\n",
              "50%       24.000000  5.697300e+04  1.246000e+03  6.300000e+01     196.000000\n",
              "75%       24.000000  2.068940e+05  7.226000e+03  2.670000e+02     885.000000\n",
              "max       43.000000  1.009124e+08  4.470923e+06  1.353667e+06  905925.000000"
            ]
          },
          "metadata": {},
          "execution_count": 42
        }
      ]
    },
    {
      "cell_type": "code",
      "metadata": {
        "colab": {
          "base_uri": "https://localhost:8080/",
          "height": 295
        },
        "id": "EZ6CCZEVtDkx",
        "outputId": "ad0bd16e-a103-42ef-9997-0aa54b6e5e2a"
      },
      "source": [
        "df.views.hist()"
      ],
      "execution_count": null,
      "outputs": [
        {
          "output_type": "execute_result",
          "data": {
            "text/plain": [
              "<matplotlib.axes._subplots.AxesSubplot at 0x7f1795a36310>"
            ]
          },
          "metadata": {},
          "execution_count": 45
        },
        {
          "output_type": "display_data",
          "data": {
            "image/png": "[encoded data removed]",
            "text/plain": [
              "<Figure size 432x288 with 1 Axes>"
            ]
          },
          "metadata": {
            "needs_background": "light"
          }
        }
      ]
    },
    {
      "cell_type": "code",
      "metadata": {
        "colab": {
          "base_uri": "https://localhost:8080/"
        },
        "id": "Eeys6yrktiKv",
        "outputId": "138b421c-4999-4596-842b-f37bdcb291c9"
      },
      "source": [
        "print('promedio',df.views.values.mean())\n",
        "print('desvest',df.views.values.std())"
      ],
      "execution_count": null,
      "outputs": [
        {
          "output_type": "stream",
          "name": "stdout",
          "text": [
            "promedio 342381.9681590072\n",
            "desvest 1714669.4862000106\n"
          ]
        }
      ]
    },
    {
      "cell_type": "markdown",
      "metadata": {
        "id": "CqQKP5E-LoOO"
      },
      "source": [
        "## Correlaciones\n",
        "No se encontro la forma de hacer correlaciones con mas de tres vairables a la vez (pendiente de averiguar)"
      ]
    },
    {
      "cell_type": "code",
      "metadata": {
        "id": "AXbmfxxBuhEV"
      },
      "source": [
        "#corelacion entre las vistas y los likes\n",
        "np.corrcoef(df.views, df.likes, df.dislikes)\n"
      ],
      "execution_count": null,
      "outputs": []
    },
    {
      "cell_type": "code",
      "metadata": {
        "id": "VeA4i474xHiJ"
      },
      "source": [
        "import matplotlib.pyplot as plt"
      ],
      "execution_count": null,
      "outputs": []
    },
    {
      "cell_type": "code",
      "metadata": {
        "colab": {
          "base_uri": "https://localhost:8080/",
          "height": 306
        },
        "id": "-PL2mazcvnmG",
        "outputId": "f46cffc0-dda9-41ed-e529-2900becbe1ca"
      },
      "source": [
        "plt.scatter(df.views, df.likes,c=df.category_id, s=5 ,alpha=0.5)\n",
        "plt.legend(df.category_id)"
      ],
      "execution_count": null,
      "outputs": [
        {
          "output_type": "execute_result",
          "data": {
            "text/plain": [
              "<matplotlib.legend.Legend at 0x7f1794fa2710>"
            ]
          },
          "metadata": {},
          "execution_count": 74
        },
        {
          "output_type": "display_data",
          "data": {
            "image/png": "[encoded data removed]",
            "text/plain": [
              "<Figure size 432x288 with 1 Axes>"
            ]
          },
          "metadata": {
            "needs_background": "light"
          }
        }
      ]
    }
  ]
}