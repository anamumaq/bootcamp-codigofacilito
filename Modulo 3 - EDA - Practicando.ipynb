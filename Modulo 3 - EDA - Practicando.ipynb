{
  "nbformat": 4,
  "nbformat_minor": 0,
  "metadata": {
    "kernelspec": {
      "language": "python",
      "display_name": "Python 3",
      "name": "python3"
    },
    "language_info": {
      "name": "python",
      "version": "3.7.10",
      "mimetype": "text/x-python",
      "codemirror_mode": {
        "name": "ipython",
        "version": 3
      },
      "pygments_lexer": "ipython3",
      "nbconvert_exporter": "python",
      "file_extension": ".py"
    },
    "colab": {
      "name": "analyzing-top-categories.ipynb",
      "provenance": []
    }
  },
  "cells": [
    {
      "cell_type": "code",
      "metadata": {
        "_uuid": "8f2839f25d086af736a60e9eeb907d3b93b6e0e5",
        "_cell_guid": "b1076dfc-b9ad-4769-8c92-a6c4dae69d19",
        "execution": {
          "iopub.status.busy": "2021-11-28T17:47:53.085368Z",
          "iopub.execute_input": "2021-11-28T17:47:53.085784Z",
          "iopub.status.idle": "2021-11-28T17:47:53.128513Z",
          "shell.execute_reply.started": "2021-11-28T17:47:53.085676Z",
          "shell.execute_reply": "2021-11-28T17:47:53.127552Z"
        },
        "trusted": true,
        "id": "LqeqTpQQecGQ"
      },
      "source": [
        "# This Python 3 environment comes with many helpful analytics libraries installed\n",
        "# It is defined by the kaggle/python Docker image: https://github.com/kaggle/docker-python\n",
        "# For example, here's several helpful packages to load\n",
        "\n",
        "import numpy as np # linear algebra\n",
        "import pandas as pd # data processing, CSV file I/O (e.g. pd.read_csv)\n",
        "\n",
        "# Input data files are available in the read-only \"../input/\" directory\n",
        "# For example, running this (by clicking run or pressing Shift+Enter) will list all files under the input directory\n",
        "\n",
        "import os\n",
        "for dirname, _, filenames in os.walk('/kaggle/input'):\n",
        "    for filename in filenames:\n",
        "        print(os.path.join(dirname, filename))\n",
        "\n",
        "# You can write up to 20GB to the current directory (/kaggle/working/) that gets preserved as output when you create a version using \"Save & Run All\" \n",
        "# You can also write temporary files to /kaggle/temp/, but they won't be saved outside of the current session"
      ],
      "execution_count": 1,
      "outputs": []
    },
    {
      "cell_type": "markdown",
      "metadata": {
        "id": "Z5dUmUJEecGT"
      },
      "source": [
        "# Upload CSV with only MX info"
      ]
    },
    {
      "cell_type": "code",
      "metadata": {
        "execution": {
          "iopub.status.busy": "2021-11-28T17:49:23.736434Z",
          "iopub.execute_input": "2021-11-28T17:49:23.737105Z",
          "iopub.status.idle": "2021-11-28T17:49:25.893300Z",
          "shell.execute_reply.started": "2021-11-28T17:49:23.737062Z",
          "shell.execute_reply": "2021-11-28T17:49:25.892392Z"
        },
        "trusted": true,
        "id": "HZ-AyWmJecGV"
      },
      "source": [
        "df_mx = pd.read_csv('../input/youtube-new/MXvideos.csv', engine='python', encoding = 'latin1')\n",
        "df_mx.info()"
      ],
      "execution_count": null,
      "outputs": []
    },
    {
      "cell_type": "code",
      "metadata": {
        "execution": {
          "iopub.status.busy": "2021-11-28T17:49:33.217436Z",
          "iopub.execute_input": "2021-11-28T17:49:33.218124Z",
          "iopub.status.idle": "2021-11-28T17:49:33.330321Z",
          "shell.execute_reply.started": "2021-11-28T17:49:33.218078Z",
          "shell.execute_reply": "2021-11-28T17:49:33.329630Z"
        },
        "trusted": true,
        "id": "RbpMIOu6ecGW"
      },
      "source": [
        "#Change Category Title as str\n",
        "df_mx['category_id'] = df_mx['category_id'].astype('str')\n",
        "df_mx.info()"
      ],
      "execution_count": null,
      "outputs": []
    },
    {
      "cell_type": "code",
      "metadata": {
        "execution": {
          "iopub.status.busy": "2021-11-28T17:50:21.899711Z",
          "iopub.execute_input": "2021-11-28T17:50:21.900804Z",
          "iopub.status.idle": "2021-11-28T17:50:21.928088Z",
          "shell.execute_reply.started": "2021-11-28T17:50:21.900738Z",
          "shell.execute_reply": "2021-11-28T17:50:21.927146Z"
        },
        "trusted": true,
        "id": "xcDPaUB1ecGX"
      },
      "source": [
        "df_mx.head()"
      ],
      "execution_count": null,
      "outputs": []
    },
    {
      "cell_type": "markdown",
      "metadata": {
        "id": "hgthxV-vecGX"
      },
      "source": [
        "## Cargo el json con los datos de categoria de MX"
      ]
    },
    {
      "cell_type": "code",
      "metadata": {
        "execution": {
          "iopub.status.busy": "2021-11-28T17:50:54.978741Z",
          "iopub.execute_input": "2021-11-28T17:50:54.979030Z",
          "iopub.status.idle": "2021-11-28T17:50:54.984129Z",
          "shell.execute_reply.started": "2021-11-28T17:50:54.978993Z",
          "shell.execute_reply": "2021-11-28T17:50:54.983517Z"
        },
        "trusted": true,
        "id": "e0NvvYEXecGY"
      },
      "source": [
        "import json\n",
        "# leo el json\n",
        "with open('../input/youtube-new/MX_category_id.json') as f:\n",
        "    data = json.load(f)"
      ],
      "execution_count": null,
      "outputs": []
    },
    {
      "cell_type": "markdown",
      "metadata": {
        "id": "0l7hHlo-ecGZ"
      },
      "source": [
        "* parto las categorias y el index que quiero, estos tienen forma de diccionario"
      ]
    },
    {
      "cell_type": "code",
      "metadata": {
        "execution": {
          "iopub.status.busy": "2021-11-28T17:50:58.888685Z",
          "iopub.execute_input": "2021-11-28T17:50:58.889519Z",
          "iopub.status.idle": "2021-11-28T17:50:58.893555Z",
          "shell.execute_reply.started": "2021-11-28T17:50:58.889461Z",
          "shell.execute_reply": "2021-11-28T17:50:58.892654Z"
        },
        "trusted": true,
        "id": "L5AXuAoYecGa"
      },
      "source": [
        "cats = {}\n",
        "for item in data['items']:\n",
        "    cats[item['id']] = item['snippet']['title']"
      ],
      "execution_count": null,
      "outputs": []
    },
    {
      "cell_type": "markdown",
      "metadata": {
        "id": "Btmdg7WPecGb"
      },
      "source": [
        "* Transformo el el diccionario a DF para oder unirlo con el df original"
      ]
    },
    {
      "cell_type": "code",
      "metadata": {
        "execution": {
          "iopub.status.busy": "2021-11-28T17:51:52.782005Z",
          "iopub.execute_input": "2021-11-28T17:51:52.782313Z",
          "iopub.status.idle": "2021-11-28T17:51:52.793387Z",
          "shell.execute_reply.started": "2021-11-28T17:51:52.782275Z",
          "shell.execute_reply": "2021-11-28T17:51:52.792461Z"
        },
        "trusted": true,
        "id": "ALtLPA_JecGb"
      },
      "source": [
        "df_cat_mx = pd.DataFrame().from_dict(cats, orient='index')\n",
        "df_cat_mx.head()"
      ],
      "execution_count": null,
      "outputs": []
    },
    {
      "cell_type": "markdown",
      "metadata": {
        "id": "OT5mSz1wecGc"
      },
      "source": [
        "* Cambio los nombres de las columnas para hacer mas facil el merge"
      ]
    },
    {
      "cell_type": "code",
      "metadata": {
        "execution": {
          "iopub.status.busy": "2021-11-28T17:52:06.571332Z",
          "iopub.execute_input": "2021-11-28T17:52:06.571613Z",
          "iopub.status.idle": "2021-11-28T17:52:06.578434Z",
          "shell.execute_reply.started": "2021-11-28T17:52:06.571570Z",
          "shell.execute_reply": "2021-11-28T17:52:06.577127Z"
        },
        "trusted": true,
        "id": "9BuTwu2OecGc"
      },
      "source": [
        "df_cat_mx = df_cat_mx.rename_axis('category_id').reset_index()"
      ],
      "execution_count": null,
      "outputs": []
    },
    {
      "cell_type": "code",
      "metadata": {
        "execution": {
          "iopub.status.busy": "2021-11-28T17:52:11.841875Z",
          "iopub.execute_input": "2021-11-28T17:52:11.842148Z",
          "iopub.status.idle": "2021-11-28T17:52:11.864147Z",
          "shell.execute_reply.started": "2021-11-28T17:52:11.842116Z",
          "shell.execute_reply": "2021-11-28T17:52:11.863118Z"
        },
        "trusted": true,
        "id": "GZ0oy_w_ecGc"
      },
      "source": [
        "df_cat_mx.rename(columns ={0:'categoria'},inplace=True)\n",
        "df_cat_mx.info()\n",
        "df_cat_mx"
      ],
      "execution_count": null,
      "outputs": []
    },
    {
      "cell_type": "markdown",
      "metadata": {
        "id": "Jgcjl_aHecGd"
      },
      "source": [
        "#### Inserto una celda con category_id 29 para poder hacer elmerge y no queda vacio"
      ]
    },
    {
      "cell_type": "code",
      "metadata": {
        "execution": {
          "iopub.status.busy": "2021-11-28T17:52:22.093243Z",
          "iopub.execute_input": "2021-11-28T17:52:22.093547Z",
          "iopub.status.idle": "2021-11-28T17:52:22.109744Z",
          "shell.execute_reply.started": "2021-11-28T17:52:22.093514Z",
          "shell.execute_reply": "2021-11-28T17:52:22.108690Z"
        },
        "trusted": true,
        "id": "JqhIucoLecGd"
      },
      "source": [
        "df_cat_mx.loc[31] = ['29','Otros']\n",
        "df_cat_mx"
      ],
      "execution_count": null,
      "outputs": []
    },
    {
      "cell_type": "markdown",
      "metadata": {
        "id": "l2UxQHbMecGd"
      },
      "source": [
        "# Merge in order to have name of categories"
      ]
    },
    {
      "cell_type": "code",
      "metadata": {
        "execution": {
          "iopub.status.busy": "2021-11-28T18:10:49.134438Z",
          "iopub.execute_input": "2021-11-28T18:10:49.134846Z",
          "iopub.status.idle": "2021-11-28T18:10:49.285473Z",
          "shell.execute_reply.started": "2021-11-28T18:10:49.134805Z",
          "shell.execute_reply": "2021-11-28T18:10:49.284619Z"
        },
        "trusted": true,
        "id": "ivrM8HB4ecGe"
      },
      "source": [
        "df = pd.merge(df_mx, df_cat_mx, on = 'category_id', how = 'left')\n",
        "df.info()"
      ],
      "execution_count": null,
      "outputs": []
    },
    {
      "cell_type": "markdown",
      "metadata": {
        "id": "uY-iCf7qecGe"
      },
      "source": [
        "### Detectando si hay null en el dataset\n",
        "* Solo hay null en algunas descripciones, que en este analisis no los voy a usar"
      ]
    },
    {
      "cell_type": "code",
      "metadata": {
        "execution": {
          "iopub.status.busy": "2021-11-28T18:10:58.858655Z",
          "iopub.execute_input": "2021-11-28T18:10:58.858948Z",
          "iopub.status.idle": "2021-11-28T18:10:58.921151Z",
          "shell.execute_reply.started": "2021-11-28T18:10:58.858915Z",
          "shell.execute_reply": "2021-11-28T18:10:58.920347Z"
        },
        "trusted": true,
        "id": "m8JQvIVcecGe"
      },
      "source": [
        "df.isnull().sum()"
      ],
      "execution_count": null,
      "outputs": []
    },
    {
      "cell_type": "markdown",
      "metadata": {
        "id": "ciJ14jEWecGf"
      },
      "source": [
        "## Generate final dataset only whith features that i need"
      ]
    },
    {
      "cell_type": "code",
      "metadata": {
        "execution": {
          "iopub.status.busy": "2021-11-28T18:11:58.699025Z",
          "iopub.execute_input": "2021-11-28T18:11:58.699297Z",
          "iopub.status.idle": "2021-11-28T18:11:58.749655Z",
          "shell.execute_reply.started": "2021-11-28T18:11:58.699269Z",
          "shell.execute_reply": "2021-11-28T18:11:58.748799Z"
        },
        "trusted": true,
        "id": "oCfXj_D3ecGf"
      },
      "source": [
        "# Dataset final \n",
        "\n",
        "df = df.drop(columns = ['trending_date','category_id','publish_time','tags','thumbnail_link','video_error_or_removed','description'])\n",
        "df.head()"
      ],
      "execution_count": null,
      "outputs": []
    },
    {
      "cell_type": "markdown",
      "metadata": {
        "id": "9_AzRsrxecGg"
      },
      "source": [
        "# Starting EDA"
      ]
    },
    {
      "cell_type": "markdown",
      "metadata": {
        "id": "B6gX1zprecGg"
      },
      "source": [
        "#### 1. Numerical features \n",
        "* 4 variables numericas\n",
        "* 40k + registros\n",
        "* On views 50%Q lower than mean \n",
        "* Very high desvest"
      ]
    },
    {
      "cell_type": "code",
      "metadata": {
        "execution": {
          "iopub.status.busy": "2021-11-28T18:12:14.572496Z",
          "iopub.execute_input": "2021-11-28T18:12:14.573236Z",
          "iopub.status.idle": "2021-11-28T18:12:14.606430Z",
          "shell.execute_reply.started": "2021-11-28T18:12:14.573199Z",
          "shell.execute_reply": "2021-11-28T18:12:14.605643Z"
        },
        "trusted": true,
        "id": "okMY2ekgecGh"
      },
      "source": [
        "df.describe().round(1)"
      ],
      "execution_count": null,
      "outputs": []
    },
    {
      "cell_type": "markdown",
      "metadata": {
        "id": "DOoD8EH5ecGh"
      },
      "source": [
        "### 2. Categorical features\n",
        "* video_id is unique\n",
        "* Many titles are duplicate\n",
        "* Most view channel Cracks\n",
        "* Most view category Entertainment"
      ]
    },
    {
      "cell_type": "code",
      "metadata": {
        "execution": {
          "iopub.status.busy": "2021-11-28T18:12:22.171992Z",
          "iopub.execute_input": "2021-11-28T18:12:22.172316Z",
          "iopub.status.idle": "2021-11-28T18:12:22.280249Z",
          "shell.execute_reply.started": "2021-11-28T18:12:22.172280Z",
          "shell.execute_reply": "2021-11-28T18:12:22.279375Z"
        },
        "trusted": true,
        "id": "HWzbGDXwecGh"
      },
      "source": [
        "df.describe(include = 'object')"
      ],
      "execution_count": null,
      "outputs": []
    },
    {
      "cell_type": "markdown",
      "metadata": {
        "id": "LK1Y4LUHecGh"
      },
      "source": [
        "#### Videos by title\n",
        "* Al parecer hay videos que tienen el mismo nombre pero diferente ID"
      ]
    },
    {
      "cell_type": "code",
      "metadata": {
        "execution": {
          "iopub.status.busy": "2021-11-28T18:47:14.252298Z",
          "iopub.execute_input": "2021-11-28T18:47:14.252642Z",
          "iopub.status.idle": "2021-11-28T18:47:14.360241Z",
          "shell.execute_reply.started": "2021-11-28T18:47:14.252608Z",
          "shell.execute_reply": "2021-11-28T18:47:14.359628Z"
        },
        "trusted": true,
        "id": "ZdsyynDFecGh"
      },
      "source": [
        "df.groupby(\n",
        "    'title')['title'].count().sort_values(ascending = False).head(10)"
      ],
      "execution_count": null,
      "outputs": []
    },
    {
      "cell_type": "markdown",
      "metadata": {
        "id": "RIkpHnbCecGh"
      },
      "source": [
        "### Deleting duplicates, sorted by numb of views (most viewed = lastdate)"
      ]
    },
    {
      "cell_type": "code",
      "metadata": {
        "execution": {
          "iopub.status.busy": "2021-11-28T18:48:59.723722Z",
          "iopub.execute_input": "2021-11-28T18:48:59.724047Z",
          "iopub.status.idle": "2021-11-28T18:48:59.771117Z",
          "shell.execute_reply.started": "2021-11-28T18:48:59.724017Z",
          "shell.execute_reply": "2021-11-28T18:48:59.770480Z"
        },
        "trusted": true,
        "id": "_pRWZle2ecGi"
      },
      "source": [
        "df = df.sort_values('views', ascending = False).drop_duplicates(subset = 'title')"
      ],
      "execution_count": null,
      "outputs": []
    },
    {
      "cell_type": "markdown",
      "metadata": {
        "id": "n7BdKZJ5ecGi"
      },
      "source": [
        "### 3. Outlider\n"
      ]
    },
    {
      "cell_type": "code",
      "metadata": {
        "execution": {
          "iopub.status.busy": "2021-11-28T18:12:41.293801Z",
          "iopub.execute_input": "2021-11-28T18:12:41.294254Z",
          "iopub.status.idle": "2021-11-28T18:12:42.780180Z",
          "shell.execute_reply.started": "2021-11-28T18:12:41.294218Z",
          "shell.execute_reply": "2021-11-28T18:12:42.779224Z"
        },
        "trusted": true,
        "id": "BmhMqw1eecGi"
      },
      "source": [
        "import plotly.express as px"
      ],
      "execution_count": null,
      "outputs": []
    },
    {
      "cell_type": "markdown",
      "metadata": {
        "id": "sLKYtvFvecGi"
      },
      "source": [
        "* The histogram show us that views are right-skewed"
      ]
    },
    {
      "cell_type": "code",
      "metadata": {
        "execution": {
          "iopub.status.busy": "2021-11-28T18:49:08.605148Z",
          "iopub.execute_input": "2021-11-28T18:49:08.606012Z",
          "iopub.status.idle": "2021-11-28T18:49:08.932097Z",
          "shell.execute_reply.started": "2021-11-28T18:49:08.605968Z",
          "shell.execute_reply": "2021-11-28T18:49:08.931385Z"
        },
        "trusted": true,
        "id": "vn_FnNMYecGi"
      },
      "source": [
        "px.histogram(df,x= 'views')"
      ],
      "execution_count": null,
      "outputs": []
    },
    {
      "cell_type": "markdown",
      "metadata": {
        "id": "gvrwe6VTecGi"
      },
      "source": [
        "* Ploting only the first 25% quantile"
      ]
    },
    {
      "cell_type": "code",
      "metadata": {
        "execution": {
          "iopub.status.busy": "2021-11-28T18:49:13.603359Z",
          "iopub.execute_input": "2021-11-28T18:49:13.603673Z",
          "iopub.status.idle": "2021-11-28T18:49:13.704177Z",
          "shell.execute_reply.started": "2021-11-28T18:49:13.603636Z",
          "shell.execute_reply": "2021-11-28T18:49:13.703274Z"
        },
        "trusted": true,
        "id": "pIGAz4usecGj"
      },
      "source": [
        "v_1q  = df[df['views'] <= np.quantile(df['views'],0.25)]\n",
        "px.histogram(v_1q,x= 'views',nbins=90)"
      ],
      "execution_count": null,
      "outputs": []
    },
    {
      "cell_type": "markdown",
      "metadata": {
        "id": "jfM6J21hecGj"
      },
      "source": [
        "* Ploting only the second 25% quantile"
      ]
    },
    {
      "cell_type": "code",
      "metadata": {
        "execution": {
          "iopub.status.busy": "2021-11-28T18:49:18.684031Z",
          "iopub.execute_input": "2021-11-28T18:49:18.684997Z",
          "iopub.status.idle": "2021-11-28T18:49:18.784363Z",
          "shell.execute_reply.started": "2021-11-28T18:49:18.684949Z",
          "shell.execute_reply": "2021-11-28T18:49:18.783368Z"
        },
        "trusted": true,
        "id": "lRvvIA8wecGj"
      },
      "source": [
        "v_2q  = df[(df['views'] > np.quantile(df['views'],0.25)) & (df['views'] <= np.quantile(df['views'],0.50))]\n",
        "px.histogram(v_2q,x= 'views',nbins=90)"
      ],
      "execution_count": null,
      "outputs": []
    },
    {
      "cell_type": "markdown",
      "metadata": {
        "id": "PGc1kIXsecGj"
      },
      "source": [
        "* Ploting only the third 25% quantile"
      ]
    },
    {
      "cell_type": "code",
      "metadata": {
        "execution": {
          "iopub.status.busy": "2021-11-28T18:49:22.976996Z",
          "iopub.execute_input": "2021-11-28T18:49:22.977255Z",
          "iopub.status.idle": "2021-11-28T18:49:23.076774Z",
          "shell.execute_reply.started": "2021-11-28T18:49:22.977228Z",
          "shell.execute_reply": "2021-11-28T18:49:23.076174Z"
        },
        "trusted": true,
        "id": "Px6_6WT8ecGj"
      },
      "source": [
        "v_3q  = df[(df['views'] > np.quantile(df['views'],0.50)) & (df['views'] <= np.quantile(df['views'],0.75))]\n",
        "px.histogram(v_3q,x= 'views',nbins=90)"
      ],
      "execution_count": null,
      "outputs": []
    },
    {
      "cell_type": "markdown",
      "metadata": {
        "id": "m_EBl17secGj"
      },
      "source": [
        "* Ploting only the last 25% quantile"
      ]
    },
    {
      "cell_type": "code",
      "metadata": {
        "execution": {
          "iopub.status.busy": "2021-11-28T18:49:27.404089Z",
          "iopub.execute_input": "2021-11-28T18:49:27.404709Z",
          "iopub.status.idle": "2021-11-28T18:49:27.504539Z",
          "shell.execute_reply.started": "2021-11-28T18:49:27.404634Z",
          "shell.execute_reply": "2021-11-28T18:49:27.503562Z"
        },
        "trusted": true,
        "id": "cMbRcz2LecGk"
      },
      "source": [
        "v_4q  = df[(df['views'] > np.quantile(df['views'],0.75)) & (df['views'] <= np.quantile(df['views'],0.99))]\n",
        "px.histogram(v_4q,x= 'views',nbins=90)"
      ],
      "execution_count": null,
      "outputs": []
    },
    {
      "cell_type": "markdown",
      "metadata": {
        "id": "ZIvi6vOkecGk"
      },
      "source": [
        "* The last 25% quartile is still big, so i decide to use only the 10% bigger"
      ]
    },
    {
      "cell_type": "code",
      "metadata": {
        "execution": {
          "iopub.status.busy": "2021-11-28T20:50:30.907005Z",
          "iopub.execute_input": "2021-11-28T20:50:30.907342Z",
          "iopub.status.idle": "2021-11-28T20:50:30.999156Z",
          "shell.execute_reply.started": "2021-11-28T20:50:30.907308Z",
          "shell.execute_reply": "2021-11-28T20:50:30.998049Z"
        },
        "trusted": true,
        "id": "HIr7nIs5ecGk"
      },
      "source": [
        "v_5q  = df[(df['views'] > np.quantile(df['views'],0.90)) & (df['views'] <= np.quantile(df['views'],0.99))]\n",
        "px.histogram(v_5q,x = 'views',nbins=90)"
      ],
      "execution_count": null,
      "outputs": []
    },
    {
      "cell_type": "markdown",
      "metadata": {
        "id": "6Y0hmtZZecGk"
      },
      "source": [
        "### Boxplot only for the 10%\n",
        "* There are some categories that doesnt have extremaly outliders, maybe those videos have the same behaviour\n",
        "* Im going to analyze the behaviour of ** Autos & Vehicles, Science & Tecnology, Education, Pets & animals and Travel & Events**\n",
        "* i'm going to analyze MUSIC out of the group that i choosed\n",
        "* Im excluing Otros because i dont know the  real category of that\n"
      ]
    },
    {
      "cell_type": "code",
      "metadata": {
        "execution": {
          "iopub.status.busy": "2021-11-28T21:00:41.850065Z",
          "iopub.execute_input": "2021-11-28T21:00:41.851273Z",
          "iopub.status.idle": "2021-11-28T21:00:41.984378Z",
          "shell.execute_reply.started": "2021-11-28T21:00:41.851228Z",
          "shell.execute_reply": "2021-11-28T21:00:41.983515Z"
        },
        "trusted": true,
        "id": "ID4aK2ACecGk"
      },
      "source": [
        "px.box(v_4q, y = 'views', x ='categoria' ) "
      ],
      "execution_count": null,
      "outputs": []
    },
    {
      "cell_type": "markdown",
      "metadata": {
        "id": "fsPr8H1necGl"
      },
      "source": [
        "# Creating new df for categories that i choose\n",
        "* Add %likes, %dislike and %comment in order to have better viz"
      ]
    },
    {
      "cell_type": "code",
      "metadata": {
        "execution": {
          "iopub.status.busy": "2021-11-28T21:01:02.489679Z",
          "iopub.execute_input": "2021-11-28T21:01:02.489959Z",
          "iopub.status.idle": "2021-11-28T21:01:02.497982Z",
          "shell.execute_reply.started": "2021-11-28T21:01:02.489930Z",
          "shell.execute_reply": "2021-11-28T21:01:02.496996Z"
        },
        "trusted": true,
        "id": "49Ur4Ij_ecGl"
      },
      "source": [
        "df_a = v_4q[v_4q['categoria'].isin(\n",
        "    ['Autos & Vehicles','Science & Technology','Education','Pets & Animals','Travel & Events'])]"
      ],
      "execution_count": null,
      "outputs": []
    },
    {
      "cell_type": "code",
      "metadata": {
        "execution": {
          "iopub.status.busy": "2021-11-28T21:01:05.845388Z",
          "iopub.execute_input": "2021-11-28T21:01:05.845841Z",
          "iopub.status.idle": "2021-11-28T21:01:05.856695Z",
          "shell.execute_reply.started": "2021-11-28T21:01:05.845798Z",
          "shell.execute_reply": "2021-11-28T21:01:05.855661Z"
        },
        "trusted": true,
        "id": "PC0AR4clecGl"
      },
      "source": [
        "df_a['p_likes'] = round((df_a['likes']/df_a['views'])*100,2)\n",
        "df_a['p_dislikes'] = round((df_a['dislikes']/df_a['views'])*100,2)\n",
        "df_a['p_comment'] = round((df_a['comment_count']/df_a['views'])*100,2)"
      ],
      "execution_count": null,
      "outputs": []
    },
    {
      "cell_type": "markdown",
      "metadata": {
        "id": "qkdLgjfeecGl"
      },
      "source": [
        "\n",
        "## Top Videos\n",
        "\n",
        "### Videos by Category\n",
        "* Categories that i choosed before have less videos but big views impact"
      ]
    },
    {
      "cell_type": "code",
      "metadata": {
        "execution": {
          "iopub.status.busy": "2021-11-28T20:51:32.265772Z",
          "iopub.execute_input": "2021-11-28T20:51:32.266076Z",
          "iopub.status.idle": "2021-11-28T20:51:32.287137Z",
          "shell.execute_reply.started": "2021-11-28T20:51:32.266041Z",
          "shell.execute_reply": "2021-11-28T20:51:32.286516Z"
        },
        "trusted": true,
        "id": "inynG6FCecGl"
      },
      "source": [
        "df.groupby('categoria')['categoria'].agg('count').sort_values(ascending = False)"
      ],
      "execution_count": null,
      "outputs": []
    },
    {
      "cell_type": "markdown",
      "metadata": {
        "id": "0DZb5IpcecGl"
      },
      "source": [
        "##### Videos by Channel - top 10"
      ]
    },
    {
      "cell_type": "code",
      "metadata": {
        "execution": {
          "iopub.status.busy": "2021-11-28T21:01:15.846668Z",
          "iopub.execute_input": "2021-11-28T21:01:15.847474Z",
          "iopub.status.idle": "2021-11-28T21:01:15.856730Z",
          "shell.execute_reply.started": "2021-11-28T21:01:15.847433Z",
          "shell.execute_reply": "2021-11-28T21:01:15.855769Z"
        },
        "trusted": true,
        "id": "Tl7yWSTgecGl"
      },
      "source": [
        "df_a.groupby(\n",
        "    'channel_title')['channel_title'].count().sort_values(ascending = False).head(10)"
      ],
      "execution_count": null,
      "outputs": []
    },
    {
      "cell_type": "markdown",
      "metadata": {
        "id": "QqibGE0JecGm"
      },
      "source": [
        "\n",
        "\n"
      ]
    },
    {
      "cell_type": "markdown",
      "metadata": {
        "id": "WkymyEqdecGm"
      },
      "source": [
        "# Analyzing only categories selected\n",
        "\n",
        "* Means of principal variables by category\n",
        "* comment's percentage have the same behaviour in all categories\n",
        "* dislike's percentage have the same behaviour in all categories\n",
        "* categories with more views have less like's percentage"
      ]
    },
    {
      "cell_type": "code",
      "metadata": {
        "execution": {
          "iopub.status.busy": "2021-11-28T21:01:21.046245Z",
          "iopub.execute_input": "2021-11-28T21:01:21.046551Z",
          "iopub.status.idle": "2021-11-28T21:01:21.068213Z",
          "shell.execute_reply.started": "2021-11-28T21:01:21.046514Z",
          "shell.execute_reply": "2021-11-28T21:01:21.067191Z"
        },
        "trusted": true,
        "id": "XBTDW116ecGm"
      },
      "source": [
        "df_a.groupby(\n",
        "    'categoria')[['views','p_likes','p_dislikes','p_comment']].mean().round(1).sort_values('views', ascending = False) "
      ],
      "execution_count": null,
      "outputs": []
    },
    {
      "cell_type": "code",
      "metadata": {
        "execution": {
          "iopub.status.busy": "2021-11-28T20:52:08.385123Z",
          "iopub.execute_input": "2021-11-28T20:52:08.386026Z",
          "iopub.status.idle": "2021-11-28T20:52:08.621209Z",
          "shell.execute_reply.started": "2021-11-28T20:52:08.385982Z",
          "shell.execute_reply": "2021-11-28T20:52:08.620358Z"
        },
        "trusted": true,
        "id": "RLabiLK4ecGm"
      },
      "source": [
        "px.histogram(df_a, x = 'p_comment',color = 'categoria')\n",
        "px.histogram(df_a, x = 'p_dislikes',color = 'categoria')\n",
        "px.histogram(df_a, x = 'p_likes',color = 'categoria')"
      ],
      "execution_count": null,
      "outputs": []
    },
    {
      "cell_type": "code",
      "metadata": {
        "execution": {
          "iopub.status.busy": "2021-11-28T21:02:20.046559Z",
          "iopub.execute_input": "2021-11-28T21:02:20.046876Z",
          "iopub.status.idle": "2021-11-28T21:02:20.202611Z",
          "shell.execute_reply.started": "2021-11-28T21:02:20.046845Z",
          "shell.execute_reply": "2021-11-28T21:02:20.201757Z"
        },
        "trusted": true,
        "id": "GHPlMIg5ecGm"
      },
      "source": [
        "px.histogram(df_a, x = 'p_likes',facet_col = 'categoria',facet_col_wrap=1).update_yaxes(matches=None)"
      ],
      "execution_count": null,
      "outputs": []
    },
    {
      "cell_type": "code",
      "metadata": {
        "execution": {
          "iopub.status.busy": "2021-11-28T21:01:43.366947Z",
          "iopub.execute_input": "2021-11-28T21:01:43.367246Z",
          "iopub.status.idle": "2021-11-28T21:01:43.524302Z",
          "shell.execute_reply.started": "2021-11-28T21:01:43.367212Z",
          "shell.execute_reply": "2021-11-28T21:01:43.523367Z"
        },
        "trusted": true,
        "id": "igX12k_fecGm"
      },
      "source": [
        "px.scatter(df_a,'views','p_likes', facet_col=\"categoria\",facet_col_wrap=5).update_yaxes(matches=None).update_xaxes(matches=None)"
      ],
      "execution_count": null,
      "outputs": []
    },
    {
      "cell_type": "code",
      "metadata": {
        "execution": {
          "iopub.status.busy": "2021-11-28T21:09:52.086432Z",
          "iopub.execute_input": "2021-11-28T21:09:52.087269Z",
          "iopub.status.idle": "2021-11-28T21:09:52.172769Z",
          "shell.execute_reply.started": "2021-11-28T21:09:52.087220Z",
          "shell.execute_reply": "2021-11-28T21:09:52.172029Z"
        },
        "trusted": true,
        "id": "uHaRZqSqecGn"
      },
      "source": [
        "px.scatter(df_a,'views','p_likes', color = 'categoria')"
      ],
      "execution_count": null,
      "outputs": []
    },
    {
      "cell_type": "code",
      "metadata": {
        "execution": {
          "iopub.status.busy": "2021-11-28T21:10:24.637706Z",
          "iopub.execute_input": "2021-11-28T21:10:24.638548Z",
          "iopub.status.idle": "2021-11-28T21:10:24.657415Z",
          "shell.execute_reply.started": "2021-11-28T21:10:24.638508Z",
          "shell.execute_reply": "2021-11-28T21:10:24.656294Z"
        },
        "trusted": true,
        "id": "dI4NlU0zecGn"
      },
      "source": [
        "df_a[df_a.ratings_disabled == True]"
      ],
      "execution_count": null,
      "outputs": []
    }
  ]
}