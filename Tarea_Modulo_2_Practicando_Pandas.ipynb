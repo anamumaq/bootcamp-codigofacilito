{
  "nbformat": 4,
  "nbformat_minor": 0,
  "metadata": {
    "colab": {
      "name": "Tarea Modulo 2 - Practicando Pandas",
      "provenance": [],
      "collapsed_sections": [],
      "authorship_tag": "ABX9TyNoweO+NA5m4uDLqQh9Xx2T"
    },
    "kernelspec": {
      "name": "python3",
      "display_name": "Python 3"
    },
    "language_info": {
      "name": "python"
    }
  },
  "cells": [
    {
      "cell_type": "markdown",
      "metadata": {
        "id": "orfRKu2YKOFp"
      },
      "source": [
        "![WhatsApp Image 2021-11-20 at 20.44.02.jpeg](data:image/jpeg;base64,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)"
      ]
    },
    {
      "cell_type": "code",
      "metadata": {
        "id": "eNM9s_C7GJJf"
      },
      "source": [
        "# importaciones xd\n",
        "import numpy as np\n",
        "import pandas as pd\n"
      ],
      "execution_count": 2,
      "outputs": []
    },
    {
      "cell_type": "markdown",
      "metadata": {
        "id": "esfEv3TsQ1Mh"
      },
      "source": [
        "## Importando el Dataset"
      ]
    },
    {
      "cell_type": "code",
      "metadata": {
        "id": "yY9raWDOQ4-R"
      },
      "source": [
        "url = 'https://raw.githubusercontent.com/codigofacilito/pandas-python/master/users.csv'\n",
        "df = pd.read_csv(url, index_col=0)"
      ],
      "execution_count": 3,
      "outputs": []
    },
    {
      "cell_type": "markdown",
      "metadata": {
        "id": "29hmauhAQhIL"
      },
      "source": [
        "## Antes de hacer los ejercicios, revisamos algunas caracteristicas del dataset"
      ]
    },
    {
      "cell_type": "code",
      "metadata": {
        "colab": {
          "base_uri": "https://localhost:8080/",
          "height": 206
        },
        "id": "D1bsuGDYQorS",
        "outputId": "4293e149-357e-417b-d914-f8ba035b4d2c"
      },
      "source": [
        "df.head()"
      ],
      "execution_count": null,
      "outputs": [
        {
          "output_type": "execute_result",
          "data": {
            "text/html": [
              "<div>\n",
              "<style scoped>\n",
              "    .dataframe tbody tr th:only-of-type {\n",
              "        vertical-align: middle;\n",
              "    }\n",
              "\n",
              "    .dataframe tbody tr th {\n",
              "        vertical-align: top;\n",
              "    }\n",
              "\n",
              "    .dataframe thead th {\n",
              "        text-align: right;\n",
              "    }\n",
              "</style>\n",
              "<table border=\"1\" class=\"dataframe\">\n",
              "  <thead>\n",
              "    <tr style=\"text-align: right;\">\n",
              "      <th></th>\n",
              "      <th>nombre</th>\n",
              "      <th>edad</th>\n",
              "      <th>genero</th>\n",
              "      <th>pais</th>\n",
              "      <th>email</th>\n",
              "    </tr>\n",
              "  </thead>\n",
              "  <tbody>\n",
              "    <tr>\n",
              "      <th>0</th>\n",
              "      <td>Mr Jerome Thomas</td>\n",
              "      <td>73</td>\n",
              "      <td>male</td>\n",
              "      <td>United States</td>\n",
              "      <td>jerome.thomas@example.com</td>\n",
              "    </tr>\n",
              "    <tr>\n",
              "      <th>1</th>\n",
              "      <td>Mr Gary Berry</td>\n",
              "      <td>70</td>\n",
              "      <td>male</td>\n",
              "      <td>United Kingdom</td>\n",
              "      <td>gary.berry@example.com</td>\n",
              "    </tr>\n",
              "    <tr>\n",
              "      <th>2</th>\n",
              "      <td>Mr Noham Dubois</td>\n",
              "      <td>40</td>\n",
              "      <td>male</td>\n",
              "      <td>France</td>\n",
              "      <td>noham.dubois@example.com</td>\n",
              "    </tr>\n",
              "    <tr>\n",
              "      <th>3</th>\n",
              "      <td>Mrs Naja Johansen</td>\n",
              "      <td>63</td>\n",
              "      <td>female</td>\n",
              "      <td>Denmark</td>\n",
              "      <td>naja.johansen@example.com</td>\n",
              "    </tr>\n",
              "    <tr>\n",
              "      <th>4</th>\n",
              "      <td>Mr Damien Marchand</td>\n",
              "      <td>61</td>\n",
              "      <td>male</td>\n",
              "      <td>France</td>\n",
              "      <td>damien.marchand@example.com</td>\n",
              "    </tr>\n",
              "  </tbody>\n",
              "</table>\n",
              "</div>"
            ],
            "text/plain": [
              "               nombre  edad  ...            pais                        email\n",
              "0    Mr Jerome Thomas    73  ...   United States    jerome.thomas@example.com\n",
              "1       Mr Gary Berry    70  ...  United Kingdom       gary.berry@example.com\n",
              "2     Mr Noham Dubois    40  ...          France     noham.dubois@example.com\n",
              "3   Mrs Naja Johansen    63  ...         Denmark    naja.johansen@example.com\n",
              "4  Mr Damien Marchand    61  ...          France  damien.marchand@example.com\n",
              "\n",
              "[5 rows x 5 columns]"
            ]
          },
          "metadata": {},
          "execution_count": 123
        }
      ]
    },
    {
      "cell_type": "code",
      "metadata": {
        "colab": {
          "base_uri": "https://localhost:8080/"
        },
        "id": "TDJZeegHdHRk",
        "outputId": "88be6299-dd89-4dbf-a3f3-6c37ff4486ab"
      },
      "source": [
        "df.count()"
      ],
      "execution_count": null,
      "outputs": [
        {
          "output_type": "execute_result",
          "data": {
            "text/plain": [
              "nombre    200\n",
              "edad      200\n",
              "genero    200\n",
              "pais      200\n",
              "email     200\n",
              "dtype: int64"
            ]
          },
          "metadata": {},
          "execution_count": 122
        }
      ]
    },
    {
      "cell_type": "code",
      "metadata": {
        "colab": {
          "base_uri": "https://localhost:8080/",
          "height": 394
        },
        "id": "_4VR8F-Qbcul",
        "outputId": "96b2fb6c-eb45-428e-8baa-0dcc51fd3fa6"
      },
      "source": [
        "df.describe(include='all')"
      ],
      "execution_count": null,
      "outputs": [
        {
          "output_type": "execute_result",
          "data": {
            "text/html": [
              "<div>\n",
              "<style scoped>\n",
              "    .dataframe tbody tr th:only-of-type {\n",
              "        vertical-align: middle;\n",
              "    }\n",
              "\n",
              "    .dataframe tbody tr th {\n",
              "        vertical-align: top;\n",
              "    }\n",
              "\n",
              "    .dataframe thead th {\n",
              "        text-align: right;\n",
              "    }\n",
              "</style>\n",
              "<table border=\"1\" class=\"dataframe\">\n",
              "  <thead>\n",
              "    <tr style=\"text-align: right;\">\n",
              "      <th></th>\n",
              "      <th>nombre</th>\n",
              "      <th>edad</th>\n",
              "      <th>genero</th>\n",
              "      <th>pais</th>\n",
              "      <th>email</th>\n",
              "    </tr>\n",
              "  </thead>\n",
              "  <tbody>\n",
              "    <tr>\n",
              "      <th>count</th>\n",
              "      <td>200</td>\n",
              "      <td>200.000000</td>\n",
              "      <td>200</td>\n",
              "      <td>200</td>\n",
              "      <td>200</td>\n",
              "    </tr>\n",
              "    <tr>\n",
              "      <th>unique</th>\n",
              "      <td>197</td>\n",
              "      <td>NaN</td>\n",
              "      <td>2</td>\n",
              "      <td>17</td>\n",
              "      <td>197</td>\n",
              "    </tr>\n",
              "    <tr>\n",
              "      <th>top</th>\n",
              "      <td>Mr Gary Berry</td>\n",
              "      <td>NaN</td>\n",
              "      <td>female</td>\n",
              "      <td>Ireland</td>\n",
              "      <td>gary.berry@example.com</td>\n",
              "    </tr>\n",
              "    <tr>\n",
              "      <th>freq</th>\n",
              "      <td>4</td>\n",
              "      <td>NaN</td>\n",
              "      <td>106</td>\n",
              "      <td>16</td>\n",
              "      <td>4</td>\n",
              "    </tr>\n",
              "    <tr>\n",
              "      <th>mean</th>\n",
              "      <td>NaN</td>\n",
              "      <td>48.020000</td>\n",
              "      <td>NaN</td>\n",
              "      <td>NaN</td>\n",
              "      <td>NaN</td>\n",
              "    </tr>\n",
              "    <tr>\n",
              "      <th>std</th>\n",
              "      <td>NaN</td>\n",
              "      <td>16.197884</td>\n",
              "      <td>NaN</td>\n",
              "      <td>NaN</td>\n",
              "      <td>NaN</td>\n",
              "    </tr>\n",
              "    <tr>\n",
              "      <th>min</th>\n",
              "      <td>NaN</td>\n",
              "      <td>22.000000</td>\n",
              "      <td>NaN</td>\n",
              "      <td>NaN</td>\n",
              "      <td>NaN</td>\n",
              "    </tr>\n",
              "    <tr>\n",
              "      <th>25%</th>\n",
              "      <td>NaN</td>\n",
              "      <td>32.750000</td>\n",
              "      <td>NaN</td>\n",
              "      <td>NaN</td>\n",
              "      <td>NaN</td>\n",
              "    </tr>\n",
              "    <tr>\n",
              "      <th>50%</th>\n",
              "      <td>NaN</td>\n",
              "      <td>49.000000</td>\n",
              "      <td>NaN</td>\n",
              "      <td>NaN</td>\n",
              "      <td>NaN</td>\n",
              "    </tr>\n",
              "    <tr>\n",
              "      <th>75%</th>\n",
              "      <td>NaN</td>\n",
              "      <td>62.000000</td>\n",
              "      <td>NaN</td>\n",
              "      <td>NaN</td>\n",
              "      <td>NaN</td>\n",
              "    </tr>\n",
              "    <tr>\n",
              "      <th>max</th>\n",
              "      <td>NaN</td>\n",
              "      <td>75.000000</td>\n",
              "      <td>NaN</td>\n",
              "      <td>NaN</td>\n",
              "      <td>NaN</td>\n",
              "    </tr>\n",
              "  </tbody>\n",
              "</table>\n",
              "</div>"
            ],
            "text/plain": [
              "               nombre        edad  genero     pais                   email\n",
              "count             200  200.000000     200      200                     200\n",
              "unique            197         NaN       2       17                     197\n",
              "top     Mr Gary Berry         NaN  female  Ireland  gary.berry@example.com\n",
              "freq                4         NaN     106       16                       4\n",
              "mean              NaN   48.020000     NaN      NaN                     NaN\n",
              "std               NaN   16.197884     NaN      NaN                     NaN\n",
              "min               NaN   22.000000     NaN      NaN                     NaN\n",
              "25%               NaN   32.750000     NaN      NaN                     NaN\n",
              "50%               NaN   49.000000     NaN      NaN                     NaN\n",
              "75%               NaN   62.000000     NaN      NaN                     NaN\n",
              "max               NaN   75.000000     NaN      NaN                     NaN"
            ]
          },
          "metadata": {},
          "execution_count": 121
        }
      ]
    },
    {
      "cell_type": "code",
      "metadata": {
        "colab": {
          "base_uri": "https://localhost:8080/"
        },
        "id": "Qz56N6Lqg8Uy",
        "outputId": "f9402aae-9a9f-487b-baa6-a24c192050b2"
      },
      "source": [
        "df[pd.isnull(df) == True].count()"
      ],
      "execution_count": null,
      "outputs": [
        {
          "output_type": "execute_result",
          "data": {
            "text/plain": [
              "nombre    0\n",
              "edad      0\n",
              "genero    0\n",
              "pais      0\n",
              "email     0\n",
              "dtype: int64"
            ]
          },
          "metadata": {},
          "execution_count": 5
        }
      ]
    },
    {
      "cell_type": "markdown",
      "metadata": {
        "id": "KcJerzlxhPjb"
      },
      "source": [
        "*Conclusiones*\n",
        "\n",
        "* Tenemos informacion de nombre, edad, genero, pais & email\n",
        "* Hay 200 registros sin valores NaN o null\n",
        "* Hay 197 valores unicos en nombres, otros 4 se repiten\n",
        "* El nombre que mas se repite es Mr Gary Berry\n",
        "* Hay 2 valores en genero y hay mas females\n",
        "* Hay 17 paises y mas de ireland"
      ]
    },
    {
      "cell_type": "markdown",
      "metadata": {
        "id": "W8JxY1cBRME1"
      },
      "source": [
        "## Ejercicios"
      ]
    },
    {
      "cell_type": "markdown",
      "metadata": {
        "id": "_XrOUs07QQCr"
      },
      "source": [
        "###  1. Mostrar en consola el nombre de todos los usuarios que no poseen un correo electronico"
      ]
    },
    {
      "cell_type": "code",
      "metadata": {
        "colab": {
          "base_uri": "https://localhost:8080/"
        },
        "id": "p10fsCd4iW7b",
        "outputId": "38f7df27-c47c-4777-d8cd-a2a68d5e5445"
      },
      "source": [
        "df[pd.isnull(df.email) == True].nombre\n",
        "## No hay nombres sin email\n",
        "# otra forma\n",
        "df[ df['email'].isnull() ]['nombre']"
      ],
      "execution_count": 5,
      "outputs": [
        {
          "output_type": "execute_result",
          "data": {
            "text/plain": [
              "Series([], Name: nombre, dtype: object)"
            ]
          },
          "metadata": {},
          "execution_count": 5
        }
      ]
    },
    {
      "cell_type": "markdown",
      "metadata": {
        "id": "d7pyQYy-jb9x"
      },
      "source": [
        "### 2. Listar el nombre y correo del usuario mas joven de Canada"
      ]
    },
    {
      "cell_type": "code",
      "metadata": {
        "colab": {
          "base_uri": "https://localhost:8080/"
        },
        "id": "Yf69_TRUwXn8",
        "outputId": "ad4fb240-8dc0-41aa-90e7-7c5f8f8da39d"
      },
      "source": [
        "df[df.pais == 'Canada'].min()[['nombre','email']].values"
      ],
      "execution_count": 6,
      "outputs": [
        {
          "output_type": "execute_result",
          "data": {
            "text/plain": [
              "array(['Miss Julia Ambrose', 'anthony.wong@example.com'], dtype=object)"
            ]
          },
          "metadata": {},
          "execution_count": 6
        }
      ]
    },
    {
      "cell_type": "markdown",
      "metadata": {
        "id": "Iox0tNzSjihJ"
      },
      "source": [
        "### 3. Listar el nombre y correo de los usuarios mas jovenes de Germany y Canada"
      ]
    },
    {
      "cell_type": "code",
      "metadata": {
        "colab": {
          "base_uri": "https://localhost:8080/",
          "height": 112
        },
        "id": "XL6pGgDYynCb",
        "outputId": "ba196ec9-2ca0-486e-e6a8-8d7f1c9b4e1d"
      },
      "source": [
        "#en este caso tengo suerte que los dos primeros sean germany y canada y no hayan mas edades minimas\n",
        "df[df.pais.isin(['Germany','Canada'])].sort_values(by = 'edad')[['nombre','email']].head(2)\n",
        "\n",
        "## Otras Soluciones\n",
        "# Hacel filtro por separado y luego unir\n",
        "canada = df[df['pais']=='Canada'].sort_values(by='edad')[['nombre','email']].head(1)\n",
        "germany = df[df['pais']=='Germany'].sort_values(by='edad')[['nombre','email']].head(1)\n",
        "\n",
        "canada.append(germany)\n",
        "\n",
        "# Solucion con funcion y luego unir\n",
        "def el_mas_joven (df, pais):\n",
        "  edad_joven = df[df['pais'] == pais]['edad'].min()\n",
        "  pais_edad = df[(df['pais'] == pais) & (df['edad'] == edad_joven)][['nombre','email']]\n",
        "  return pais_edad\n",
        "\n",
        "\n",
        "el_mas_joven(df, 'Canada').append(el_mas_joven(df, 'Germany'))"
      ],
      "execution_count": 23,
      "outputs": [
        {
          "output_type": "execute_result",
          "data": {
            "text/html": [
              "<div>\n",
              "<style scoped>\n",
              "    .dataframe tbody tr th:only-of-type {\n",
              "        vertical-align: middle;\n",
              "    }\n",
              "\n",
              "    .dataframe tbody tr th {\n",
              "        vertical-align: top;\n",
              "    }\n",
              "\n",
              "    .dataframe thead th {\n",
              "        text-align: right;\n",
              "    }\n",
              "</style>\n",
              "<table border=\"1\" class=\"dataframe\">\n",
              "  <thead>\n",
              "    <tr style=\"text-align: right;\">\n",
              "      <th></th>\n",
              "      <th>nombre</th>\n",
              "      <th>email</th>\n",
              "    </tr>\n",
              "  </thead>\n",
              "  <tbody>\n",
              "    <tr>\n",
              "      <th>184</th>\n",
              "      <td>Mr Philip Bélanger</td>\n",
              "      <td>philip.belanger@example.com</td>\n",
              "    </tr>\n",
              "    <tr>\n",
              "      <th>88</th>\n",
              "      <td>Mrs Hilda Epp</td>\n",
              "      <td>hilda.epp@example.com</td>\n",
              "    </tr>\n",
              "  </tbody>\n",
              "</table>\n",
              "</div>"
            ],
            "text/plain": [
              "                 nombre                        email\n",
              "184  Mr Philip Bélanger  philip.belanger@example.com\n",
              "88        Mrs Hilda Epp        hilda.epp@example.com"
            ]
          },
          "metadata": {},
          "execution_count": 23
        }
      ]
    },
    {
      "cell_type": "markdown",
      "metadata": {
        "id": "9qTEVvHTjqaC"
      },
      "source": [
        "### 4. Listar los 5 paises con mayor cantidad de usuarios"
      ]
    },
    {
      "cell_type": "code",
      "metadata": {
        "colab": {
          "base_uri": "https://localhost:8080/"
        },
        "id": "5lRzf_K_t3Tl",
        "outputId": "15226aad-b477-4b9e-8263-1b60719c33f4"
      },
      "source": [
        "df.groupby('pais')['pais'].count().sort_values(ascending = False).head(5)\n",
        "\n",
        "# Otra forma con values counts\n",
        "df.value_counts(df['pais']).head(5)\n",
        "\n",
        "df['country'].value_counts.head(5)"
      ],
      "execution_count": 25,
      "outputs": [
        {
          "output_type": "execute_result",
          "data": {
            "text/plain": [
              "pais\n",
              "Ireland           16\n",
              "Denmark           16\n",
              "United Kingdom    15\n",
              "Norway            14\n",
              "New Zealand       14\n",
              "dtype: int64"
            ]
          },
          "metadata": {},
          "execution_count": 25
        }
      ]
    },
    {
      "cell_type": "markdown",
      "metadata": {
        "id": "SDuv8jc8jwHZ"
      },
      "source": [
        "### 5. Obtener el pais con mas usuarios"
      ]
    },
    {
      "cell_type": "code",
      "metadata": {
        "colab": {
          "base_uri": "https://localhost:8080/",
          "height": 35
        },
        "id": "2eC8uXlKvKqw",
        "outputId": "06d4f5be-f46b-466b-9aa1-445ce79375e0"
      },
      "source": [
        "df.groupby('pais')['pais'].count().sort_values(ascending = False).head(1)\n",
        "\n",
        "#Otra forma\n",
        "df['pais'].value_counts().head(1)\n",
        "df['pais'].value_counts().idxmax()"
      ],
      "execution_count": 67,
      "outputs": [
        {
          "output_type": "execute_result",
          "data": {
            "application/vnd.google.colaboratory.intrinsic+json": {
              "type": "string"
            },
            "text/plain": [
              "'Ireland'"
            ]
          },
          "metadata": {},
          "execution_count": 67
        }
      ]
    },
    {
      "cell_type": "markdown",
      "metadata": {
        "id": "1UbOqh_fj04Z"
      },
      "source": [
        "### 6. Obtener el pais con mas usuarios cuya edad sea mayor a 50"
      ]
    },
    {
      "cell_type": "code",
      "metadata": {
        "colab": {
          "base_uri": "https://localhost:8080/",
          "height": 35
        },
        "id": "r_i2QMM7vtrd",
        "outputId": "19ef4254-a40d-4328-e043-d7d4ada16114"
      },
      "source": [
        "df[df.edad > 50].groupby('pais')['pais'].count().sort_values(ascending = False).head(1)\n",
        "\n",
        "# otra forma\n",
        "df[df['edad']>50]['pais'].value_counts().idxmax()"
      ],
      "execution_count": 65,
      "outputs": [
        {
          "output_type": "execute_result",
          "data": {
            "application/vnd.google.colaboratory.intrinsic+json": {
              "type": "string"
            },
            "text/plain": [
              "'Iran'"
            ]
          },
          "metadata": {},
          "execution_count": 65
        }
      ]
    },
    {
      "cell_type": "markdown",
      "metadata": {
        "id": "C0xKx5msj50B"
      },
      "source": [
        "### 7. Obtener la suma total de todos los usuarios de Canada y Germany"
      ]
    },
    {
      "cell_type": "code",
      "metadata": {
        "colab": {
          "base_uri": "https://localhost:8080/"
        },
        "id": "XIBsylzF43cy",
        "outputId": "53d916db-49bc-4f66-b5b6-3047d45d9091"
      },
      "source": [
        "df[df.pais.isin(['Canada','Germany'])]['pais'].count()"
      ],
      "execution_count": 66,
      "outputs": [
        {
          "output_type": "execute_result",
          "data": {
            "text/plain": [
              "21"
            ]
          },
          "metadata": {},
          "execution_count": 66
        }
      ]
    },
    {
      "cell_type": "markdown",
      "metadata": {
        "id": "AtwfdrxakAwq"
      },
      "source": [
        "### 8. Mostrar en la consola la cantidad de paises en el dataset"
      ]
    },
    {
      "cell_type": "code",
      "metadata": {
        "colab": {
          "base_uri": "https://localhost:8080/"
        },
        "id": "DLWlPNob5bZh",
        "outputId": "12d272f1-78a5-4877-d8b7-f79917dd109d"
      },
      "source": [
        "df.groupby('pais')['pais'].unique().count()\n",
        "\n",
        "len(df.groupby('pais')['pais'].unique())"
      ],
      "execution_count": 70,
      "outputs": [
        {
          "output_type": "execute_result",
          "data": {
            "text/plain": [
              "17"
            ]
          },
          "metadata": {},
          "execution_count": 70
        }
      ]
    },
    {
      "cell_type": "markdown",
      "metadata": {
        "id": "0JGXrC8ykIVZ"
      },
      "source": [
        "### 9. Obtener el promedio de edad de cada uno de los paises"
      ]
    },
    {
      "cell_type": "code",
      "metadata": {
        "colab": {
          "base_uri": "https://localhost:8080/",
          "height": 645
        },
        "id": "SfLrOh426Py_",
        "outputId": "177b7a5a-561c-4614-9edc-99d6ac431f34"
      },
      "source": [
        "df.groupby('pais')['edad'].mean().round(1)\n",
        "\n",
        "# Otra forma\n",
        "df.groupby('pais').agg({'edad':['mean']})"
      ],
      "execution_count": 73,
      "outputs": [
        {
          "output_type": "execute_result",
          "data": {
            "text/html": [
              "<div>\n",
              "<style scoped>\n",
              "    .dataframe tbody tr th:only-of-type {\n",
              "        vertical-align: middle;\n",
              "    }\n",
              "\n",
              "    .dataframe tbody tr th {\n",
              "        vertical-align: top;\n",
              "    }\n",
              "\n",
              "    .dataframe thead tr th {\n",
              "        text-align: left;\n",
              "    }\n",
              "\n",
              "    .dataframe thead tr:last-of-type th {\n",
              "        text-align: right;\n",
              "    }\n",
              "</style>\n",
              "<table border=\"1\" class=\"dataframe\">\n",
              "  <thead>\n",
              "    <tr>\n",
              "      <th></th>\n",
              "      <th>edad</th>\n",
              "    </tr>\n",
              "    <tr>\n",
              "      <th></th>\n",
              "      <th>mean</th>\n",
              "    </tr>\n",
              "    <tr>\n",
              "      <th>pais</th>\n",
              "      <th></th>\n",
              "    </tr>\n",
              "  </thead>\n",
              "  <tbody>\n",
              "    <tr>\n",
              "      <th>Australia</th>\n",
              "      <td>51.166667</td>\n",
              "    </tr>\n",
              "    <tr>\n",
              "      <th>Brazil</th>\n",
              "      <td>50.666667</td>\n",
              "    </tr>\n",
              "    <tr>\n",
              "      <th>Canada</th>\n",
              "      <td>38.583333</td>\n",
              "    </tr>\n",
              "    <tr>\n",
              "      <th>Denmark</th>\n",
              "      <td>48.812500</td>\n",
              "    </tr>\n",
              "    <tr>\n",
              "      <th>Finland</th>\n",
              "      <td>42.200000</td>\n",
              "    </tr>\n",
              "    <tr>\n",
              "      <th>France</th>\n",
              "      <td>48.900000</td>\n",
              "    </tr>\n",
              "    <tr>\n",
              "      <th>Germany</th>\n",
              "      <td>39.555556</td>\n",
              "    </tr>\n",
              "    <tr>\n",
              "      <th>Iran</th>\n",
              "      <td>54.230769</td>\n",
              "    </tr>\n",
              "    <tr>\n",
              "      <th>Ireland</th>\n",
              "      <td>42.000000</td>\n",
              "    </tr>\n",
              "    <tr>\n",
              "      <th>Netherlands</th>\n",
              "      <td>51.833333</td>\n",
              "    </tr>\n",
              "    <tr>\n",
              "      <th>New Zealand</th>\n",
              "      <td>49.071429</td>\n",
              "    </tr>\n",
              "    <tr>\n",
              "      <th>Norway</th>\n",
              "      <td>46.071429</td>\n",
              "    </tr>\n",
              "    <tr>\n",
              "      <th>Spain</th>\n",
              "      <td>56.615385</td>\n",
              "    </tr>\n",
              "    <tr>\n",
              "      <th>Switzerland</th>\n",
              "      <td>44.000000</td>\n",
              "    </tr>\n",
              "    <tr>\n",
              "      <th>Turkey</th>\n",
              "      <td>47.000000</td>\n",
              "    </tr>\n",
              "    <tr>\n",
              "      <th>United Kingdom</th>\n",
              "      <td>51.466667</td>\n",
              "    </tr>\n",
              "    <tr>\n",
              "      <th>United States</th>\n",
              "      <td>53.500000</td>\n",
              "    </tr>\n",
              "  </tbody>\n",
              "</table>\n",
              "</div>"
            ],
            "text/plain": [
              "                     edad\n",
              "                     mean\n",
              "pais                     \n",
              "Australia       51.166667\n",
              "Brazil          50.666667\n",
              "Canada          38.583333\n",
              "Denmark         48.812500\n",
              "Finland         42.200000\n",
              "France          48.900000\n",
              "Germany         39.555556\n",
              "Iran            54.230769\n",
              "Ireland         42.000000\n",
              "Netherlands     51.833333\n",
              "New Zealand     49.071429\n",
              "Norway          46.071429\n",
              "Spain           56.615385\n",
              "Switzerland     44.000000\n",
              "Turkey          47.000000\n",
              "United Kingdom  51.466667\n",
              "United States   53.500000"
            ]
          },
          "metadata": {},
          "execution_count": 73
        }
      ]
    },
    {
      "cell_type": "markdown",
      "metadata": {
        "id": "KwmZcAM_kNuZ"
      },
      "source": [
        "### 10. Mostrar en consola el pais con mas hombres"
      ]
    },
    {
      "cell_type": "code",
      "metadata": {
        "colab": {
          "base_uri": "https://localhost:8080/"
        },
        "id": "nIiEasqF6ua4",
        "outputId": "4b6ced5d-322f-4fb3-fac7-8d422c3f1a1a"
      },
      "source": [
        "df[df.genero == 'male'].groupby('pais')['pais'].count().sort_values(ascending=False).head(1)"
      ],
      "execution_count": 75,
      "outputs": [
        {
          "output_type": "execute_result",
          "data": {
            "text/plain": [
              "pais\n",
              "Ireland    10\n",
              "Name: pais, dtype: int64"
            ]
          },
          "metadata": {},
          "execution_count": 75
        }
      ]
    },
    {
      "cell_type": "markdown",
      "metadata": {
        "id": "pVNdzHCnv72V"
      },
      "source": [
        "### Extra: obtener los paises con mayor cantidad de usuarios"
      ]
    },
    {
      "cell_type": "code",
      "metadata": {
        "colab": {
          "base_uri": "https://localhost:8080/"
        },
        "id": "CpmjoA6bwISN",
        "outputId": "355ba998-af2c-4888-b9ec-aa1f9568b3ff"
      },
      "source": [
        "df['pais'].value_counts()[df['pais'].value_counts()== df['pais'].value_counts().max()]"
      ],
      "execution_count": 59,
      "outputs": [
        {
          "output_type": "execute_result",
          "data": {
            "text/plain": [
              "Ireland    16\n",
              "Denmark    16\n",
              "Name: pais, dtype: int64"
            ]
          },
          "metadata": {},
          "execution_count": 59
        }
      ]
    }
  ]
}