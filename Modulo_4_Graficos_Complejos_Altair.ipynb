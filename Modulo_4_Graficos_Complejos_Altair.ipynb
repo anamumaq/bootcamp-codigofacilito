{
 "cells": [
  {
   "cell_type": "markdown",
   "metadata": {},
   "source": [
    "### Gráficos Complejos con Altair"
   ]
  },
  {
   "cell_type": "code",
   "execution_count": 1,
   "metadata": {},
   "outputs": [],
   "source": [
    "import pandas as pd\n",
    "import altair as alt"
   ]
  },
  {
   "cell_type": "code",
   "execution_count": 2,
   "metadata": {},
   "outputs": [],
   "source": [
    "from vega_datasets import data as vega_data\n",
    "data = vega_data.gapminder()"
   ]
  },
  {
   "cell_type": "code",
   "execution_count": 3,
   "metadata": {},
   "outputs": [
    {
     "data": {
      "text/html": [
       "<div>\n",
       "<style scoped>\n",
       "    .dataframe tbody tr th:only-of-type {\n",
       "        vertical-align: middle;\n",
       "    }\n",
       "\n",
       "    .dataframe tbody tr th {\n",
       "        vertical-align: top;\n",
       "    }\n",
       "\n",
       "    .dataframe thead th {\n",
       "        text-align: right;\n",
       "    }\n",
       "</style>\n",
       "<table border=\"1\" class=\"dataframe\">\n",
       "  <thead>\n",
       "    <tr style=\"text-align: right;\">\n",
       "      <th></th>\n",
       "      <th>year</th>\n",
       "      <th>country</th>\n",
       "      <th>cluster</th>\n",
       "      <th>pop</th>\n",
       "      <th>life_expect</th>\n",
       "      <th>fertility</th>\n",
       "    </tr>\n",
       "  </thead>\n",
       "  <tbody>\n",
       "    <tr>\n",
       "      <th>0</th>\n",
       "      <td>1955</td>\n",
       "      <td>Afghanistan</td>\n",
       "      <td>0</td>\n",
       "      <td>8891209</td>\n",
       "      <td>30.332</td>\n",
       "      <td>7.7</td>\n",
       "    </tr>\n",
       "    <tr>\n",
       "      <th>1</th>\n",
       "      <td>1960</td>\n",
       "      <td>Afghanistan</td>\n",
       "      <td>0</td>\n",
       "      <td>9829450</td>\n",
       "      <td>31.997</td>\n",
       "      <td>7.7</td>\n",
       "    </tr>\n",
       "    <tr>\n",
       "      <th>2</th>\n",
       "      <td>1965</td>\n",
       "      <td>Afghanistan</td>\n",
       "      <td>0</td>\n",
       "      <td>10997885</td>\n",
       "      <td>34.020</td>\n",
       "      <td>7.7</td>\n",
       "    </tr>\n",
       "    <tr>\n",
       "      <th>3</th>\n",
       "      <td>1970</td>\n",
       "      <td>Afghanistan</td>\n",
       "      <td>0</td>\n",
       "      <td>12430623</td>\n",
       "      <td>36.088</td>\n",
       "      <td>7.7</td>\n",
       "    </tr>\n",
       "    <tr>\n",
       "      <th>4</th>\n",
       "      <td>1975</td>\n",
       "      <td>Afghanistan</td>\n",
       "      <td>0</td>\n",
       "      <td>14132019</td>\n",
       "      <td>38.438</td>\n",
       "      <td>7.7</td>\n",
       "    </tr>\n",
       "  </tbody>\n",
       "</table>\n",
       "</div>"
      ],
      "text/plain": [
       "   year      country  cluster       pop  life_expect  fertility\n",
       "0  1955  Afghanistan        0   8891209       30.332        7.7\n",
       "1  1960  Afghanistan        0   9829450       31.997        7.7\n",
       "2  1965  Afghanistan        0  10997885       34.020        7.7\n",
       "3  1970  Afghanistan        0  12430623       36.088        7.7\n",
       "4  1975  Afghanistan        0  14132019       38.438        7.7"
      ]
     },
     "execution_count": 3,
     "metadata": {},
     "output_type": "execute_result"
    }
   ],
   "source": [
    "data.head()"
   ]
  },
  {
   "cell_type": "code",
   "execution_count": 5,
   "metadata": {},
   "outputs": [
    {
     "name": "stdout",
     "output_type": "stream",
     "text": [
      "<class 'pandas.core.frame.DataFrame'>\n",
      "RangeIndex: 693 entries, 0 to 692\n",
      "Data columns (total 6 columns):\n",
      " #   Column       Non-Null Count  Dtype  \n",
      "---  ------       --------------  -----  \n",
      " 0   year         693 non-null    int64  \n",
      " 1   country      693 non-null    object \n",
      " 2   cluster      693 non-null    int64  \n",
      " 3   pop          693 non-null    int64  \n",
      " 4   life_expect  693 non-null    float64\n",
      " 5   fertility    693 non-null    float64\n",
      "dtypes: float64(2), int64(3), object(1)\n",
      "memory usage: 32.6+ KB\n"
     ]
    }
   ],
   "source": [
    "data.info()"
   ]
  },
  {
   "cell_type": "code",
   "execution_count": 6,
   "metadata": {},
   "outputs": [
    {
     "data": {
      "text/plain": [
       "(693, 6)"
      ]
     },
     "execution_count": 6,
     "metadata": {},
     "output_type": "execute_result"
    }
   ],
   "source": [
    "data.shape ## no va en parentesis porque no es una funcion, sino un atributo de la base"
   ]
  },
  {
   "cell_type": "code",
   "execution_count": 13,
   "metadata": {},
   "outputs": [
    {
     "data": {
      "text/plain": [
       "array(['Afghanistan', 'Argentina', 'Aruba', 'Australia', 'Austria',\n",
       "       'Bahamas', 'Bangladesh', 'Barbados', 'Belgium', 'Bolivia',\n",
       "       'Brazil', 'Canada', 'Chile', 'China', 'Colombia', 'Costa Rica',\n",
       "       'Croatia', 'Cuba', 'Dominican Republic', 'Ecuador', 'Egypt',\n",
       "       'El Salvador', 'Finland', 'France', 'Georgia', 'Germany', 'Greece',\n",
       "       'Grenada', 'Haiti', 'Hong Kong', 'Iceland', 'India', 'Indonesia',\n",
       "       'Iran', 'Iraq', 'Ireland', 'Israel', 'Italy', 'Jamaica', 'Japan',\n",
       "       'Kenya', 'South Korea', 'North Korea', 'Lebanon', 'Mexico',\n",
       "       'Netherlands', 'New Zealand', 'Nigeria', 'Norway', 'Pakistan',\n",
       "       'Peru', 'Philippines', 'Poland', 'Portugal', 'Rwanda',\n",
       "       'Saudi Arabia', 'South Africa', 'Spain', 'Switzerland', 'Turkey',\n",
       "       'United Kingdom', 'United States', 'Venezuela'], dtype=object)"
      ]
     },
     "execution_count": 13,
     "metadata": {},
     "output_type": "execute_result"
    }
   ],
   "source": [
    "data['country'].unique()"
   ]
  },
  {
   "cell_type": "markdown",
   "metadata": {},
   "source": [
    "#### Grafico de Barras"
   ]
  },
  {
   "cell_type": "markdown",
   "metadata": {},
   "source": [
    "Graficando la población de un país desde 1993 a la actualidad"
   ]
  },
  {
   "cell_type": "markdown",
   "metadata": {},
   "source": [
    "* filtro el pais del que quiero el grafico"
   ]
  },
  {
   "cell_type": "code",
   "execution_count": 4,
   "metadata": {},
   "outputs": [
    {
     "data": {
      "text/html": [
       "<div>\n",
       "<style scoped>\n",
       "    .dataframe tbody tr th:only-of-type {\n",
       "        vertical-align: middle;\n",
       "    }\n",
       "\n",
       "    .dataframe tbody tr th {\n",
       "        vertical-align: top;\n",
       "    }\n",
       "\n",
       "    .dataframe thead th {\n",
       "        text-align: right;\n",
       "    }\n",
       "</style>\n",
       "<table border=\"1\" class=\"dataframe\">\n",
       "  <thead>\n",
       "    <tr style=\"text-align: right;\">\n",
       "      <th></th>\n",
       "      <th>year</th>\n",
       "      <th>country</th>\n",
       "      <th>cluster</th>\n",
       "      <th>pop</th>\n",
       "      <th>life_expect</th>\n",
       "      <th>fertility</th>\n",
       "    </tr>\n",
       "  </thead>\n",
       "  <tbody>\n",
       "    <tr>\n",
       "      <th>550</th>\n",
       "      <td>1955</td>\n",
       "      <td>Peru</td>\n",
       "      <td>3</td>\n",
       "      <td>8671500</td>\n",
       "      <td>46.263</td>\n",
       "      <td>6.853</td>\n",
       "    </tr>\n",
       "    <tr>\n",
       "      <th>551</th>\n",
       "      <td>1960</td>\n",
       "      <td>Peru</td>\n",
       "      <td>3</td>\n",
       "      <td>9931000</td>\n",
       "      <td>49.096</td>\n",
       "      <td>6.853</td>\n",
       "    </tr>\n",
       "    <tr>\n",
       "      <th>552</th>\n",
       "      <td>1965</td>\n",
       "      <td>Peru</td>\n",
       "      <td>3</td>\n",
       "      <td>11467300</td>\n",
       "      <td>51.445</td>\n",
       "      <td>6.560</td>\n",
       "    </tr>\n",
       "    <tr>\n",
       "      <th>553</th>\n",
       "      <td>1970</td>\n",
       "      <td>Peru</td>\n",
       "      <td>3</td>\n",
       "      <td>13192800</td>\n",
       "      <td>55.448</td>\n",
       "      <td>6.000</td>\n",
       "    </tr>\n",
       "    <tr>\n",
       "      <th>554</th>\n",
       "      <td>1975</td>\n",
       "      <td>Peru</td>\n",
       "      <td>3</td>\n",
       "      <td>15161199</td>\n",
       "      <td>58.447</td>\n",
       "      <td>5.378</td>\n",
       "    </tr>\n",
       "  </tbody>\n",
       "</table>\n",
       "</div>"
      ],
      "text/plain": [
       "     year country  cluster       pop  life_expect  fertility\n",
       "550  1955    Peru        3   8671500       46.263      6.853\n",
       "551  1960    Peru        3   9931000       49.096      6.853\n",
       "552  1965    Peru        3  11467300       51.445      6.560\n",
       "553  1970    Peru        3  13192800       55.448      6.000\n",
       "554  1975    Peru        3  15161199       58.447      5.378"
      ]
     },
     "execution_count": 4,
     "metadata": {},
     "output_type": "execute_result"
    }
   ],
   "source": [
    "pais = 'Peru'\n",
    "datosdemipais = data[data['country']==pais]\n",
    "datosdemipais.head()"
   ]
  },
  {
   "cell_type": "code",
   "execution_count": 24,
   "metadata": {},
   "outputs": [
    {
     "data": {
      "text/html": [
       "\n",
       "<div id=\"altair-viz-7e296363b12c453cacbc13d65e74cbd3\"></div>\n",
       "<script type=\"text/javascript\">\n",
       "  (function(spec, embedOpt){\n",
       "    let outputDiv = document.currentScript.previousElementSibling;\n",
       "    if (outputDiv.id !== \"altair-viz-7e296363b12c453cacbc13d65e74cbd3\") {\n",
       "      outputDiv = document.getElementById(\"altair-viz-7e296363b12c453cacbc13d65e74cbd3\");\n",
       "    }\n",
       "    const paths = {\n",
       "      \"vega\": \"https://cdn.jsdelivr.net/npm//vega@5?noext\",\n",
       "      \"vega-lib\": \"https://cdn.jsdelivr.net/npm//vega-lib?noext\",\n",
       "      \"vega-lite\": \"https://cdn.jsdelivr.net/npm//vega-lite@4.8.1?noext\",\n",
       "      \"vega-embed\": \"https://cdn.jsdelivr.net/npm//vega-embed@6?noext\",\n",
       "    };\n",
       "\n",
       "    function loadScript(lib) {\n",
       "      return new Promise(function(resolve, reject) {\n",
       "        var s = document.createElement('script');\n",
       "        s.src = paths[lib];\n",
       "        s.async = true;\n",
       "        s.onload = () => resolve(paths[lib]);\n",
       "        s.onerror = () => reject(`Error loading script: ${paths[lib]}`);\n",
       "        document.getElementsByTagName(\"head\")[0].appendChild(s);\n",
       "      });\n",
       "    }\n",
       "\n",
       "    function showError(err) {\n",
       "      outputDiv.innerHTML = `<div class=\"error\" style=\"color:red;\">${err}</div>`;\n",
       "      throw err;\n",
       "    }\n",
       "\n",
       "    function displayChart(vegaEmbed) {\n",
       "      vegaEmbed(outputDiv, spec, embedOpt)\n",
       "        .catch(err => showError(`Javascript Error: ${err.message}<br>This usually means there's a typo in your chart specification. See the javascript console for the full traceback.`));\n",
       "    }\n",
       "\n",
       "    if(typeof define === \"function\" && define.amd) {\n",
       "      requirejs.config({paths});\n",
       "      require([\"vega-embed\"], displayChart, err => showError(`Error loading script: ${err.message}`));\n",
       "    } else if (typeof vegaEmbed === \"function\") {\n",
       "      displayChart(vegaEmbed);\n",
       "    } else {\n",
       "      loadScript(\"vega\")\n",
       "        .then(() => loadScript(\"vega-lite\"))\n",
       "        .then(() => loadScript(\"vega-embed\"))\n",
       "        .catch(showError)\n",
       "        .then(() => displayChart(vegaEmbed));\n",
       "    }\n",
       "  })({\"config\": {\"view\": {\"continuousWidth\": 400, \"continuousHeight\": 300}}, \"data\": {\"name\": \"data-039d72737d678ea4f743cc3d7515dffe\"}, \"mark\": {\"type\": \"bar\", \"color\": \"#ff4f19\", \"stroke\": \"#ff4f19\"}, \"encoding\": {\"x\": {\"type\": \"ordinal\", \"axis\": {\"labelAngle\": 0, \"labelFontSize\": 11}, \"field\": \"year\", \"title\": \"\"}, \"y\": {\"type\": \"quantitative\", \"axis\": null, \"field\": \"pop\", \"title\": \"\"}}, \"$schema\": \"https://vega.github.io/schema/vega-lite/v4.8.1.json\", \"datasets\": {\"data-039d72737d678ea4f743cc3d7515dffe\": [{\"year\": 1955, \"country\": \"Peru\", \"cluster\": 3, \"pop\": 8671500, \"life_expect\": 46.263, \"fertility\": 6.853}, {\"year\": 1960, \"country\": \"Peru\", \"cluster\": 3, \"pop\": 9931000, \"life_expect\": 49.096, \"fertility\": 6.853}, {\"year\": 1965, \"country\": \"Peru\", \"cluster\": 3, \"pop\": 11467300, \"life_expect\": 51.445, \"fertility\": 6.5600000000000005}, {\"year\": 1970, \"country\": \"Peru\", \"cluster\": 3, \"pop\": 13192800, \"life_expect\": 55.448, \"fertility\": 6.0}, {\"year\": 1975, \"country\": \"Peru\", \"cluster\": 3, \"pop\": 15161199, \"life_expect\": 58.447, \"fertility\": 5.378}, {\"year\": 1980, \"country\": \"Peru\", \"cluster\": 3, \"pop\": 17295298, \"life_expect\": 61.406, \"fertility\": 4.65}, {\"year\": 1985, \"country\": \"Peru\", \"cluster\": 3, \"pop\": 19348926, \"life_expect\": 64.134, \"fertility\": 4.1}, {\"year\": 1990, \"country\": \"Peru\", \"cluster\": 3, \"pop\": 21511443, \"life_expect\": 66.458, \"fertility\": 3.7}, {\"year\": 1995, \"country\": \"Peru\", \"cluster\": 3, \"pop\": 23846388, \"life_expect\": 68.386, \"fertility\": 3.0995}, {\"year\": 2000, \"country\": \"Peru\", \"cluster\": 3, \"pop\": 25979722, \"life_expect\": 69.906, \"fertility\": 2.7005}, {\"year\": 2005, \"country\": \"Peru\", \"cluster\": 3, \"pop\": 27925628, \"life_expect\": 71.421, \"fertility\": 2.5065}]}}, {\"mode\": \"vega-lite\"});\n",
       "</script>"
      ],
      "text/plain": [
       "alt.Chart(...)"
      ]
     },
     "execution_count": 24,
     "metadata": {},
     "output_type": "execute_result"
    }
   ],
   "source": [
    "barra = alt.Chart(\n",
    "    datosdemipais\n",
    "    ).mark_bar(\n",
    "        color='#ff4f19', stroke='#ff4f19' # Usa colores de D3 en codigo hex, stroke el borde y full el relleno\n",
    "    ).encode(\n",
    "        x = alt.X('year:O', \n",
    "            title='',#para que trate los datos como continuos uso Q para Categoricos us O\n",
    "            axis = alt.Axis(labelAngle=0, labelFontSize=11)), \n",
    "        y = alt.Y('pop:Q',\n",
    "            title='',\n",
    "            axis = None) #formato que tendra el eje, son varios mejor googlear. le quito las lineas\n",
    "    )\n",
    "barra"
   ]
  },
  {
   "cell_type": "code",
   "execution_count": 30,
   "metadata": {},
   "outputs": [
    {
     "data": {
      "text/html": [
       "\n",
       "<div id=\"altair-viz-90995365d27b4089915ee1e6e0487039\"></div>\n",
       "<script type=\"text/javascript\">\n",
       "  (function(spec, embedOpt){\n",
       "    let outputDiv = document.currentScript.previousElementSibling;\n",
       "    if (outputDiv.id !== \"altair-viz-90995365d27b4089915ee1e6e0487039\") {\n",
       "      outputDiv = document.getElementById(\"altair-viz-90995365d27b4089915ee1e6e0487039\");\n",
       "    }\n",
       "    const paths = {\n",
       "      \"vega\": \"https://cdn.jsdelivr.net/npm//vega@5?noext\",\n",
       "      \"vega-lib\": \"https://cdn.jsdelivr.net/npm//vega-lib?noext\",\n",
       "      \"vega-lite\": \"https://cdn.jsdelivr.net/npm//vega-lite@4.8.1?noext\",\n",
       "      \"vega-embed\": \"https://cdn.jsdelivr.net/npm//vega-embed@6?noext\",\n",
       "    };\n",
       "\n",
       "    function loadScript(lib) {\n",
       "      return new Promise(function(resolve, reject) {\n",
       "        var s = document.createElement('script');\n",
       "        s.src = paths[lib];\n",
       "        s.async = true;\n",
       "        s.onload = () => resolve(paths[lib]);\n",
       "        s.onerror = () => reject(`Error loading script: ${paths[lib]}`);\n",
       "        document.getElementsByTagName(\"head\")[0].appendChild(s);\n",
       "      });\n",
       "    }\n",
       "\n",
       "    function showError(err) {\n",
       "      outputDiv.innerHTML = `<div class=\"error\" style=\"color:red;\">${err}</div>`;\n",
       "      throw err;\n",
       "    }\n",
       "\n",
       "    function displayChart(vegaEmbed) {\n",
       "      vegaEmbed(outputDiv, spec, embedOpt)\n",
       "        .catch(err => showError(`Javascript Error: ${err.message}<br>This usually means there's a typo in your chart specification. See the javascript console for the full traceback.`));\n",
       "    }\n",
       "\n",
       "    if(typeof define === \"function\" && define.amd) {\n",
       "      requirejs.config({paths});\n",
       "      require([\"vega-embed\"], displayChart, err => showError(`Error loading script: ${err.message}`));\n",
       "    } else if (typeof vegaEmbed === \"function\") {\n",
       "      displayChart(vegaEmbed);\n",
       "    } else {\n",
       "      loadScript(\"vega\")\n",
       "        .then(() => loadScript(\"vega-lite\"))\n",
       "        .then(() => loadScript(\"vega-embed\"))\n",
       "        .catch(showError)\n",
       "        .then(() => displayChart(vegaEmbed));\n",
       "    }\n",
       "  })({\"config\": {\"view\": {\"continuousWidth\": 400, \"continuousHeight\": 300}}, \"data\": {\"name\": \"data-039d72737d678ea4f743cc3d7515dffe\"}, \"mark\": {\"type\": \"text\", \"align\": \"center\", \"baseline\": \"top\", \"color\": \"white\", \"dy\": 5, \"fontWeight\": \"bold\", \"size\": 13}, \"encoding\": {\"text\": {\"type\": \"quantitative\", \"field\": \"pop\", \"format\": \".2s\"}, \"x\": {\"type\": \"ordinal\", \"axis\": {\"labelAngle\": 0, \"labelFontSize\": 11}, \"field\": \"year\", \"title\": \"\"}, \"y\": {\"type\": \"quantitative\", \"axis\": null, \"field\": \"pop\", \"title\": \"\"}}, \"$schema\": \"https://vega.github.io/schema/vega-lite/v4.8.1.json\", \"datasets\": {\"data-039d72737d678ea4f743cc3d7515dffe\": [{\"year\": 1955, \"country\": \"Peru\", \"cluster\": 3, \"pop\": 8671500, \"life_expect\": 46.263, \"fertility\": 6.853}, {\"year\": 1960, \"country\": \"Peru\", \"cluster\": 3, \"pop\": 9931000, \"life_expect\": 49.096, \"fertility\": 6.853}, {\"year\": 1965, \"country\": \"Peru\", \"cluster\": 3, \"pop\": 11467300, \"life_expect\": 51.445, \"fertility\": 6.5600000000000005}, {\"year\": 1970, \"country\": \"Peru\", \"cluster\": 3, \"pop\": 13192800, \"life_expect\": 55.448, \"fertility\": 6.0}, {\"year\": 1975, \"country\": \"Peru\", \"cluster\": 3, \"pop\": 15161199, \"life_expect\": 58.447, \"fertility\": 5.378}, {\"year\": 1980, \"country\": \"Peru\", \"cluster\": 3, \"pop\": 17295298, \"life_expect\": 61.406, \"fertility\": 4.65}, {\"year\": 1985, \"country\": \"Peru\", \"cluster\": 3, \"pop\": 19348926, \"life_expect\": 64.134, \"fertility\": 4.1}, {\"year\": 1990, \"country\": \"Peru\", \"cluster\": 3, \"pop\": 21511443, \"life_expect\": 66.458, \"fertility\": 3.7}, {\"year\": 1995, \"country\": \"Peru\", \"cluster\": 3, \"pop\": 23846388, \"life_expect\": 68.386, \"fertility\": 3.0995}, {\"year\": 2000, \"country\": \"Peru\", \"cluster\": 3, \"pop\": 25979722, \"life_expect\": 69.906, \"fertility\": 2.7005}, {\"year\": 2005, \"country\": \"Peru\", \"cluster\": 3, \"pop\": 27925628, \"life_expect\": 71.421, \"fertility\": 2.5065}]}}, {\"mode\": \"vega-lite\"});\n",
       "</script>"
      ],
      "text/plain": [
       "alt.Chart(...)"
      ]
     },
     "execution_count": 30,
     "metadata": {},
     "output_type": "execute_result"
    }
   ],
   "source": [
    "texto = barra.mark_text(\n",
    "        dy = 5,\n",
    "        color ='white',\n",
    "        align ='center',\n",
    "        baseline ='top',\n",
    "        size = 13,\n",
    "        fontWeight = 'bold'\n",
    "    ).encode(\n",
    "        text = alt.Text('pop:Q',\n",
    "        format='.2s')\n",
    "    )\n",
    "texto"
   ]
  },
  {
   "cell_type": "code",
   "execution_count": 33,
   "metadata": {},
   "outputs": [
    {
     "data": {
      "text/html": [
       "\n",
       "<div id=\"altair-viz-71bf03ebb83a42c48f2e33e664e52407\"></div>\n",
       "<script type=\"text/javascript\">\n",
       "  (function(spec, embedOpt){\n",
       "    let outputDiv = document.currentScript.previousElementSibling;\n",
       "    if (outputDiv.id !== \"altair-viz-71bf03ebb83a42c48f2e33e664e52407\") {\n",
       "      outputDiv = document.getElementById(\"altair-viz-71bf03ebb83a42c48f2e33e664e52407\");\n",
       "    }\n",
       "    const paths = {\n",
       "      \"vega\": \"https://cdn.jsdelivr.net/npm//vega@5?noext\",\n",
       "      \"vega-lib\": \"https://cdn.jsdelivr.net/npm//vega-lib?noext\",\n",
       "      \"vega-lite\": \"https://cdn.jsdelivr.net/npm//vega-lite@4.8.1?noext\",\n",
       "      \"vega-embed\": \"https://cdn.jsdelivr.net/npm//vega-embed@6?noext\",\n",
       "    };\n",
       "\n",
       "    function loadScript(lib) {\n",
       "      return new Promise(function(resolve, reject) {\n",
       "        var s = document.createElement('script');\n",
       "        s.src = paths[lib];\n",
       "        s.async = true;\n",
       "        s.onload = () => resolve(paths[lib]);\n",
       "        s.onerror = () => reject(`Error loading script: ${paths[lib]}`);\n",
       "        document.getElementsByTagName(\"head\")[0].appendChild(s);\n",
       "      });\n",
       "    }\n",
       "\n",
       "    function showError(err) {\n",
       "      outputDiv.innerHTML = `<div class=\"error\" style=\"color:red;\">${err}</div>`;\n",
       "      throw err;\n",
       "    }\n",
       "\n",
       "    function displayChart(vegaEmbed) {\n",
       "      vegaEmbed(outputDiv, spec, embedOpt)\n",
       "        .catch(err => showError(`Javascript Error: ${err.message}<br>This usually means there's a typo in your chart specification. See the javascript console for the full traceback.`));\n",
       "    }\n",
       "\n",
       "    if(typeof define === \"function\" && define.amd) {\n",
       "      requirejs.config({paths});\n",
       "      require([\"vega-embed\"], displayChart, err => showError(`Error loading script: ${err.message}`));\n",
       "    } else if (typeof vegaEmbed === \"function\") {\n",
       "      displayChart(vegaEmbed);\n",
       "    } else {\n",
       "      loadScript(\"vega\")\n",
       "        .then(() => loadScript(\"vega-lite\"))\n",
       "        .then(() => loadScript(\"vega-embed\"))\n",
       "        .catch(showError)\n",
       "        .then(() => displayChart(vegaEmbed));\n",
       "    }\n",
       "  })({\"config\": {\"view\": {\"continuousWidth\": 400, \"continuousHeight\": 300, \"strokeWidth\": 0}, \"title\": {\"anchor\": \"start\", \"fontSize\": 17}}, \"layer\": [{\"mark\": {\"type\": \"bar\", \"color\": \"#ff4f19\", \"stroke\": \"#ff4f19\"}, \"encoding\": {\"x\": {\"type\": \"ordinal\", \"axis\": {\"labelAngle\": 0, \"labelFontSize\": 11}, \"field\": \"year\", \"title\": \"\"}, \"y\": {\"type\": \"quantitative\", \"axis\": null, \"field\": \"pop\", \"title\": \"\"}}}, {\"mark\": {\"type\": \"text\", \"align\": \"center\", \"baseline\": \"top\", \"color\": \"white\", \"dy\": 5, \"fontWeight\": \"bold\", \"size\": 13}, \"encoding\": {\"text\": {\"type\": \"quantitative\", \"field\": \"pop\", \"format\": \".2s\"}, \"x\": {\"type\": \"ordinal\", \"axis\": {\"labelAngle\": 0, \"labelFontSize\": 11}, \"field\": \"year\", \"title\": \"\"}, \"y\": {\"type\": \"quantitative\", \"axis\": null, \"field\": \"pop\", \"title\": \"\"}}}], \"data\": {\"name\": \"data-039d72737d678ea4f743cc3d7515dffe\"}, \"title\": {\"text\": [\"Poblacion Historica de Peru\"], \"subtitle\": [\"En Millon de Habitantes\"]}, \"width\": 600, \"$schema\": \"https://vega.github.io/schema/vega-lite/v4.8.1.json\", \"datasets\": {\"data-039d72737d678ea4f743cc3d7515dffe\": [{\"year\": 1955, \"country\": \"Peru\", \"cluster\": 3, \"pop\": 8671500, \"life_expect\": 46.263, \"fertility\": 6.853}, {\"year\": 1960, \"country\": \"Peru\", \"cluster\": 3, \"pop\": 9931000, \"life_expect\": 49.096, \"fertility\": 6.853}, {\"year\": 1965, \"country\": \"Peru\", \"cluster\": 3, \"pop\": 11467300, \"life_expect\": 51.445, \"fertility\": 6.5600000000000005}, {\"year\": 1970, \"country\": \"Peru\", \"cluster\": 3, \"pop\": 13192800, \"life_expect\": 55.448, \"fertility\": 6.0}, {\"year\": 1975, \"country\": \"Peru\", \"cluster\": 3, \"pop\": 15161199, \"life_expect\": 58.447, \"fertility\": 5.378}, {\"year\": 1980, \"country\": \"Peru\", \"cluster\": 3, \"pop\": 17295298, \"life_expect\": 61.406, \"fertility\": 4.65}, {\"year\": 1985, \"country\": \"Peru\", \"cluster\": 3, \"pop\": 19348926, \"life_expect\": 64.134, \"fertility\": 4.1}, {\"year\": 1990, \"country\": \"Peru\", \"cluster\": 3, \"pop\": 21511443, \"life_expect\": 66.458, \"fertility\": 3.7}, {\"year\": 1995, \"country\": \"Peru\", \"cluster\": 3, \"pop\": 23846388, \"life_expect\": 68.386, \"fertility\": 3.0995}, {\"year\": 2000, \"country\": \"Peru\", \"cluster\": 3, \"pop\": 25979722, \"life_expect\": 69.906, \"fertility\": 2.7005}, {\"year\": 2005, \"country\": \"Peru\", \"cluster\": 3, \"pop\": 27925628, \"life_expect\": 71.421, \"fertility\": 2.5065}]}}, {\"mode\": \"vega-lite\"});\n",
       "</script>"
      ],
      "text/plain": [
       "alt.LayerChart(...)"
      ]
     },
     "execution_count": 33,
     "metadata": {},
     "output_type": "execute_result"
    }
   ],
   "source": [
    "(barra+texto).properties(\n",
    "    title ={\n",
    "    \"text\": [f\"Poblacion Historica de {pais}\"], \n",
    "    \"subtitle\": [\"En Millon de Habitantes\"]\n",
    "    }, ##con f se agraga la variable a string\n",
    "    width = 600, # configurar el ancho en pixeles\n",
    ").configure_title(\n",
    "    fontSize = 17, \n",
    "    anchor = 'start'\n",
    ").configure_view(\n",
    "    strokeWidth=0)"
   ]
  }
 ],
 "metadata": {
  "interpreter": {
   "hash": "f1d700fa1b1b82d30cc5721a422db1239f21bfed7e745009ba7cb431de82ad6d"
  },
  "kernelspec": {
   "display_name": "Python 3.10.1 64-bit",
   "language": "python",
   "name": "python3"
  },
  "language_info": {
   "codemirror_mode": {
    "name": "ipython",
    "version": 3
   },
   "file_extension": ".py",
   "mimetype": "text/x-python",
   "name": "python",
   "nbconvert_exporter": "python",
   "pygments_lexer": "ipython3",
   "version": "3.10.1"
  },
  "orig_nbformat": 4
 },
 "nbformat": 4,
 "nbformat_minor": 2
}
