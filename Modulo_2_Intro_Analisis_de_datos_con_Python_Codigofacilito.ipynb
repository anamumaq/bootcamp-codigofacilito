{
  "nbformat": 4,
  "nbformat_minor": 0,
  "metadata": {
    "colab": {
      "name": "Modulo 2 - Intro Analisis de datos con Python - Codigofacilito",
      "provenance": [],
      "authorship_tag": "ABX9TyPXqb44KY3Ff6gsMsLjstmw"
    },
    "kernelspec": {
      "name": "python3",
      "display_name": "Python 3"
    },
    "language_info": {
      "name": "python"
    }
  },
  "cells": [
    {
      "cell_type": "markdown",
      "metadata": {
        "id": "YMsx7xFerBvs"
      },
      "source": [
        "## NUMPY\n",
        "### Arrays\n",
        "* Son mejores que las listas porque ocupan menos espacios\n",
        "* Ayudan  ahacer operaciones sin iterar"
      ]
    },
    {
      "cell_type": "code",
      "metadata": {
        "id": "yQqsKKuTp4FD"
      },
      "source": [
        "#importanto las librerias\n",
        "import numpy as np"
      ],
      "execution_count": null,
      "outputs": []
    },
    {
      "cell_type": "code",
      "metadata": {
        "colab": {
          "base_uri": "https://localhost:8080/"
        },
        "id": "UK1NuAmZrQC9",
        "outputId": "c8aa81e1-01ac-4273-e7e8-c635cd5d9c7e"
      },
      "source": [
        "# Creando arreglo a partir de una objeto iterable\n",
        "lista = [10, 20, 30, 40, 50, 60]\n",
        "type(lista)"
      ],
      "execution_count": null,
      "outputs": [
        {
          "output_type": "execute_result",
          "data": {
            "text/plain": [
              "list"
            ]
          },
          "metadata": {},
          "execution_count": 2
        }
      ]
    },
    {
      "cell_type": "code",
      "metadata": {
        "colab": {
          "base_uri": "https://localhost:8080/"
        },
        "id": "LLaV885urq0F",
        "outputId": "b3e89326-db94-4c98-fa18-8128f7e9e69a"
      },
      "source": [
        "#Creando array\n",
        "a = np.array(lista)\n",
        "type(a)"
      ],
      "execution_count": null,
      "outputs": [
        {
          "output_type": "execute_result",
          "data": {
            "text/plain": [
              "numpy.ndarray"
            ]
          },
          "metadata": {},
          "execution_count": 5
        }
      ]
    },
    {
      "cell_type": "markdown",
      "metadata": {
        "id": "ji3QgiZ1sDtb"
      },
      "source": [
        "#### Atributos de Array:\n",
        "* ndim :  cantidad de dimensiones que tiene el arreglo\n",
        "* size : elementos que posee el arreglo\n",
        "* itemsize : conocer el tamaño en bite de cada elmento en el arreglo\n",
        "* shape : conocer la forma del arreglo"
      ]
    },
    {
      "cell_type": "code",
      "metadata": {
        "colab": {
          "base_uri": "https://localhost:8080/"
        },
        "id": "uRBze9QOr1KE",
        "outputId": "9773799f-7690-4974-c59f-460b2ec94a6f"
      },
      "source": [
        "print(\"usando ndim\", a.ndim)\n",
        "print(\"usando size\", a.size)\n",
        "print(\"usando itemsize\", a.itemsize)\n",
        "print(\"usando shape\", a.shape)\n"
      ],
      "execution_count": null,
      "outputs": [
        {
          "output_type": "stream",
          "name": "stdout",
          "text": [
            "usando ndim 1\n",
            "usando size 6\n",
            "usando itemsize 8\n",
            "usando shape (6,)\n"
          ]
        }
      ]
    },
    {
      "cell_type": "markdown",
      "metadata": {
        "id": "RMPXwd8ItBeS"
      },
      "source": [
        "#### Obteniendo elementos del arreglo"
      ]
    },
    {
      "cell_type": "code",
      "metadata": {
        "colab": {
          "base_uri": "https://localhost:8080/"
        },
        "id": "kmgnXsPjtFkU",
        "outputId": "765a07c2-65ed-4cc0-816d-3ebb84e7acf0"
      },
      "source": [
        "print(\"primer elemento\", a[0])\n",
        "print(\"ultimo elemento\", a[a.size -1])\n",
        "print(\"ultimo elemento\", a[-1])\n",
        "print(\"del 1 al 3\", a[0:3])\n",
        "print(\"invierto\", a[::-1])"
      ],
      "execution_count": null,
      "outputs": [
        {
          "output_type": "stream",
          "name": "stdout",
          "text": [
            "primer elemento 10\n",
            "ultimo elemento 60\n",
            "ultimo elemento 60\n",
            "del 1 al 3 [10 20 30]\n",
            "invierto [60 50 40 30 20 10]\n"
          ]
        }
      ]
    },
    {
      "cell_type": "markdown",
      "metadata": {
        "id": "OxNv8qqvydKy"
      },
      "source": [
        "#### Operaciones Sobre los arreglos"
      ]
    },
    {
      "cell_type": "code",
      "metadata": {
        "colab": {
          "base_uri": "https://localhost:8080/"
        },
        "id": "8fdREJ3GygbS",
        "outputId": "a40d7c95-e5fa-4d8a-ab25-63e0baf5c5c0"
      },
      "source": [
        "#Usando Indices\n",
        "lista_indice = [0,3,4,5]\n",
        "print(\"lista\", a[lista_indice]) #me va generar los elementos del array que tienen eso indices\n",
        "print(\"lista directo\", a[[0,3,4,5]])#Tambien se puede colocar la lista directamente en el array\n",
        "print(\"haciendo operaciones en el array\", ((a*10)-5)/2)"
      ],
      "execution_count": null,
      "outputs": [
        {
          "output_type": "stream",
          "name": "stdout",
          "text": [
            "lista [10 40 50 60]\n",
            "lista directo [10 40 50 60]\n",
            "haciendo operaciones en el array [ 47.5  97.5 147.5 197.5 247.5 297.5]\n"
          ]
        }
      ]
    },
    {
      "cell_type": "markdown",
      "metadata": {
        "id": "aRV2O-Gm0GeB"
      },
      "source": [
        "### Tipos de Datos en NP\n",
        "\n",
        "Tipo\tCaracter\n",
        "\n",
        "* Bool\t**?**\n",
        "* byte (Signed)\t**b**\n",
        "* byte (unsigned)\t**B**\n",
        "* integer (Signed)\t**i**\n",
        "* integer (unsigned)\t**u**\n",
        "* float\t**f**\n",
        "* complex\t**c**\n",
        "* timedelta\t**m**\n",
        "* datetime\t**M**\n",
        "* Objects\t**O**\n",
        "* Unicode\t**U**"
      ]
    },
    {
      "cell_type": "code",
      "metadata": {
        "colab": {
          "base_uri": "https://localhost:8080/"
        },
        "id": "7U_iv17M0IXx",
        "outputId": "5958b4de-138b-4a35-efaa-f257d5bd8871"
      },
      "source": [
        "np.array([1,2,3,4,5]) #un arreglo de numeros enteros\n",
        "np.array([1,2,3,4,5], dtype = \"f\") #arreglo de flotantes\n",
        "np.array([1,2,3,4,5], dtype = np.float32) #arreglo de flotantes"
      ],
      "execution_count": null,
      "outputs": [
        {
          "output_type": "execute_result",
          "data": {
            "text/plain": [
              "array([1., 2., 3., 4., 5.], dtype=float32)"
            ]
          },
          "metadata": {},
          "execution_count": 20
        }
      ]
    },
    {
      "cell_type": "markdown",
      "metadata": {
        "id": "vFtCFUjN2rfW"
      },
      "source": [
        "### Creacion de arreglos\n",
        "* np.arange(donde_empieza, donde_termina) el ultimop elemento no se toma en cuenta\n",
        "* np.arange(donde_empieza, donde_termina, saltos)\n",
        "* np.zeros(nro_elemtos, dtype) genera arreglo de ceros\n",
        "* np.full(nro_elementos, numero)\n",
        "* np.random.random(nro_elementos) random sin rango\n",
        "* np.random.randint(inicio, fin, nro_elementos)"
      ]
    },
    {
      "cell_type": "code",
      "metadata": {
        "colab": {
          "base_uri": "https://localhost:8080/"
        },
        "id": "uFuPKHSj2muZ",
        "outputId": "694b28d6-0154-402b-c4a8-87448c1c1c38"
      },
      "source": [
        "#Funciones utiles para arreglos\n",
        "print(\"con saltos\", np.arange(0,15,3))\n",
        "print(\"cero\", np.zeros(10, dtype = \"i\"))\n",
        "print(\"unos\", np.ones(10))\n",
        "print(\"escogiendo el numero\", np.full(10,5))\n",
        "print(\"random sin rango\", np.random.random(5))\n",
        "print(\"random con rango\", np.random.randint(1,100,5))"
      ],
      "execution_count": null,
      "outputs": [
        {
          "output_type": "stream",
          "name": "stdout",
          "text": [
            "con saltos [ 0  3  6  9 12]\n",
            "cero [0 0 0 0 0 0 0 0 0 0]\n",
            "unos [1. 1. 1. 1. 1. 1. 1. 1. 1. 1.]\n",
            "escogiendo el numero [5 5 5 5 5 5 5 5 5 5]\n",
            "random sin rango [0.00177679 0.0856373  0.93138697 0.29368044 0.6945557 ]\n",
            "random con rango [18 97 20 81 80]\n"
          ]
        }
      ]
    },
    {
      "cell_type": "markdown",
      "metadata": {
        "id": "xDAy16rCIrBy"
      },
      "source": [
        "### Matrices\n",
        "tiene como argumento una lista que a su vez almacenará otras listas"
      ]
    },
    {
      "cell_type": "code",
      "metadata": {
        "colab": {
          "base_uri": "https://localhost:8080/"
        },
        "id": "74-6Z8T6IuKy",
        "outputId": "9975e73b-e6ca-48b7-a646-d6b9145e143a"
      },
      "source": [
        "mimatriz = np.array([\n",
        "          [1,2,3,4,5],\n",
        "          [10,20,30,40,50],\n",
        "          [100,200,300,400,500]\n",
        "])\n",
        "print(mimatriz)\n",
        "print(\"nro dimensiones\", mimatriz.ndim)\n",
        "print(\"forma de matriz\", mimatriz.shape)\n",
        "print(\"nro elementos\", mimatriz.size)\n",
        "print(\"primer elemento\", mimatriz[0][0])\n",
        "print(\"segunda fila 4to elmento\", mimatriz[1,3])\n",
        "print(\"segunda fila hasta el 4to elemento\", mimatriz[1,0:3])\n",
        "print(\"arreglo de una sola dimension\", mimatriz.ravel())"
      ],
      "execution_count": null,
      "outputs": [
        {
          "output_type": "stream",
          "name": "stdout",
          "text": [
            "[[  1   2   3   4   5]\n",
            " [ 10  20  30  40  50]\n",
            " [100 200 300 400 500]]\n",
            "nro dimensiones 2\n",
            "forma de matriz (3, 5)\n",
            "nro elementos 15\n",
            "primer elemento 1\n",
            "segunda fila 4to elmento 40\n",
            "segunda fila hasta el 4to elemento [10 20 30]\n",
            "arreglo de una sola dimension [  1   2   3   4   5  10  20  30  40  50 100 200 300 400 500]\n"
          ]
        }
      ]
    },
    {
      "cell_type": "markdown",
      "metadata": {
        "id": "rxxacJX7MaOY"
      },
      "source": [
        "#### Actualizando arreglos"
      ]
    },
    {
      "cell_type": "code",
      "metadata": {
        "colab": {
          "base_uri": "https://localhost:8080/"
        },
        "id": "_PRDmpRTMeig",
        "outputId": "5458130d-39c7-4ed4-d1be-418b2afe5eab"
      },
      "source": [
        "a =  np.arange(0,15)\n",
        "print(a)"
      ],
      "execution_count": null,
      "outputs": [
        {
          "output_type": "stream",
          "name": "stdout",
          "text": [
            "[ 0  1  2  3  4  5  6  7  8  9 10 11 12 13 14]\n"
          ]
        }
      ]
    },
    {
      "cell_type": "code",
      "metadata": {
        "colab": {
          "base_uri": "https://localhost:8080/"
        },
        "id": "dg0L6kzESMCf",
        "outputId": "8ba839d7-ee90-402d-df98-70471d4e0e3b"
      },
      "source": [
        "#cambio elemnto 5\n",
        "a[5]=100\n",
        "a"
      ],
      "execution_count": null,
      "outputs": [
        {
          "output_type": "execute_result",
          "data": {
            "text/plain": [
              "array([  0,   1,   2,   3,   4, 100,   6,   7,   8,   9,  10,  11,  12,\n",
              "        13,  14])"
            ]
          },
          "metadata": {},
          "execution_count": 28
        }
      ]
    },
    {
      "cell_type": "code",
      "metadata": {
        "colab": {
          "base_uri": "https://localhost:8080/"
        },
        "id": "5JODOchHSXsN",
        "outputId": "8a5399ee-27f3-46be-a5dc-364bdc34ad10"
      },
      "source": [
        "#Cambio cambio varios elemntos de 0 a 3\n",
        "a[1:4] = 5\n",
        "a"
      ],
      "execution_count": null,
      "outputs": [
        {
          "output_type": "execute_result",
          "data": {
            "text/plain": [
              "array([  0,   5,   5,   5,   4, 100,   6,   7,   8,   9,  10,  11,  12,\n",
              "        13,  14])"
            ]
          },
          "metadata": {},
          "execution_count": 29
        }
      ]
    },
    {
      "cell_type": "code",
      "metadata": {
        "colab": {
          "base_uri": "https://localhost:8080/"
        },
        "id": "BxIGHIqiSnLO",
        "outputId": "8a337a84-67d6-4f5a-a316-6370d926a993"
      },
      "source": [
        "#cambio elementos varios no seguidos\n",
        "a[[6,8]] = 1000\n",
        "a"
      ],
      "execution_count": null,
      "outputs": [
        {
          "output_type": "execute_result",
          "data": {
            "text/plain": [
              "array([   0,    5,    5,    5,    4,  100, 1000,    7, 1000,    9,   10,\n",
              "         11,   12,   13,   14])"
            ]
          },
          "metadata": {},
          "execution_count": 30
        }
      ]
    },
    {
      "cell_type": "code",
      "metadata": {
        "colab": {
          "base_uri": "https://localhost:8080/"
        },
        "id": "qIIxAAxaS0JO",
        "outputId": "ac264961-fefd-41cd-b349-13c0668ca5f1"
      },
      "source": [
        "#aumentar arreglo a la ultima parte\n",
        "a_mas_uno = np.append(a,[50,100, 150])\n",
        "#quitar arreglo desde la poscione\n",
        "a_menos_uno = np.delete(a,[[0,14]])\n",
        "\n",
        "print(a_mas_uno)\n",
        "print(a_menos_uno)"
      ],
      "execution_count": null,
      "outputs": [
        {
          "output_type": "stream",
          "name": "stdout",
          "text": [
            "[   0    5    5    5    4  100 1000    7 1000    9   10   11   12   13\n",
            "   14   50  100  150]\n",
            "[   5    5    5    4  100 1000    7 1000    9   10   11   12   13]\n"
          ]
        }
      ]
    },
    {
      "cell_type": "code",
      "metadata": {
        "colab": {
          "base_uri": "https://localhost:8080/"
        },
        "id": "p2Y19mXhUJXF",
        "outputId": "495fc924-cdb6-4785-fa8c-4020b3c24cec"
      },
      "source": [
        "#cambiar al array a una matriz\n",
        "a.shape = (3,5)\n",
        "a"
      ],
      "execution_count": null,
      "outputs": [
        {
          "output_type": "execute_result",
          "data": {
            "text/plain": [
              "array([[   0,    5,    5,    5,    4],\n",
              "       [ 100, 1000,    7, 1000,    9],\n",
              "       [  10,   11,   12,   13,   14]])"
            ]
          },
          "metadata": {},
          "execution_count": 33
        }
      ]
    },
    {
      "cell_type": "code",
      "metadata": {
        "colab": {
          "base_uri": "https://localhost:8080/"
        },
        "id": "M3x-SyNRUcBU",
        "outputId": "d0f5e16c-0135-46c1-bbdd-ad9ca0618a30"
      },
      "source": [
        "#regresar la matriz a array\n",
        "a.shape = (a.size,)\n",
        "a"
      ],
      "execution_count": null,
      "outputs": [
        {
          "output_type": "execute_result",
          "data": {
            "text/plain": [
              "array([   0,    5,    5,    5,    4,  100, 1000,    7, 1000,    9,   10,\n",
              "         11,   12,   13,   14])"
            ]
          },
          "metadata": {},
          "execution_count": 35
        }
      ]
    },
    {
      "cell_type": "markdown",
      "metadata": {
        "id": "6u6rUaDIVuH6"
      },
      "source": [
        "### Transposicion"
      ]
    },
    {
      "cell_type": "markdown",
      "metadata": {
        "id": "upL9yn7cV0Cq"
      },
      "source": [
        "### Creando una matriz\n"
      ]
    },
    {
      "cell_type": "code",
      "metadata": {
        "colab": {
          "base_uri": "https://localhost:8080/"
        },
        "id": "buLsKKwzWBZe",
        "outputId": "080e21b6-93ec-443d-ca93-d827175bf73c"
      },
      "source": [
        "#Creo un matriz\n",
        "a = np.arange(0,10).reshape (2,5)\n",
        "a\n",
        "          "
      ],
      "execution_count": null,
      "outputs": [
        {
          "output_type": "execute_result",
          "data": {
            "text/plain": [
              "array([[0, 1, 2, 3, 4],\n",
              "       [5, 6, 7, 8, 9]])"
            ]
          },
          "metadata": {},
          "execution_count": 41
        }
      ]
    },
    {
      "cell_type": "code",
      "metadata": {
        "colab": {
          "base_uri": "https://localhost:8080/"
        },
        "id": "IDGxdQHbWVsU",
        "outputId": "42903ba5-5d16-4bfe-ae3c-87d9f0cc9d85"
      },
      "source": [
        "#traspongo la matriz creada\n",
        "print(a.T)\n",
        "print(a.transpose)"
      ],
      "execution_count": null,
      "outputs": [
        {
          "output_type": "stream",
          "name": "stdout",
          "text": [
            "[[0 5]\n",
            " [1 6]\n",
            " [2 7]\n",
            " [3 8]\n",
            " [4 9]]\n",
            "<built-in method transpose of numpy.ndarray object at 0x7f497222a440>\n"
          ]
        }
      ]
    },
    {
      "cell_type": "code",
      "metadata": {
        "colab": {
          "base_uri": "https://localhost:8080/"
        },
        "id": "j2DWCscpWsH6",
        "outputId": "d9d4f4da-f88a-42fd-c342-4af49a07b810"
      },
      "source": [
        "#Operaciones con array\n",
        "a = np.arange(1,11)\n",
        "print(\"suma todos los elementos\", a.sum())\n",
        "print(\"elemento max\", a.max())\n",
        "print(\"desvest del arreglo\", a.std())\n",
        "print(\"media del arreglo\", a.mean())\n"
      ],
      "execution_count": null,
      "outputs": [
        {
          "output_type": "stream",
          "name": "stdout",
          "text": [
            "suma todos los elementos 55\n",
            "elemento max 10\n",
            "desvest del arreglo 2.8722813232690143\n",
            "media del arreglo 5.5\n"
          ]
        }
      ]
    },
    {
      "cell_type": "code",
      "metadata": {
        "colab": {
          "base_uri": "https://localhost:8080/"
        },
        "id": "JuB-nsLSXn0w",
        "outputId": "cf5b8fe2-97d3-4703-9bca-2402b4866fc1"
      },
      "source": [
        "#operaciones con matriz \n",
        "m = np.random.randint(1,11,50)\n",
        "m"
      ],
      "execution_count": null,
      "outputs": [
        {
          "output_type": "stream",
          "name": "stdout",
          "text": [
            "None\n"
          ]
        }
      ]
    },
    {
      "cell_type": "code",
      "metadata": {
        "colab": {
          "base_uri": "https://localhost:8080/"
        },
        "id": "JQLLwUnJZNWa",
        "outputId": "0993a1d5-d528-44ec-fcd3-532574bc6c5a"
      },
      "source": [
        "m.sort()\n",
        "m #ordena de menor a mayor\n"
      ],
      "execution_count": null,
      "outputs": [
        {
          "output_type": "execute_result",
          "data": {
            "text/plain": [
              "array([ 1,  2,  2,  2,  2,  3,  3,  3,  3,  3,  3,  4,  4,  4,  4,  4,  5,\n",
              "        5,  5,  5,  5,  5,  5,  5,  5,  5,  5,  6,  7,  7,  7,  7,  7,  7,\n",
              "        7,  7,  7,  8,  8,  8,  8,  9,  9,  9,  9,  9, 10, 10, 10, 10])"
            ]
          },
          "metadata": {},
          "execution_count": 60
        }
      ]
    },
    {
      "cell_type": "markdown",
      "metadata": {
        "id": "hE7mFfZ9aemA"
      },
      "source": [
        "### Ejecucion de Funciones"
      ]
    },
    {
      "cell_type": "code",
      "metadata": {
        "colab": {
          "base_uri": "https://localhost:8080/"
        },
        "id": "eH2PNJrnajyJ",
        "outputId": "3d59c02b-df37-4098-c94c-ccf3b8b65b50"
      },
      "source": [
        "a= np.random.randint(1,10,10)\n",
        "a\n",
        "\n"
      ],
      "execution_count": null,
      "outputs": [
        {
          "output_type": "execute_result",
          "data": {
            "text/plain": [
              "array([1, 2, 9, 4, 7, 1, 7, 4, 9, 6])"
            ]
          },
          "metadata": {},
          "execution_count": 69
        }
      ]
    },
    {
      "cell_type": "code",
      "metadata": {
        "colab": {
          "base_uri": "https://localhost:8080/"
        },
        "id": "qh7rkSkLbkmK",
        "outputId": "9f31dbfc-e5f7-4550-f9cc-49182be9f975"
      },
      "source": [
        "def operacion_simple (val):\n",
        "  return val *10\n",
        "\n",
        "\n",
        "print(operacion_simple(a[0])) #muñtiplicar un elemento del array\n"
      ],
      "execution_count": null,
      "outputs": [
        {
          "output_type": "stream",
          "name": "stdout",
          "text": [
            "10\n"
          ]
        }
      ]
    },
    {
      "cell_type": "code",
      "metadata": {
        "colab": {
          "base_uri": "https://localhost:8080/"
        },
        "id": "c_FL05YObtJK",
        "outputId": "ccd270e8-ae8c-4d8d-a49f-2deb4832e60c"
      },
      "source": [
        "\n",
        "for i in a: \n",
        "  print(operacion_simple(i)) #multiplicar todos los elemntos"
      ],
      "execution_count": null,
      "outputs": [
        {
          "output_type": "stream",
          "name": "stdout",
          "text": [
            "10\n",
            "20\n",
            "90\n",
            "40\n",
            "70\n",
            "10\n",
            "70\n",
            "40\n",
            "90\n",
            "60\n"
          ]
        }
      ]
    },
    {
      "cell_type": "code",
      "metadata": {
        "colab": {
          "base_uri": "https://localhost:8080/"
        },
        "id": "B38JZC-FcCiS",
        "outputId": "d1ce6aff-3033-47bc-dae3-28551bfe99bb"
      },
      "source": [
        "#Aplicar lafuncion dirrectamente sobre el arreglo\n",
        "#VECTORIZANDO LA FUNCION\n",
        "funcion_vectorizada= np.vectorize(operacion_simple)\n",
        "\n",
        "#aplicarle al arreglo sin for\n",
        "print(funcion_vectorizada(a))"
      ],
      "execution_count": null,
      "outputs": [
        {
          "output_type": "stream",
          "name": "stdout",
          "text": [
            "[10 20 90 40 70 10 70 40 90 60]\n"
          ]
        }
      ]
    },
    {
      "cell_type": "markdown",
      "metadata": {
        "id": "0wFloMECc8-g"
      },
      "source": [
        "### Copias y vistas"
      ]
    },
    {
      "cell_type": "code",
      "metadata": {
        "colab": {
          "base_uri": "https://localhost:8080/"
        },
        "id": "hD15-OM3c8oZ",
        "outputId": "114d21ca-b9bf-468b-deff-5b24f2c678bf"
      },
      "source": [
        "a = np.arange(1,10)\n",
        "a"
      ],
      "execution_count": null,
      "outputs": [
        {
          "output_type": "execute_result",
          "data": {
            "text/plain": [
              "array([1, 2, 3, 4, 5, 6, 7, 8, 9])"
            ]
          },
          "metadata": {},
          "execution_count": 75
        }
      ]
    },
    {
      "cell_type": "code",
      "metadata": {
        "id": "CwwLGyFldOjZ"
      },
      "source": [
        "#creo una copia de a, cada cambio que la haga a b se vera reflejado en a\n",
        "b=a"
      ],
      "execution_count": null,
      "outputs": []
    },
    {
      "cell_type": "code",
      "metadata": {
        "colab": {
          "base_uri": "https://localhost:8080/"
        },
        "id": "HlQa2I2fdYga",
        "outputId": "36c31f9d-436d-489b-e84a-4400ec28bd46"
      },
      "source": [
        "a is b"
      ],
      "execution_count": null,
      "outputs": [
        {
          "output_type": "execute_result",
          "data": {
            "text/plain": [
              "True"
            ]
          },
          "metadata": {},
          "execution_count": 77
        }
      ]
    },
    {
      "cell_type": "markdown",
      "metadata": {
        "id": "qbDura1oe9c5"
      },
      "source": [
        "### Operadores relacionales y logicos"
      ]
    },
    {
      "cell_type": "code",
      "metadata": {
        "colab": {
          "base_uri": "https://localhost:8080/"
        },
        "id": "xkPnYaNZfafp",
        "outputId": "056ab140-4d53-41d8-c2a8-84883f4c7222"
      },
      "source": [
        "a = np.random.randint(1,10,50)\n",
        "print(a<5)"
      ],
      "execution_count": null,
      "outputs": [
        {
          "output_type": "stream",
          "name": "stdout",
          "text": [
            "[False  True  True False False  True False  True  True False False  True\n",
            "  True False  True  True False False False False  True False  True False\n",
            "  True False  True False  True  True False False  True  True  True False\n",
            "  True False False False False  True  True False False False  True False\n",
            " False False]\n"
          ]
        }
      ]
    },
    {
      "cell_type": "code",
      "metadata": {
        "colab": {
          "base_uri": "https://localhost:8080/"
        },
        "id": "SjEAwbEKf8Jy",
        "outputId": "06b68b21-6083-4e56-881d-0d133d7db639"
      },
      "source": [
        "# obtengo todos los true de mis array\n",
        "a[a<5]"
      ],
      "execution_count": null,
      "outputs": [
        {
          "output_type": "execute_result",
          "data": {
            "text/plain": [
              "array([2, 1, 2, 4, 4, 1, 3, 4, 1, 3, 3, 4, 3, 2, 2, 3, 2, 2, 3, 3, 2, 3])"
            ]
          },
          "metadata": {},
          "execution_count": 81
        }
      ]
    },
    {
      "cell_type": "code",
      "metadata": {
        "colab": {
          "base_uri": "https://localhost:8080/"
        },
        "id": "4GeYmJGygxoH",
        "outputId": "9f7899f2-2ca0-4bb4-e800-ad2fabb57562"
      },
      "source": [
        "# obtengo todos los true de mis array AND\n",
        "a[(a<5) & (a>2) & (a==9)]"
      ],
      "execution_count": null,
      "outputs": [
        {
          "output_type": "execute_result",
          "data": {
            "text/plain": [
              "array([], dtype=int64)"
            ]
          },
          "metadata": {},
          "execution_count": 84
        }
      ]
    },
    {
      "cell_type": "code",
      "metadata": {
        "colab": {
          "base_uri": "https://localhost:8080/"
        },
        "id": "iEg4uhW3hUIf",
        "outputId": "fe647aab-d246-45de-9f05-3dba9f2ff3cb"
      },
      "source": [
        "# obtengo todos los true de mis array OR\n",
        "a[(a<5) | (a>2) | (a==9)]"
      ],
      "execution_count": null,
      "outputs": [
        {
          "output_type": "execute_result",
          "data": {
            "text/plain": [
              "array([5, 2, 1, 5, 8, 2, 9, 4, 4, 6, 6, 1, 3, 5, 4, 1, 7, 8, 7, 6, 3, 5,\n",
              "       3, 6, 4, 5, 3, 6, 2, 2, 5, 8, 3, 2, 2, 5, 3, 6, 9, 6, 8, 3, 2, 8,\n",
              "       7, 5, 3, 5, 9, 7])"
            ]
          },
          "metadata": {},
          "execution_count": 85
        }
      ]
    },
    {
      "cell_type": "code",
      "metadata": {
        "colab": {
          "base_uri": "https://localhost:8080/"
        },
        "id": "rN1cIMPUhffX",
        "outputId": "00b1b53c-8a7f-4fae-e37e-27f185b2feac"
      },
      "source": [
        "# obtengo todos los true de mis array DIFERENTE\n",
        "a[ (a!=2) & (a!=9)]"
      ],
      "execution_count": null,
      "outputs": [
        {
          "output_type": "execute_result",
          "data": {
            "text/plain": [
              "array([5, 1, 5, 8, 4, 4, 6, 6, 1, 3, 5, 4, 1, 7, 8, 7, 6, 3, 5, 3, 6, 4,\n",
              "       5, 3, 6, 5, 8, 3, 5, 3, 6, 6, 8, 3, 8, 7, 5, 3, 5, 7])"
            ]
          },
          "metadata": {},
          "execution_count": 86
        }
      ]
    },
    {
      "cell_type": "markdown",
      "metadata": {
        "id": "t_2Rx3QVhpwg"
      },
      "source": [
        "### Comparando arreglos"
      ]
    },
    {
      "cell_type": "code",
      "metadata": {
        "id": "j_JVDN_ehsCm"
      },
      "source": [
        "a = np.random.randint(1,5,10)\n",
        "b = np.random.randint(1,5,10)"
      ],
      "execution_count": null,
      "outputs": []
    },
    {
      "cell_type": "code",
      "metadata": {
        "colab": {
          "base_uri": "https://localhost:8080/"
        },
        "id": "XQ-_whlmh8T2",
        "outputId": "f0b8e336-a180-41d2-f32d-b6408d8874bf"
      },
      "source": [
        "print(a == b)\n",
        "print(a < b)"
      ],
      "execution_count": null,
      "outputs": [
        {
          "output_type": "stream",
          "name": "stdout",
          "text": [
            "[False False False False False False False False False False]\n",
            "[ True False  True  True  True False False  True  True False]\n"
          ]
        }
      ]
    },
    {
      "cell_type": "code",
      "metadata": {
        "colab": {
          "base_uri": "https://localhost:8080/"
        },
        "id": "xDwp5BGTiJa-",
        "outputId": "29176543-8b19-48c1-d4a0-2ea5ca71cfd7"
      },
      "source": [
        "a[(a<b)]"
      ],
      "execution_count": null,
      "outputs": [
        {
          "output_type": "execute_result",
          "data": {
            "text/plain": [
              "array([3, 1, 2, 2, 1, 1])"
            ]
          },
          "metadata": {},
          "execution_count": 90
        }
      ]
    },
    {
      "cell_type": "markdown",
      "metadata": {
        "id": "oL2GXVxsio1v"
      },
      "source": [
        "### Guardando  y leyendo archivos\n",
        "Si se trabaja con muchos datos e smejor guardarlos en archivos binarios comprimidos\n",
        "* para eso usamos **np.savez**"
      ]
    },
    {
      "cell_type": "code",
      "metadata": {
        "colab": {
          "base_uri": "https://localhost:8080/"
        },
        "id": "gfH6b_d2iq9O",
        "outputId": "b49999e2-dd08-4876-9a17-55032df22082"
      },
      "source": [
        "a= np.arange(30)\n",
        "a"
      ],
      "execution_count": null,
      "outputs": [
        {
          "output_type": "execute_result",
          "data": {
            "text/plain": [
              "array([ 0,  1,  2,  3,  4,  5,  6,  7,  8,  9, 10, 11, 12, 13, 14, 15, 16,\n",
              "       17, 18, 19, 20, 21, 22, 23, 24, 25, 26, 27, 28, 29])"
            ]
          },
          "metadata": {},
          "execution_count": 91
        }
      ]
    },
    {
      "cell_type": "code",
      "metadata": {
        "id": "Fsv-ucg-iwhe"
      },
      "source": [
        "#guardnao el archivo\n",
        "np.savetxt(\"un_array.txt\", a)\n",
        "np.savetxt(\"un_array.csv\", a, delimiter =\";\" )\n",
        "np.save(\"un_array.npy\", a ) #creando un archivo binario"
      ],
      "execution_count": null,
      "outputs": []
    },
    {
      "cell_type": "code",
      "metadata": {
        "id": "7GbG-bVLjFz-"
      },
      "source": [
        "#abro archivo\n",
        "b = np.loadtxt(\"/content/sample_data/mnist_test.csv\", delimiter=\",\")"
      ],
      "execution_count": null,
      "outputs": []
    },
    {
      "cell_type": "code",
      "metadata": {
        "colab": {
          "base_uri": "https://localhost:8080/"
        },
        "id": "eTYQ8qgXkZy5",
        "outputId": "03e0f895-837c-4518-9528-ca70a1154517"
      },
      "source": [
        "carga = np.load('/content/un_array.npy')\n",
        "carga"
      ],
      "execution_count": null,
      "outputs": [
        {
          "output_type": "execute_result",
          "data": {
            "text/plain": [
              "array([ 0,  1,  2,  3,  4,  5,  6,  7,  8,  9, 10, 11, 12, 13, 14, 15, 16,\n",
              "       17, 18, 19, 20, 21, 22, 23, 24, 25, 26, 27, 28, 29])"
            ]
          },
          "metadata": {},
          "execution_count": 110
        }
      ]
    },
    {
      "cell_type": "markdown",
      "metadata": {
        "id": "qOmTmDAVnuSX"
      },
      "source": [
        "## PANDAS\n",
        "Serie: arreglo de una sola dimension"
      ]
    },
    {
      "cell_type": "code",
      "metadata": {
        "id": "ubII5PRjoHJW"
      },
      "source": [
        "import pandas as pd"
      ],
      "execution_count": null,
      "outputs": []
    },
    {
      "cell_type": "code",
      "metadata": {
        "colab": {
          "base_uri": "https://localhost:8080/"
        },
        "id": "25BrM6vjn2l8",
        "outputId": "a8528332-240c-4d8b-cb51-71723a9a6ebf"
      },
      "source": [
        "pd.Series([10,20, 30, 40, 50], dtype = \"f\") \n",
        "# creo una serie y le puedo poner el type que quiero"
      ],
      "execution_count": null,
      "outputs": [
        {
          "output_type": "execute_result",
          "data": {
            "text/plain": [
              "0    10.0\n",
              "1    20.0\n",
              "2    30.0\n",
              "3    40.0\n",
              "4    50.0\n",
              "dtype: float32"
            ]
          },
          "metadata": {},
          "execution_count": 116
        }
      ]
    },
    {
      "cell_type": "code",
      "metadata": {
        "colab": {
          "base_uri": "https://localhost:8080/"
        },
        "id": "J4EQZZa2otZE",
        "outputId": "fc3ba920-f94e-430f-db2a-0558443b6f5c"
      },
      "source": [
        "#cambiando indice\n",
        "a = pd.Series([10,20, 30, 40, 50], dtype = \"f\", index= ['a','b','c','d','e']) \n",
        "print(a)"
      ],
      "execution_count": null,
      "outputs": [
        {
          "output_type": "stream",
          "name": "stdout",
          "text": [
            "a    10.0\n",
            "b    20.0\n",
            "c    30.0\n",
            "d    40.0\n",
            "e    50.0\n",
            "dtype: float32\n"
          ]
        }
      ]
    },
    {
      "cell_type": "code",
      "metadata": {
        "colab": {
          "base_uri": "https://localhost:8080/"
        },
        "id": "h5HrEixlo-to",
        "outputId": "af300158-a7ef-4bdf-9e7b-19ca32fa6b4d"
      },
      "source": [
        "#puedo ingresar al elemento segun el index u orden\n",
        "print(a[0])\n",
        "print(a['a'])"
      ],
      "execution_count": null,
      "outputs": [
        {
          "output_type": "stream",
          "name": "stdout",
          "text": [
            "10.0\n",
            "10.0\n"
          ]
        }
      ]
    },
    {
      "cell_type": "markdown",
      "metadata": {
        "id": "CKDsXWDBpULV"
      },
      "source": [
        "#### Serie s apartir de diccionarios"
      ]
    },
    {
      "cell_type": "code",
      "metadata": {
        "id": "_I57Ss6qpWmD"
      },
      "source": [
        "diccionario = {'a':10 , \"b\":20, 'c':30} \n",
        "#Creo el diccionario"
      ],
      "execution_count": null,
      "outputs": []
    },
    {
      "cell_type": "code",
      "metadata": {
        "colab": {
          "base_uri": "https://localhost:8080/"
        },
        "id": "OG44lqhgpofe",
        "outputId": "32399954-4b99-4adc-f7ca-a7133eb35900"
      },
      "source": [
        "c = pd.Series(diccionario)\n",
        "c"
      ],
      "execution_count": null,
      "outputs": [
        {
          "output_type": "execute_result",
          "data": {
            "text/plain": [
              "a    10\n",
              "b    20\n",
              "c    30\n",
              "dtype: int64"
            ]
          },
          "metadata": {},
          "execution_count": 125
        }
      ]
    },
    {
      "cell_type": "markdown",
      "metadata": {
        "id": "XYk1BnT0qAMI"
      },
      "source": [
        "#### Serie con arange"
      ]
    },
    {
      "cell_type": "code",
      "metadata": {
        "colab": {
          "base_uri": "https://localhost:8080/"
        },
        "id": "AwfUfS9GqCz7",
        "outputId": "2927733f-54c1-43a5-d0cc-aa48fb59b104"
      },
      "source": [
        "a = pd.Series(np.arange(15), dtype='i')\n",
        "a"
      ],
      "execution_count": null,
      "outputs": [
        {
          "output_type": "execute_result",
          "data": {
            "text/plain": [
              "0      0\n",
              "1      1\n",
              "2      2\n",
              "3      3\n",
              "4      4\n",
              "5      5\n",
              "6      6\n",
              "7      7\n",
              "8      8\n",
              "9      9\n",
              "10    10\n",
              "11    11\n",
              "12    12\n",
              "13    13\n",
              "14    14\n",
              "dtype: int32"
            ]
          },
          "metadata": {},
          "execution_count": 128
        }
      ]
    },
    {
      "cell_type": "code",
      "metadata": {
        "colab": {
          "base_uri": "https://localhost:8080/"
        },
        "id": "3X6RcUsEqrsa",
        "outputId": "332ece42-8c6b-49ed-c059-be2154a2a627"
      },
      "source": [
        "#coloandoles nombre a la serie y a los indexz\n",
        "a.name = 'numeros de ana'\n",
        "a.index.name = 'indices'\n",
        "a"
      ],
      "execution_count": null,
      "outputs": [
        {
          "output_type": "execute_result",
          "data": {
            "text/plain": [
              "indices\n",
              "0      0\n",
              "1      1\n",
              "2      2\n",
              "3      3\n",
              "4      4\n",
              "5      5\n",
              "6      6\n",
              "7      7\n",
              "8      8\n",
              "9      9\n",
              "10    10\n",
              "11    11\n",
              "12    12\n",
              "13    13\n",
              "14    14\n",
              "Name: numeros de ana, dtype: int32"
            ]
          },
          "metadata": {},
          "execution_count": 129
        }
      ]
    },
    {
      "cell_type": "markdown",
      "metadata": {
        "id": "kn0BN6LOrR6t"
      },
      "source": [
        "### NaN\n",
        "np.NaN"
      ]
    },
    {
      "cell_type": "code",
      "metadata": {
        "colab": {
          "base_uri": "https://localhost:8080/"
        },
        "id": "zyiHgMy9rVaj",
        "outputId": "2cf4c10b-93e9-4c93-9525-f2bc604d7d31"
      },
      "source": [
        "#Creo un serie con NaN\n",
        "a = pd.Series([10, 20, np.NaN, 40 , np.NaN])\n",
        "a"
      ],
      "execution_count": null,
      "outputs": [
        {
          "output_type": "execute_result",
          "data": {
            "text/plain": [
              "0    10.0\n",
              "1    20.0\n",
              "2     NaN\n",
              "3    40.0\n",
              "4     NaN\n",
              "dtype: float64"
            ]
          },
          "metadata": {},
          "execution_count": 131
        }
      ]
    },
    {
      "cell_type": "code",
      "metadata": {
        "colab": {
          "base_uri": "https://localhost:8080/"
        },
        "id": "mmIYFFIbruzq",
        "outputId": "0ff82759-5756-4693-b7c4-cb2d9b415d56"
      },
      "source": [
        "#encontrando nulos\n",
        "print( pd.isnull(a) ) #nuestra elementos que no posee valor\n",
        "print(pd.notnull(a)) #esta es la evez muestra los si tiene NaN\n",
        "print(pd.isnull(a))"
      ],
      "execution_count": null,
      "outputs": [
        {
          "output_type": "stream",
          "name": "stdout",
          "text": [
            "0    False\n",
            "1    False\n",
            "2     True\n",
            "3    False\n",
            "4     True\n",
            "dtype: bool\n",
            "0     True\n",
            "1     True\n",
            "2    False\n",
            "3     True\n",
            "4    False\n",
            "dtype: bool\n",
            "0    False\n",
            "1    False\n",
            "2     True\n",
            "3    False\n",
            "4     True\n",
            "dtype: bool\n"
          ]
        }
      ]
    },
    {
      "cell_type": "code",
      "metadata": {
        "colab": {
          "base_uri": "https://localhost:8080/"
        },
        "id": "cuy-ElVNsGmi",
        "outputId": "ca606b57-0f71-467b-f36d-069a53582217"
      },
      "source": [
        "#elimino NaN , no altera laserie original\n",
        "b = a.dropna()\n",
        "b"
      ],
      "execution_count": null,
      "outputs": [
        {
          "output_type": "execute_result",
          "data": {
            "text/plain": [
              "0    10.0\n",
              "1    20.0\n",
              "3    40.0\n",
              "dtype: float64"
            ]
          },
          "metadata": {},
          "execution_count": 134
        }
      ]
    },
    {
      "cell_type": "code",
      "metadata": {
        "colab": {
          "base_uri": "https://localhost:8080/"
        },
        "id": "qCC32WRQsRya",
        "outputId": "81c8d069-7a94-44e7-deed-ebff5581036c"
      },
      "source": [
        "#si quiero colocar valores en los null, los reemplazo con mean\n",
        "c = a.fillna(a.mean())\n",
        "c"
      ],
      "execution_count": null,
      "outputs": [
        {
          "output_type": "execute_result",
          "data": {
            "text/plain": [
              "0    10.000000\n",
              "1    20.000000\n",
              "2    23.333333\n",
              "3    40.000000\n",
              "4    23.333333\n",
              "dtype: float64"
            ]
          },
          "metadata": {},
          "execution_count": 135
        }
      ]
    },
    {
      "cell_type": "markdown",
      "metadata": {
        "id": "BVcjK-GLskQM"
      },
      "source": [
        "### Dataframe\n",
        "pd.DataFrame()"
      ]
    },
    {
      "cell_type": "code",
      "metadata": {
        "id": "aOrVxXMTsm7m"
      },
      "source": [
        "#Voy creando in diccionario \n",
        "usuarios = {\n",
        "    \"nombre\":['ana','maria','flor', 'fanna'],\n",
        "    'notas': [10,15,17,16],\n",
        "    'edad': [14,16,15,14],\n",
        "    'apobado':[True,True, False, True]\n",
        "}"
      ],
      "execution_count": null,
      "outputs": []
    },
    {
      "cell_type": "code",
      "metadata": {
        "colab": {
          "base_uri": "https://localhost:8080/",
          "height": 173
        },
        "id": "dgBi5WqPwNg5",
        "outputId": "8f46c36c-255e-4830-cbcc-432db2d306cd"
      },
      "source": [
        "#creando dataframe\n",
        "a = pd.DataFrame(usuarios)\n",
        "a"
      ],
      "execution_count": null,
      "outputs": [
        {
          "output_type": "execute_result",
          "data": {
            "text/html": [
              "<div>\n",
              "<style scoped>\n",
              "    .dataframe tbody tr th:only-of-type {\n",
              "        vertical-align: middle;\n",
              "    }\n",
              "\n",
              "    .dataframe tbody tr th {\n",
              "        vertical-align: top;\n",
              "    }\n",
              "\n",
              "    .dataframe thead th {\n",
              "        text-align: right;\n",
              "    }\n",
              "</style>\n",
              "<table border=\"1\" class=\"dataframe\">\n",
              "  <thead>\n",
              "    <tr style=\"text-align: right;\">\n",
              "      <th></th>\n",
              "      <th>nombre</th>\n",
              "      <th>notas</th>\n",
              "      <th>edad</th>\n",
              "      <th>apobado</th>\n",
              "    </tr>\n",
              "  </thead>\n",
              "  <tbody>\n",
              "    <tr>\n",
              "      <th>0</th>\n",
              "      <td>ana</td>\n",
              "      <td>10</td>\n",
              "      <td>14</td>\n",
              "      <td>True</td>\n",
              "    </tr>\n",
              "    <tr>\n",
              "      <th>1</th>\n",
              "      <td>maria</td>\n",
              "      <td>15</td>\n",
              "      <td>16</td>\n",
              "      <td>True</td>\n",
              "    </tr>\n",
              "    <tr>\n",
              "      <th>2</th>\n",
              "      <td>flor</td>\n",
              "      <td>17</td>\n",
              "      <td>15</td>\n",
              "      <td>False</td>\n",
              "    </tr>\n",
              "    <tr>\n",
              "      <th>3</th>\n",
              "      <td>fanna</td>\n",
              "      <td>16</td>\n",
              "      <td>14</td>\n",
              "      <td>True</td>\n",
              "    </tr>\n",
              "  </tbody>\n",
              "</table>\n",
              "</div>"
            ],
            "text/plain": [
              "  nombre  notas  edad  apobado\n",
              "0    ana     10    14     True\n",
              "1  maria     15    16     True\n",
              "2   flor     17    15    False\n",
              "3  fanna     16    14     True"
            ]
          },
          "metadata": {},
          "execution_count": 166
        }
      ]
    },
    {
      "cell_type": "code",
      "metadata": {
        "colab": {
          "base_uri": "https://localhost:8080/"
        },
        "id": "ultE8KsEwtmw",
        "outputId": "462e0989-4b4c-4148-9ee8-9b096372d499"
      },
      "source": [
        "print(a.nombre)\n",
        "print(a['nombre'])"
      ],
      "execution_count": null,
      "outputs": [
        {
          "output_type": "stream",
          "name": "stdout",
          "text": [
            "0      ana\n",
            "1    maria\n",
            "2     flor\n",
            "3    fanna\n",
            "Name: nombre, dtype: object\n",
            "0      ana\n",
            "1    maria\n",
            "2     flor\n",
            "3    fanna\n",
            "Name: nombre, dtype: object\n"
          ]
        }
      ]
    },
    {
      "cell_type": "code",
      "metadata": {
        "colab": {
          "base_uri": "https://localhost:8080/"
        },
        "id": "FYiStpCsw94A",
        "outputId": "f8ecec8e-14dd-43b2-c474-97923d18f01c"
      },
      "source": [
        "#obteniendo nombre de columnas\n",
        "print(a.columns)\n",
        "print(a.index)\n",
        "print(a.values) #rreglo de dos dim"
      ],
      "execution_count": null,
      "outputs": [
        {
          "output_type": "stream",
          "name": "stdout",
          "text": [
            "Index(['nombre', 'notas', 'edad', 'apobado'], dtype='object')\n",
            "RangeIndex(start=0, stop=4, step=1)\n",
            "[['ana' 10 14 True]\n",
            " ['maria' 1 16 True]\n",
            " ['flor' 17 15 False]\n",
            " ['fanna' 16 14 True]]\n"
          ]
        }
      ]
    },
    {
      "cell_type": "code",
      "metadata": {
        "colab": {
          "base_uri": "https://localhost:8080/",
          "height": 173
        },
        "id": "begFlvO4zNU4",
        "outputId": "623f7781-5de7-400c-e9e9-fd483d2eac01"
      },
      "source": [
        "#usando solo algunas llaves del diccionario\n",
        "b = pd.DataFrame (usuarios, columns = ['nombre','notas'])\n",
        "b"
      ],
      "execution_count": null,
      "outputs": [
        {
          "output_type": "execute_result",
          "data": {
            "text/html": [
              "<div>\n",
              "<style scoped>\n",
              "    .dataframe tbody tr th:only-of-type {\n",
              "        vertical-align: middle;\n",
              "    }\n",
              "\n",
              "    .dataframe tbody tr th {\n",
              "        vertical-align: top;\n",
              "    }\n",
              "\n",
              "    .dataframe thead th {\n",
              "        text-align: right;\n",
              "    }\n",
              "</style>\n",
              "<table border=\"1\" class=\"dataframe\">\n",
              "  <thead>\n",
              "    <tr style=\"text-align: right;\">\n",
              "      <th></th>\n",
              "      <th>nombre</th>\n",
              "      <th>notas</th>\n",
              "    </tr>\n",
              "  </thead>\n",
              "  <tbody>\n",
              "    <tr>\n",
              "      <th>0</th>\n",
              "      <td>ana</td>\n",
              "      <td>10</td>\n",
              "    </tr>\n",
              "    <tr>\n",
              "      <th>1</th>\n",
              "      <td>maria</td>\n",
              "      <td>1</td>\n",
              "    </tr>\n",
              "    <tr>\n",
              "      <th>2</th>\n",
              "      <td>flor</td>\n",
              "      <td>17</td>\n",
              "    </tr>\n",
              "    <tr>\n",
              "      <th>3</th>\n",
              "      <td>fanna</td>\n",
              "      <td>16</td>\n",
              "    </tr>\n",
              "  </tbody>\n",
              "</table>\n",
              "</div>"
            ],
            "text/plain": [
              "  nombre  notas\n",
              "0    ana     10\n",
              "1  maria      1\n",
              "2   flor     17\n",
              "3  fanna     16"
            ]
          },
          "metadata": {},
          "execution_count": 146
        }
      ]
    },
    {
      "cell_type": "code",
      "metadata": {
        "colab": {
          "base_uri": "https://localhost:8080/"
        },
        "id": "O54j5T_Nzwyz",
        "outputId": "d1666647-41d6-4574-9417-c339d59648e4"
      },
      "source": [
        "#DF con matriz\n",
        "#creo matriz\n",
        "m = np.arange(15).reshape(3,5)\n",
        "m"
      ],
      "execution_count": null,
      "outputs": [
        {
          "output_type": "execute_result",
          "data": {
            "text/plain": [
              "array([[ 0,  1,  2,  3,  4],\n",
              "       [ 5,  6,  7,  8,  9],\n",
              "       [10, 11, 12, 13, 14]])"
            ]
          },
          "metadata": {},
          "execution_count": 149
        }
      ]
    },
    {
      "cell_type": "code",
      "metadata": {
        "colab": {
          "base_uri": "https://localhost:8080/",
          "height": 142
        },
        "id": "oJqMUAok0SjP",
        "outputId": "f4c0a1d1-f47f-4b6e-bfb8-01d368e7d680"
      },
      "source": [
        "df_dematriz = pd.DataFrame(m, columns = ['a','b','c','d','e'], index=['a','b','c'])\n",
        "df_dematriz"
      ],
      "execution_count": null,
      "outputs": [
        {
          "output_type": "execute_result",
          "data": {
            "text/html": [
              "<div>\n",
              "<style scoped>\n",
              "    .dataframe tbody tr th:only-of-type {\n",
              "        vertical-align: middle;\n",
              "    }\n",
              "\n",
              "    .dataframe tbody tr th {\n",
              "        vertical-align: top;\n",
              "    }\n",
              "\n",
              "    .dataframe thead th {\n",
              "        text-align: right;\n",
              "    }\n",
              "</style>\n",
              "<table border=\"1\" class=\"dataframe\">\n",
              "  <thead>\n",
              "    <tr style=\"text-align: right;\">\n",
              "      <th></th>\n",
              "      <th>a</th>\n",
              "      <th>b</th>\n",
              "      <th>c</th>\n",
              "      <th>d</th>\n",
              "      <th>e</th>\n",
              "    </tr>\n",
              "  </thead>\n",
              "  <tbody>\n",
              "    <tr>\n",
              "      <th>a</th>\n",
              "      <td>0</td>\n",
              "      <td>1</td>\n",
              "      <td>2</td>\n",
              "      <td>3</td>\n",
              "      <td>4</td>\n",
              "    </tr>\n",
              "    <tr>\n",
              "      <th>b</th>\n",
              "      <td>5</td>\n",
              "      <td>6</td>\n",
              "      <td>7</td>\n",
              "      <td>8</td>\n",
              "      <td>9</td>\n",
              "    </tr>\n",
              "    <tr>\n",
              "      <th>c</th>\n",
              "      <td>10</td>\n",
              "      <td>11</td>\n",
              "      <td>12</td>\n",
              "      <td>13</td>\n",
              "      <td>14</td>\n",
              "    </tr>\n",
              "  </tbody>\n",
              "</table>\n",
              "</div>"
            ],
            "text/plain": [
              "    a   b   c   d   e\n",
              "a   0   1   2   3   4\n",
              "b   5   6   7   8   9\n",
              "c  10  11  12  13  14"
            ]
          },
          "metadata": {},
          "execution_count": 152
        }
      ]
    },
    {
      "cell_type": "code",
      "metadata": {
        "colab": {
          "base_uri": "https://localhost:8080/",
          "height": 142
        },
        "id": "EmSw5KCf0x2i",
        "outputId": "74cb75ee-c870-4385-b4ec-7d0f6ce532ab"
      },
      "source": [
        "#cambiando el nombre de las columnas\n",
        "df_dematriz.columns = 'A','B','C','D','E'\n",
        "df_dematriz"
      ],
      "execution_count": null,
      "outputs": [
        {
          "output_type": "execute_result",
          "data": {
            "text/html": [
              "<div>\n",
              "<style scoped>\n",
              "    .dataframe tbody tr th:only-of-type {\n",
              "        vertical-align: middle;\n",
              "    }\n",
              "\n",
              "    .dataframe tbody tr th {\n",
              "        vertical-align: top;\n",
              "    }\n",
              "\n",
              "    .dataframe thead th {\n",
              "        text-align: right;\n",
              "    }\n",
              "</style>\n",
              "<table border=\"1\" class=\"dataframe\">\n",
              "  <thead>\n",
              "    <tr style=\"text-align: right;\">\n",
              "      <th></th>\n",
              "      <th>A</th>\n",
              "      <th>B</th>\n",
              "      <th>C</th>\n",
              "      <th>D</th>\n",
              "      <th>E</th>\n",
              "    </tr>\n",
              "  </thead>\n",
              "  <tbody>\n",
              "    <tr>\n",
              "      <th>a</th>\n",
              "      <td>0</td>\n",
              "      <td>1</td>\n",
              "      <td>2</td>\n",
              "      <td>3</td>\n",
              "      <td>4</td>\n",
              "    </tr>\n",
              "    <tr>\n",
              "      <th>b</th>\n",
              "      <td>5</td>\n",
              "      <td>6</td>\n",
              "      <td>7</td>\n",
              "      <td>8</td>\n",
              "      <td>9</td>\n",
              "    </tr>\n",
              "    <tr>\n",
              "      <th>c</th>\n",
              "      <td>10</td>\n",
              "      <td>11</td>\n",
              "      <td>12</td>\n",
              "      <td>13</td>\n",
              "      <td>14</td>\n",
              "    </tr>\n",
              "  </tbody>\n",
              "</table>\n",
              "</div>"
            ],
            "text/plain": [
              "    A   B   C   D   E\n",
              "a   0   1   2   3   4\n",
              "b   5   6   7   8   9\n",
              "c  10  11  12  13  14"
            ]
          },
          "metadata": {},
          "execution_count": 153
        }
      ]
    },
    {
      "cell_type": "code",
      "metadata": {
        "colab": {
          "base_uri": "https://localhost:8080/"
        },
        "id": "pMzCChJs1Fs3",
        "outputId": "54bbdeec-2428-494c-9d3e-73f581937ec8"
      },
      "source": [
        "#cambiando el nombre de las columnas e index\n",
        "print( df_dematriz.rename(columns = {'A':'1a'}) )\n",
        "print( df_dematriz.rename(index = {'a':'1a'}) )\n"
      ],
      "execution_count": null,
      "outputs": [
        {
          "output_type": "stream",
          "name": "stdout",
          "text": [
            "   1a   B   C   D   E\n",
            "a   0   1   2   3   4\n",
            "b   5   6   7   8   9\n",
            "c  10  11  12  13  14\n",
            "     A   B   C   D   E\n",
            "1a   0   1   2   3   4\n",
            "b    5   6   7   8   9\n",
            "c   10  11  12  13  14\n"
          ]
        }
      ]
    },
    {
      "cell_type": "code",
      "metadata": {
        "colab": {
          "base_uri": "https://localhost:8080/"
        },
        "id": "LXbl-2Fz2gaG",
        "outputId": "668bf232-7aa7-4e3c-e1c5-f74c5d7014a2"
      },
      "source": [
        "a.notas[a.notas>14]"
      ],
      "execution_count": null,
      "outputs": [
        {
          "output_type": "execute_result",
          "data": {
            "text/plain": [
              "2    17\n",
              "3    16\n",
              "Name: notas, dtype: int64"
            ]
          },
          "metadata": {},
          "execution_count": 162
        }
      ]
    },
    {
      "cell_type": "markdown",
      "metadata": {
        "id": "OXFoOe1L21I-"
      },
      "source": [
        "### Ejecutar Funciones"
      ]
    },
    {
      "cell_type": "code",
      "metadata": {
        "colab": {
          "base_uri": "https://localhost:8080/",
          "height": 173
        },
        "id": "57SM4P2J20Pm",
        "outputId": "3e813c75-624c-4f1c-b139-d76bc4b64656"
      },
      "source": [
        "#aumentar en uno la edad de cada usuario\n",
        "a.edad = a.apply( lambda row: row['edad']+1, axis=1 )#va de fila por fila\n",
        "a\n"
      ],
      "execution_count": null,
      "outputs": [
        {
          "output_type": "execute_result",
          "data": {
            "text/html": [
              "<div>\n",
              "<style scoped>\n",
              "    .dataframe tbody tr th:only-of-type {\n",
              "        vertical-align: middle;\n",
              "    }\n",
              "\n",
              "    .dataframe tbody tr th {\n",
              "        vertical-align: top;\n",
              "    }\n",
              "\n",
              "    .dataframe thead th {\n",
              "        text-align: right;\n",
              "    }\n",
              "</style>\n",
              "<table border=\"1\" class=\"dataframe\">\n",
              "  <thead>\n",
              "    <tr style=\"text-align: right;\">\n",
              "      <th></th>\n",
              "      <th>nombre</th>\n",
              "      <th>notas</th>\n",
              "      <th>edad</th>\n",
              "      <th>apobado</th>\n",
              "    </tr>\n",
              "  </thead>\n",
              "  <tbody>\n",
              "    <tr>\n",
              "      <th>0</th>\n",
              "      <td>ana</td>\n",
              "      <td>10</td>\n",
              "      <td>15</td>\n",
              "      <td>True</td>\n",
              "    </tr>\n",
              "    <tr>\n",
              "      <th>1</th>\n",
              "      <td>maria</td>\n",
              "      <td>15</td>\n",
              "      <td>17</td>\n",
              "      <td>True</td>\n",
              "    </tr>\n",
              "    <tr>\n",
              "      <th>2</th>\n",
              "      <td>flor</td>\n",
              "      <td>17</td>\n",
              "      <td>16</td>\n",
              "      <td>False</td>\n",
              "    </tr>\n",
              "    <tr>\n",
              "      <th>3</th>\n",
              "      <td>fanna</td>\n",
              "      <td>16</td>\n",
              "      <td>15</td>\n",
              "      <td>True</td>\n",
              "    </tr>\n",
              "  </tbody>\n",
              "</table>\n",
              "</div>"
            ],
            "text/plain": [
              "  nombre  notas  edad  apobado\n",
              "0    ana     10    15     True\n",
              "1  maria     15    17     True\n",
              "2   flor     17    16    False\n",
              "3  fanna     16    15     True"
            ]
          },
          "metadata": {},
          "execution_count": 168
        }
      ]
    },
    {
      "cell_type": "code",
      "metadata": {
        "colab": {
          "base_uri": "https://localhost:8080/",
          "height": 204
        },
        "id": "nNC58qjn4SL8",
        "outputId": "2b34768f-64a6-43dc-9e07-8f7977520108"
      },
      "source": [
        "df = pd.read_csv('/content/sample_data/california_housing_test.csv', \n",
        "            delimiter=',', na_values = ['-']) #rremplazare los - por NaN\n",
        "df.head()"
      ],
      "execution_count": null,
      "outputs": [
        {
          "output_type": "execute_result",
          "data": {
            "text/html": [
              "<div>\n",
              "<style scoped>\n",
              "    .dataframe tbody tr th:only-of-type {\n",
              "        vertical-align: middle;\n",
              "    }\n",
              "\n",
              "    .dataframe tbody tr th {\n",
              "        vertical-align: top;\n",
              "    }\n",
              "\n",
              "    .dataframe thead th {\n",
              "        text-align: right;\n",
              "    }\n",
              "</style>\n",
              "<table border=\"1\" class=\"dataframe\">\n",
              "  <thead>\n",
              "    <tr style=\"text-align: right;\">\n",
              "      <th></th>\n",
              "      <th>longitude</th>\n",
              "      <th>latitude</th>\n",
              "      <th>housing_median_age</th>\n",
              "      <th>total_rooms</th>\n",
              "      <th>total_bedrooms</th>\n",
              "      <th>population</th>\n",
              "      <th>households</th>\n",
              "      <th>median_income</th>\n",
              "      <th>median_house_value</th>\n",
              "    </tr>\n",
              "  </thead>\n",
              "  <tbody>\n",
              "    <tr>\n",
              "      <th>0</th>\n",
              "      <td>-122.05</td>\n",
              "      <td>37.37</td>\n",
              "      <td>27.0</td>\n",
              "      <td>3885.0</td>\n",
              "      <td>661.0</td>\n",
              "      <td>1537.0</td>\n",
              "      <td>606.0</td>\n",
              "      <td>6.6085</td>\n",
              "      <td>344700.0</td>\n",
              "    </tr>\n",
              "    <tr>\n",
              "      <th>1</th>\n",
              "      <td>-118.30</td>\n",
              "      <td>34.26</td>\n",
              "      <td>43.0</td>\n",
              "      <td>1510.0</td>\n",
              "      <td>310.0</td>\n",
              "      <td>809.0</td>\n",
              "      <td>277.0</td>\n",
              "      <td>3.5990</td>\n",
              "      <td>176500.0</td>\n",
              "    </tr>\n",
              "    <tr>\n",
              "      <th>2</th>\n",
              "      <td>-117.81</td>\n",
              "      <td>33.78</td>\n",
              "      <td>27.0</td>\n",
              "      <td>3589.0</td>\n",
              "      <td>507.0</td>\n",
              "      <td>1484.0</td>\n",
              "      <td>495.0</td>\n",
              "      <td>5.7934</td>\n",
              "      <td>270500.0</td>\n",
              "    </tr>\n",
              "    <tr>\n",
              "      <th>3</th>\n",
              "      <td>-118.36</td>\n",
              "      <td>33.82</td>\n",
              "      <td>28.0</td>\n",
              "      <td>67.0</td>\n",
              "      <td>15.0</td>\n",
              "      <td>49.0</td>\n",
              "      <td>11.0</td>\n",
              "      <td>6.1359</td>\n",
              "      <td>330000.0</td>\n",
              "    </tr>\n",
              "    <tr>\n",
              "      <th>4</th>\n",
              "      <td>-119.67</td>\n",
              "      <td>36.33</td>\n",
              "      <td>19.0</td>\n",
              "      <td>1241.0</td>\n",
              "      <td>244.0</td>\n",
              "      <td>850.0</td>\n",
              "      <td>237.0</td>\n",
              "      <td>2.9375</td>\n",
              "      <td>81700.0</td>\n",
              "    </tr>\n",
              "  </tbody>\n",
              "</table>\n",
              "</div>"
            ],
            "text/plain": [
              "   longitude  latitude  ...  median_income  median_house_value\n",
              "0    -122.05     37.37  ...         6.6085            344700.0\n",
              "1    -118.30     34.26  ...         3.5990            176500.0\n",
              "2    -117.81     33.78  ...         5.7934            270500.0\n",
              "3    -118.36     33.82  ...         6.1359            330000.0\n",
              "4    -119.67     36.33  ...         2.9375             81700.0\n",
              "\n",
              "[5 rows x 9 columns]"
            ]
          },
          "metadata": {},
          "execution_count": 185
        }
      ]
    },
    {
      "cell_type": "code",
      "metadata": {
        "colab": {
          "base_uri": "https://localhost:8080/"
        },
        "id": "dBABLsFB6Brm",
        "outputId": "3e5d51bf-2ac8-4675-8a0d-918017a93abe"
      },
      "source": [
        "df.households # es de tipo float, lo voy a pasar a int"
      ],
      "execution_count": null,
      "outputs": [
        {
          "output_type": "execute_result",
          "data": {
            "text/plain": [
              "0        606.0\n",
              "1        277.0\n",
              "2        495.0\n",
              "3         11.0\n",
              "4        237.0\n",
              "         ...  \n",
              "2995     607.0\n",
              "2996    1036.0\n",
              "2997     220.0\n",
              "2998      14.0\n",
              "2999     260.0\n",
              "Name: households, Length: 3000, dtype: float64"
            ]
          },
          "metadata": {},
          "execution_count": 187
        }
      ]
    },
    {
      "cell_type": "code",
      "metadata": {
        "colab": {
          "base_uri": "https://localhost:8080/"
        },
        "id": "R7ejtlEW6yG2",
        "outputId": "3cdbd275-76ac-442b-f93c-c08f7bdf3981"
      },
      "source": [
        "#transformando a entero \n",
        "df.households = df.apply( lambda row: int(row['households']) , axis = 1 )\n",
        "df.households"
      ],
      "execution_count": null,
      "outputs": [
        {
          "output_type": "execute_result",
          "data": {
            "text/plain": [
              "0        606\n",
              "1        277\n",
              "2        495\n",
              "3         11\n",
              "4        237\n",
              "        ... \n",
              "2995     607\n",
              "2996    1036\n",
              "2997     220\n",
              "2998      14\n",
              "2999     260\n",
              "Name: households, Length: 3000, dtype: int64"
            ]
          },
          "metadata": {},
          "execution_count": 190
        }
      ]
    },
    {
      "cell_type": "markdown",
      "metadata": {
        "id": "095kWBPs8X0s"
      },
      "source": [
        "### Ordenando Df\n"
      ]
    },
    {
      "cell_type": "code",
      "metadata": {
        "colab": {
          "base_uri": "https://localhost:8080/",
          "height": 419
        },
        "id": "WRrt33Lf8qxb",
        "outputId": "3bbb093a-13e3-4b5f-e4f9-67d1aabd96c6"
      },
      "source": [
        "#ordenar por index\n",
        "df.sort_index() # por default es de forma ascendnete"
      ],
      "execution_count": null,
      "outputs": [
        {
          "output_type": "execute_result",
          "data": {
            "text/html": [
              "<div>\n",
              "<style scoped>\n",
              "    .dataframe tbody tr th:only-of-type {\n",
              "        vertical-align: middle;\n",
              "    }\n",
              "\n",
              "    .dataframe tbody tr th {\n",
              "        vertical-align: top;\n",
              "    }\n",
              "\n",
              "    .dataframe thead th {\n",
              "        text-align: right;\n",
              "    }\n",
              "</style>\n",
              "<table border=\"1\" class=\"dataframe\">\n",
              "  <thead>\n",
              "    <tr style=\"text-align: right;\">\n",
              "      <th></th>\n",
              "      <th>longitude</th>\n",
              "      <th>latitude</th>\n",
              "      <th>housing_median_age</th>\n",
              "      <th>total_rooms</th>\n",
              "      <th>total_bedrooms</th>\n",
              "      <th>population</th>\n",
              "      <th>households</th>\n",
              "      <th>median_income</th>\n",
              "      <th>median_house_value</th>\n",
              "    </tr>\n",
              "  </thead>\n",
              "  <tbody>\n",
              "    <tr>\n",
              "      <th>0</th>\n",
              "      <td>-122.05</td>\n",
              "      <td>37.37</td>\n",
              "      <td>27.0</td>\n",
              "      <td>3885.0</td>\n",
              "      <td>661.0</td>\n",
              "      <td>1537.0</td>\n",
              "      <td>606</td>\n",
              "      <td>6.6085</td>\n",
              "      <td>344700.0</td>\n",
              "    </tr>\n",
              "    <tr>\n",
              "      <th>1</th>\n",
              "      <td>-118.30</td>\n",
              "      <td>34.26</td>\n",
              "      <td>43.0</td>\n",
              "      <td>1510.0</td>\n",
              "      <td>310.0</td>\n",
              "      <td>809.0</td>\n",
              "      <td>277</td>\n",
              "      <td>3.5990</td>\n",
              "      <td>176500.0</td>\n",
              "    </tr>\n",
              "    <tr>\n",
              "      <th>2</th>\n",
              "      <td>-117.81</td>\n",
              "      <td>33.78</td>\n",
              "      <td>27.0</td>\n",
              "      <td>3589.0</td>\n",
              "      <td>507.0</td>\n",
              "      <td>1484.0</td>\n",
              "      <td>495</td>\n",
              "      <td>5.7934</td>\n",
              "      <td>270500.0</td>\n",
              "    </tr>\n",
              "    <tr>\n",
              "      <th>3</th>\n",
              "      <td>-118.36</td>\n",
              "      <td>33.82</td>\n",
              "      <td>28.0</td>\n",
              "      <td>67.0</td>\n",
              "      <td>15.0</td>\n",
              "      <td>49.0</td>\n",
              "      <td>11</td>\n",
              "      <td>6.1359</td>\n",
              "      <td>330000.0</td>\n",
              "    </tr>\n",
              "    <tr>\n",
              "      <th>4</th>\n",
              "      <td>-119.67</td>\n",
              "      <td>36.33</td>\n",
              "      <td>19.0</td>\n",
              "      <td>1241.0</td>\n",
              "      <td>244.0</td>\n",
              "      <td>850.0</td>\n",
              "      <td>237</td>\n",
              "      <td>2.9375</td>\n",
              "      <td>81700.0</td>\n",
              "    </tr>\n",
              "    <tr>\n",
              "      <th>...</th>\n",
              "      <td>...</td>\n",
              "      <td>...</td>\n",
              "      <td>...</td>\n",
              "      <td>...</td>\n",
              "      <td>...</td>\n",
              "      <td>...</td>\n",
              "      <td>...</td>\n",
              "      <td>...</td>\n",
              "      <td>...</td>\n",
              "    </tr>\n",
              "    <tr>\n",
              "      <th>2995</th>\n",
              "      <td>-119.86</td>\n",
              "      <td>34.42</td>\n",
              "      <td>23.0</td>\n",
              "      <td>1450.0</td>\n",
              "      <td>642.0</td>\n",
              "      <td>1258.0</td>\n",
              "      <td>607</td>\n",
              "      <td>1.1790</td>\n",
              "      <td>225000.0</td>\n",
              "    </tr>\n",
              "    <tr>\n",
              "      <th>2996</th>\n",
              "      <td>-118.14</td>\n",
              "      <td>34.06</td>\n",
              "      <td>27.0</td>\n",
              "      <td>5257.0</td>\n",
              "      <td>1082.0</td>\n",
              "      <td>3496.0</td>\n",
              "      <td>1036</td>\n",
              "      <td>3.3906</td>\n",
              "      <td>237200.0</td>\n",
              "    </tr>\n",
              "    <tr>\n",
              "      <th>2997</th>\n",
              "      <td>-119.70</td>\n",
              "      <td>36.30</td>\n",
              "      <td>10.0</td>\n",
              "      <td>956.0</td>\n",
              "      <td>201.0</td>\n",
              "      <td>693.0</td>\n",
              "      <td>220</td>\n",
              "      <td>2.2895</td>\n",
              "      <td>62000.0</td>\n",
              "    </tr>\n",
              "    <tr>\n",
              "      <th>2998</th>\n",
              "      <td>-117.12</td>\n",
              "      <td>34.10</td>\n",
              "      <td>40.0</td>\n",
              "      <td>96.0</td>\n",
              "      <td>14.0</td>\n",
              "      <td>46.0</td>\n",
              "      <td>14</td>\n",
              "      <td>3.2708</td>\n",
              "      <td>162500.0</td>\n",
              "    </tr>\n",
              "    <tr>\n",
              "      <th>2999</th>\n",
              "      <td>-119.63</td>\n",
              "      <td>34.42</td>\n",
              "      <td>42.0</td>\n",
              "      <td>1765.0</td>\n",
              "      <td>263.0</td>\n",
              "      <td>753.0</td>\n",
              "      <td>260</td>\n",
              "      <td>8.5608</td>\n",
              "      <td>500001.0</td>\n",
              "    </tr>\n",
              "  </tbody>\n",
              "</table>\n",
              "<p>3000 rows × 9 columns</p>\n",
              "</div>"
            ],
            "text/plain": [
              "      longitude  latitude  ...  median_income  median_house_value\n",
              "0       -122.05     37.37  ...         6.6085            344700.0\n",
              "1       -118.30     34.26  ...         3.5990            176500.0\n",
              "2       -117.81     33.78  ...         5.7934            270500.0\n",
              "3       -118.36     33.82  ...         6.1359            330000.0\n",
              "4       -119.67     36.33  ...         2.9375             81700.0\n",
              "...         ...       ...  ...            ...                 ...\n",
              "2995    -119.86     34.42  ...         1.1790            225000.0\n",
              "2996    -118.14     34.06  ...         3.3906            237200.0\n",
              "2997    -119.70     36.30  ...         2.2895             62000.0\n",
              "2998    -117.12     34.10  ...         3.2708            162500.0\n",
              "2999    -119.63     34.42  ...         8.5608            500001.0\n",
              "\n",
              "[3000 rows x 9 columns]"
            ]
          },
          "metadata": {},
          "execution_count": 191
        }
      ]
    },
    {
      "cell_type": "code",
      "metadata": {
        "colab": {
          "base_uri": "https://localhost:8080/",
          "height": 419
        },
        "id": "vDrW1clA8bFw",
        "outputId": "5a8436e8-f579-4a11-b337-ce820e406162"
      },
      "source": [
        "#ordenar por columnas\n",
        "df.sort_values('households', ascending = False) # si quiero que sea descendente"
      ],
      "execution_count": null,
      "outputs": [
        {
          "output_type": "execute_result",
          "data": {
            "text/html": [
              "<div>\n",
              "<style scoped>\n",
              "    .dataframe tbody tr th:only-of-type {\n",
              "        vertical-align: middle;\n",
              "    }\n",
              "\n",
              "    .dataframe tbody tr th {\n",
              "        vertical-align: top;\n",
              "    }\n",
              "\n",
              "    .dataframe thead th {\n",
              "        text-align: right;\n",
              "    }\n",
              "</style>\n",
              "<table border=\"1\" class=\"dataframe\">\n",
              "  <thead>\n",
              "    <tr style=\"text-align: right;\">\n",
              "      <th></th>\n",
              "      <th>longitude</th>\n",
              "      <th>latitude</th>\n",
              "      <th>housing_median_age</th>\n",
              "      <th>total_rooms</th>\n",
              "      <th>total_bedrooms</th>\n",
              "      <th>population</th>\n",
              "      <th>households</th>\n",
              "      <th>median_income</th>\n",
              "      <th>median_house_value</th>\n",
              "    </tr>\n",
              "  </thead>\n",
              "  <tbody>\n",
              "    <tr>\n",
              "      <th>1563</th>\n",
              "      <td>-118.44</td>\n",
              "      <td>33.98</td>\n",
              "      <td>21.0</td>\n",
              "      <td>18132.0</td>\n",
              "      <td>5419.0</td>\n",
              "      <td>7431.0</td>\n",
              "      <td>4930</td>\n",
              "      <td>5.3359</td>\n",
              "      <td>500001.0</td>\n",
              "    </tr>\n",
              "    <tr>\n",
              "      <th>978</th>\n",
              "      <td>-121.53</td>\n",
              "      <td>38.48</td>\n",
              "      <td>5.0</td>\n",
              "      <td>27870.0</td>\n",
              "      <td>5027.0</td>\n",
              "      <td>11935.0</td>\n",
              "      <td>4855</td>\n",
              "      <td>4.8811</td>\n",
              "      <td>212200.0</td>\n",
              "    </tr>\n",
              "    <tr>\n",
              "      <th>2014</th>\n",
              "      <td>-117.22</td>\n",
              "      <td>32.86</td>\n",
              "      <td>4.0</td>\n",
              "      <td>16289.0</td>\n",
              "      <td>4585.0</td>\n",
              "      <td>7604.0</td>\n",
              "      <td>4176</td>\n",
              "      <td>3.6287</td>\n",
              "      <td>280800.0</td>\n",
              "    </tr>\n",
              "    <tr>\n",
              "      <th>1146</th>\n",
              "      <td>-117.27</td>\n",
              "      <td>33.15</td>\n",
              "      <td>4.0</td>\n",
              "      <td>23915.0</td>\n",
              "      <td>4135.0</td>\n",
              "      <td>10877.0</td>\n",
              "      <td>3958</td>\n",
              "      <td>4.6357</td>\n",
              "      <td>244900.0</td>\n",
              "    </tr>\n",
              "    <tr>\n",
              "      <th>321</th>\n",
              "      <td>-121.73</td>\n",
              "      <td>37.68</td>\n",
              "      <td>17.0</td>\n",
              "      <td>20354.0</td>\n",
              "      <td>3493.0</td>\n",
              "      <td>8768.0</td>\n",
              "      <td>3293</td>\n",
              "      <td>5.4496</td>\n",
              "      <td>238900.0</td>\n",
              "    </tr>\n",
              "    <tr>\n",
              "      <th>...</th>\n",
              "      <td>...</td>\n",
              "      <td>...</td>\n",
              "      <td>...</td>\n",
              "      <td>...</td>\n",
              "      <td>...</td>\n",
              "      <td>...</td>\n",
              "      <td>...</td>\n",
              "      <td>...</td>\n",
              "      <td>...</td>\n",
              "    </tr>\n",
              "    <tr>\n",
              "      <th>666</th>\n",
              "      <td>-121.89</td>\n",
              "      <td>37.42</td>\n",
              "      <td>26.0</td>\n",
              "      <td>40.0</td>\n",
              "      <td>8.0</td>\n",
              "      <td>52.0</td>\n",
              "      <td>7</td>\n",
              "      <td>7.7197</td>\n",
              "      <td>225000.0</td>\n",
              "    </tr>\n",
              "    <tr>\n",
              "      <th>2494</th>\n",
              "      <td>-118.44</td>\n",
              "      <td>34.04</td>\n",
              "      <td>49.0</td>\n",
              "      <td>32.0</td>\n",
              "      <td>7.0</td>\n",
              "      <td>14.0</td>\n",
              "      <td>7</td>\n",
              "      <td>2.1875</td>\n",
              "      <td>225000.0</td>\n",
              "    </tr>\n",
              "    <tr>\n",
              "      <th>740</th>\n",
              "      <td>-117.12</td>\n",
              "      <td>32.66</td>\n",
              "      <td>52.0</td>\n",
              "      <td>16.0</td>\n",
              "      <td>4.0</td>\n",
              "      <td>8.0</td>\n",
              "      <td>3</td>\n",
              "      <td>1.1250</td>\n",
              "      <td>60000.0</td>\n",
              "    </tr>\n",
              "    <tr>\n",
              "      <th>2640</th>\n",
              "      <td>-114.62</td>\n",
              "      <td>33.62</td>\n",
              "      <td>26.0</td>\n",
              "      <td>18.0</td>\n",
              "      <td>3.0</td>\n",
              "      <td>5.0</td>\n",
              "      <td>3</td>\n",
              "      <td>0.5360</td>\n",
              "      <td>275000.0</td>\n",
              "    </tr>\n",
              "    <tr>\n",
              "      <th>1115</th>\n",
              "      <td>-116.95</td>\n",
              "      <td>33.86</td>\n",
              "      <td>1.0</td>\n",
              "      <td>6.0</td>\n",
              "      <td>2.0</td>\n",
              "      <td>8.0</td>\n",
              "      <td>2</td>\n",
              "      <td>1.6250</td>\n",
              "      <td>55000.0</td>\n",
              "    </tr>\n",
              "  </tbody>\n",
              "</table>\n",
              "<p>3000 rows × 9 columns</p>\n",
              "</div>"
            ],
            "text/plain": [
              "      longitude  latitude  ...  median_income  median_house_value\n",
              "1563    -118.44     33.98  ...         5.3359            500001.0\n",
              "978     -121.53     38.48  ...         4.8811            212200.0\n",
              "2014    -117.22     32.86  ...         3.6287            280800.0\n",
              "1146    -117.27     33.15  ...         4.6357            244900.0\n",
              "321     -121.73     37.68  ...         5.4496            238900.0\n",
              "...         ...       ...  ...            ...                 ...\n",
              "666     -121.89     37.42  ...         7.7197            225000.0\n",
              "2494    -118.44     34.04  ...         2.1875            225000.0\n",
              "740     -117.12     32.66  ...         1.1250             60000.0\n",
              "2640    -114.62     33.62  ...         0.5360            275000.0\n",
              "1115    -116.95     33.86  ...         1.6250             55000.0\n",
              "\n",
              "[3000 rows x 9 columns]"
            ]
          },
          "metadata": {},
          "execution_count": 192
        }
      ]
    },
    {
      "cell_type": "markdown",
      "metadata": {
        "id": "7iJ-t18A89Ni"
      },
      "source": [
        "### Creando archivo\n"
      ]
    },
    {
      "cell_type": "code",
      "metadata": {
        "id": "ZLXMUuZg8_-j"
      },
      "source": [
        "df.to_csv('nuevo archivo.csv', columns = ['longitude','latitude'])"
      ],
      "execution_count": null,
      "outputs": []
    },
    {
      "cell_type": "markdown",
      "metadata": {
        "id": "NSGowlq09gjQ"
      },
      "source": [
        "### modificando DF\n"
      ]
    },
    {
      "cell_type": "code",
      "metadata": {
        "colab": {
          "base_uri": "https://localhost:8080/",
          "height": 142
        },
        "id": "rQoOCzh59jyC",
        "outputId": "fd0ea9db-fefe-43ad-8b56-68543d8935a7"
      },
      "source": [
        "df = pd.DataFrame(np.arange(15).reshape(3,5),\n",
        "                  columns = list('abcde'),\n",
        "                  index = list('abc'))\n",
        "df"
      ],
      "execution_count": null,
      "outputs": [
        {
          "output_type": "execute_result",
          "data": {
            "text/html": [
              "<div>\n",
              "<style scoped>\n",
              "    .dataframe tbody tr th:only-of-type {\n",
              "        vertical-align: middle;\n",
              "    }\n",
              "\n",
              "    .dataframe tbody tr th {\n",
              "        vertical-align: top;\n",
              "    }\n",
              "\n",
              "    .dataframe thead th {\n",
              "        text-align: right;\n",
              "    }\n",
              "</style>\n",
              "<table border=\"1\" class=\"dataframe\">\n",
              "  <thead>\n",
              "    <tr style=\"text-align: right;\">\n",
              "      <th></th>\n",
              "      <th>a</th>\n",
              "      <th>b</th>\n",
              "      <th>c</th>\n",
              "      <th>d</th>\n",
              "      <th>e</th>\n",
              "    </tr>\n",
              "  </thead>\n",
              "  <tbody>\n",
              "    <tr>\n",
              "      <th>a</th>\n",
              "      <td>0</td>\n",
              "      <td>1</td>\n",
              "      <td>2</td>\n",
              "      <td>3</td>\n",
              "      <td>4</td>\n",
              "    </tr>\n",
              "    <tr>\n",
              "      <th>b</th>\n",
              "      <td>5</td>\n",
              "      <td>6</td>\n",
              "      <td>7</td>\n",
              "      <td>8</td>\n",
              "      <td>9</td>\n",
              "    </tr>\n",
              "    <tr>\n",
              "      <th>c</th>\n",
              "      <td>10</td>\n",
              "      <td>11</td>\n",
              "      <td>12</td>\n",
              "      <td>13</td>\n",
              "      <td>14</td>\n",
              "    </tr>\n",
              "  </tbody>\n",
              "</table>\n",
              "</div>"
            ],
            "text/plain": [
              "    a   b   c   d   e\n",
              "a   0   1   2   3   4\n",
              "b   5   6   7   8   9\n",
              "c  10  11  12  13  14"
            ]
          },
          "metadata": {},
          "execution_count": 197
        }
      ]
    },
    {
      "cell_type": "code",
      "metadata": {
        "colab": {
          "base_uri": "https://localhost:8080/",
          "height": 142
        },
        "id": "hAo7Vqvu99j8",
        "outputId": "80fa3a4c-44bb-4e1c-d2af-71450d3c2e96"
      },
      "source": [
        "#cambiando toda la columnas\n",
        "df.a = 100\n",
        "df"
      ],
      "execution_count": null,
      "outputs": [
        {
          "output_type": "execute_result",
          "data": {
            "text/html": [
              "<div>\n",
              "<style scoped>\n",
              "    .dataframe tbody tr th:only-of-type {\n",
              "        vertical-align: middle;\n",
              "    }\n",
              "\n",
              "    .dataframe tbody tr th {\n",
              "        vertical-align: top;\n",
              "    }\n",
              "\n",
              "    .dataframe thead th {\n",
              "        text-align: right;\n",
              "    }\n",
              "</style>\n",
              "<table border=\"1\" class=\"dataframe\">\n",
              "  <thead>\n",
              "    <tr style=\"text-align: right;\">\n",
              "      <th></th>\n",
              "      <th>a</th>\n",
              "      <th>b</th>\n",
              "      <th>c</th>\n",
              "      <th>d</th>\n",
              "      <th>e</th>\n",
              "    </tr>\n",
              "  </thead>\n",
              "  <tbody>\n",
              "    <tr>\n",
              "      <th>a</th>\n",
              "      <td>100</td>\n",
              "      <td>1</td>\n",
              "      <td>2</td>\n",
              "      <td>3</td>\n",
              "      <td>4</td>\n",
              "    </tr>\n",
              "    <tr>\n",
              "      <th>b</th>\n",
              "      <td>100</td>\n",
              "      <td>6</td>\n",
              "      <td>7</td>\n",
              "      <td>8</td>\n",
              "      <td>9</td>\n",
              "    </tr>\n",
              "    <tr>\n",
              "      <th>c</th>\n",
              "      <td>100</td>\n",
              "      <td>11</td>\n",
              "      <td>12</td>\n",
              "      <td>13</td>\n",
              "      <td>14</td>\n",
              "    </tr>\n",
              "  </tbody>\n",
              "</table>\n",
              "</div>"
            ],
            "text/plain": [
              "     a   b   c   d   e\n",
              "a  100   1   2   3   4\n",
              "b  100   6   7   8   9\n",
              "c  100  11  12  13  14"
            ]
          },
          "metadata": {},
          "execution_count": 198
        }
      ]
    },
    {
      "cell_type": "code",
      "metadata": {
        "colab": {
          "base_uri": "https://localhost:8080/",
          "height": 142
        },
        "id": "zjx8fSrf-Sqy",
        "outputId": "6a87e1e5-746f-442c-ed47-4c059d34b27b"
      },
      "source": [
        "#cambiando solo un valor\n",
        "df.a[0] = 1\n",
        "df"
      ],
      "execution_count": null,
      "outputs": [
        {
          "output_type": "execute_result",
          "data": {
            "text/html": [
              "<div>\n",
              "<style scoped>\n",
              "    .dataframe tbody tr th:only-of-type {\n",
              "        vertical-align: middle;\n",
              "    }\n",
              "\n",
              "    .dataframe tbody tr th {\n",
              "        vertical-align: top;\n",
              "    }\n",
              "\n",
              "    .dataframe thead th {\n",
              "        text-align: right;\n",
              "    }\n",
              "</style>\n",
              "<table border=\"1\" class=\"dataframe\">\n",
              "  <thead>\n",
              "    <tr style=\"text-align: right;\">\n",
              "      <th></th>\n",
              "      <th>a</th>\n",
              "      <th>b</th>\n",
              "      <th>c</th>\n",
              "      <th>d</th>\n",
              "      <th>e</th>\n",
              "    </tr>\n",
              "  </thead>\n",
              "  <tbody>\n",
              "    <tr>\n",
              "      <th>a</th>\n",
              "      <td>1</td>\n",
              "      <td>1</td>\n",
              "      <td>2</td>\n",
              "      <td>3</td>\n",
              "      <td>4</td>\n",
              "    </tr>\n",
              "    <tr>\n",
              "      <th>b</th>\n",
              "      <td>100</td>\n",
              "      <td>6</td>\n",
              "      <td>7</td>\n",
              "      <td>8</td>\n",
              "      <td>9</td>\n",
              "    </tr>\n",
              "    <tr>\n",
              "      <th>c</th>\n",
              "      <td>100</td>\n",
              "      <td>11</td>\n",
              "      <td>12</td>\n",
              "      <td>13</td>\n",
              "      <td>14</td>\n",
              "    </tr>\n",
              "  </tbody>\n",
              "</table>\n",
              "</div>"
            ],
            "text/plain": [
              "     a   b   c   d   e\n",
              "a    1   1   2   3   4\n",
              "b  100   6   7   8   9\n",
              "c  100  11  12  13  14"
            ]
          },
          "metadata": {},
          "execution_count": 199
        }
      ]
    },
    {
      "cell_type": "code",
      "metadata": {
        "colab": {
          "base_uri": "https://localhost:8080/",
          "height": 142
        },
        "id": "1mOQNXzs-iXK",
        "outputId": "f9e95918-8bbe-402a-971a-fba9d31adce2"
      },
      "source": [
        "#eliminado una columna\n",
        "df.drop('c', axis = 1)"
      ],
      "execution_count": null,
      "outputs": [
        {
          "output_type": "execute_result",
          "data": {
            "text/html": [
              "<div>\n",
              "<style scoped>\n",
              "    .dataframe tbody tr th:only-of-type {\n",
              "        vertical-align: middle;\n",
              "    }\n",
              "\n",
              "    .dataframe tbody tr th {\n",
              "        vertical-align: top;\n",
              "    }\n",
              "\n",
              "    .dataframe thead th {\n",
              "        text-align: right;\n",
              "    }\n",
              "</style>\n",
              "<table border=\"1\" class=\"dataframe\">\n",
              "  <thead>\n",
              "    <tr style=\"text-align: right;\">\n",
              "      <th></th>\n",
              "      <th>a</th>\n",
              "      <th>b</th>\n",
              "      <th>d</th>\n",
              "      <th>e</th>\n",
              "    </tr>\n",
              "  </thead>\n",
              "  <tbody>\n",
              "    <tr>\n",
              "      <th>a</th>\n",
              "      <td>1</td>\n",
              "      <td>1</td>\n",
              "      <td>3</td>\n",
              "      <td>4</td>\n",
              "    </tr>\n",
              "    <tr>\n",
              "      <th>b</th>\n",
              "      <td>100</td>\n",
              "      <td>6</td>\n",
              "      <td>8</td>\n",
              "      <td>9</td>\n",
              "    </tr>\n",
              "    <tr>\n",
              "      <th>c</th>\n",
              "      <td>100</td>\n",
              "      <td>11</td>\n",
              "      <td>13</td>\n",
              "      <td>14</td>\n",
              "    </tr>\n",
              "  </tbody>\n",
              "</table>\n",
              "</div>"
            ],
            "text/plain": [
              "     a   b   d   e\n",
              "a    1   1   3   4\n",
              "b  100   6   8   9\n",
              "c  100  11  13  14"
            ]
          },
          "metadata": {},
          "execution_count": 201
        }
      ]
    },
    {
      "cell_type": "code",
      "metadata": {
        "colab": {
          "base_uri": "https://localhost:8080/",
          "height": 111
        },
        "id": "GR2hafpG-p0w",
        "outputId": "cfbe3b6f-fef7-4c76-bc8f-8fd55e59ede0"
      },
      "source": [
        "#eliminado una fila\n",
        "df.drop('b', axis = 0 )"
      ],
      "execution_count": null,
      "outputs": [
        {
          "output_type": "execute_result",
          "data": {
            "text/html": [
              "<div>\n",
              "<style scoped>\n",
              "    .dataframe tbody tr th:only-of-type {\n",
              "        vertical-align: middle;\n",
              "    }\n",
              "\n",
              "    .dataframe tbody tr th {\n",
              "        vertical-align: top;\n",
              "    }\n",
              "\n",
              "    .dataframe thead th {\n",
              "        text-align: right;\n",
              "    }\n",
              "</style>\n",
              "<table border=\"1\" class=\"dataframe\">\n",
              "  <thead>\n",
              "    <tr style=\"text-align: right;\">\n",
              "      <th></th>\n",
              "      <th>a</th>\n",
              "      <th>b</th>\n",
              "      <th>c</th>\n",
              "      <th>d</th>\n",
              "      <th>e</th>\n",
              "    </tr>\n",
              "  </thead>\n",
              "  <tbody>\n",
              "    <tr>\n",
              "      <th>a</th>\n",
              "      <td>1</td>\n",
              "      <td>1</td>\n",
              "      <td>2</td>\n",
              "      <td>3</td>\n",
              "      <td>4</td>\n",
              "    </tr>\n",
              "    <tr>\n",
              "      <th>c</th>\n",
              "      <td>100</td>\n",
              "      <td>11</td>\n",
              "      <td>12</td>\n",
              "      <td>13</td>\n",
              "      <td>14</td>\n",
              "    </tr>\n",
              "  </tbody>\n",
              "</table>\n",
              "</div>"
            ],
            "text/plain": [
              "     a   b   c   d   e\n",
              "a    1   1   2   3   4\n",
              "c  100  11  12  13  14"
            ]
          },
          "metadata": {},
          "execution_count": 202
        }
      ]
    },
    {
      "cell_type": "code",
      "metadata": {
        "colab": {
          "base_uri": "https://localhost:8080/",
          "height": 142
        },
        "id": "jwwwsJt2-34H",
        "outputId": "d6024fab-46da-40a5-f91f-53361bbf9251"
      },
      "source": [
        "#agregar una columna\n",
        "#si moodifica al DF\n",
        "df.insert(1, 'x', [1,2,3])\n",
        "df"
      ],
      "execution_count": null,
      "outputs": [
        {
          "output_type": "execute_result",
          "data": {
            "text/html": [
              "<div>\n",
              "<style scoped>\n",
              "    .dataframe tbody tr th:only-of-type {\n",
              "        vertical-align: middle;\n",
              "    }\n",
              "\n",
              "    .dataframe tbody tr th {\n",
              "        vertical-align: top;\n",
              "    }\n",
              "\n",
              "    .dataframe thead th {\n",
              "        text-align: right;\n",
              "    }\n",
              "</style>\n",
              "<table border=\"1\" class=\"dataframe\">\n",
              "  <thead>\n",
              "    <tr style=\"text-align: right;\">\n",
              "      <th></th>\n",
              "      <th>a</th>\n",
              "      <th>x</th>\n",
              "      <th>b</th>\n",
              "      <th>c</th>\n",
              "      <th>d</th>\n",
              "      <th>e</th>\n",
              "    </tr>\n",
              "  </thead>\n",
              "  <tbody>\n",
              "    <tr>\n",
              "      <th>a</th>\n",
              "      <td>1</td>\n",
              "      <td>1</td>\n",
              "      <td>1</td>\n",
              "      <td>2</td>\n",
              "      <td>3</td>\n",
              "      <td>4</td>\n",
              "    </tr>\n",
              "    <tr>\n",
              "      <th>b</th>\n",
              "      <td>100</td>\n",
              "      <td>2</td>\n",
              "      <td>6</td>\n",
              "      <td>7</td>\n",
              "      <td>8</td>\n",
              "      <td>9</td>\n",
              "    </tr>\n",
              "    <tr>\n",
              "      <th>c</th>\n",
              "      <td>100</td>\n",
              "      <td>3</td>\n",
              "      <td>11</td>\n",
              "      <td>12</td>\n",
              "      <td>13</td>\n",
              "      <td>14</td>\n",
              "    </tr>\n",
              "  </tbody>\n",
              "</table>\n",
              "</div>"
            ],
            "text/plain": [
              "     a  x   b   c   d   e\n",
              "a    1  1   1   2   3   4\n",
              "b  100  2   6   7   8   9\n",
              "c  100  3  11  12  13  14"
            ]
          },
          "metadata": {},
          "execution_count": 203
        }
      ]
    },
    {
      "cell_type": "code",
      "metadata": {
        "colab": {
          "base_uri": "https://localhost:8080/",
          "height": 142
        },
        "id": "80npUkcS_NiD",
        "outputId": "2d773e67-c145-4eab-9187-80d04cfa6763"
      },
      "source": [
        "#agregar una columna\n",
        "#genera un nuevo DF\n",
        "df.assign ( z = [0,0,0])"
      ],
      "execution_count": null,
      "outputs": [
        {
          "output_type": "execute_result",
          "data": {
            "text/html": [
              "<div>\n",
              "<style scoped>\n",
              "    .dataframe tbody tr th:only-of-type {\n",
              "        vertical-align: middle;\n",
              "    }\n",
              "\n",
              "    .dataframe tbody tr th {\n",
              "        vertical-align: top;\n",
              "    }\n",
              "\n",
              "    .dataframe thead th {\n",
              "        text-align: right;\n",
              "    }\n",
              "</style>\n",
              "<table border=\"1\" class=\"dataframe\">\n",
              "  <thead>\n",
              "    <tr style=\"text-align: right;\">\n",
              "      <th></th>\n",
              "      <th>a</th>\n",
              "      <th>x</th>\n",
              "      <th>b</th>\n",
              "      <th>c</th>\n",
              "      <th>d</th>\n",
              "      <th>e</th>\n",
              "      <th>z</th>\n",
              "    </tr>\n",
              "  </thead>\n",
              "  <tbody>\n",
              "    <tr>\n",
              "      <th>a</th>\n",
              "      <td>1</td>\n",
              "      <td>1</td>\n",
              "      <td>1</td>\n",
              "      <td>2</td>\n",
              "      <td>3</td>\n",
              "      <td>4</td>\n",
              "      <td>0</td>\n",
              "    </tr>\n",
              "    <tr>\n",
              "      <th>b</th>\n",
              "      <td>100</td>\n",
              "      <td>2</td>\n",
              "      <td>6</td>\n",
              "      <td>7</td>\n",
              "      <td>8</td>\n",
              "      <td>9</td>\n",
              "      <td>0</td>\n",
              "    </tr>\n",
              "    <tr>\n",
              "      <th>c</th>\n",
              "      <td>100</td>\n",
              "      <td>3</td>\n",
              "      <td>11</td>\n",
              "      <td>12</td>\n",
              "      <td>13</td>\n",
              "      <td>14</td>\n",
              "      <td>0</td>\n",
              "    </tr>\n",
              "  </tbody>\n",
              "</table>\n",
              "</div>"
            ],
            "text/plain": [
              "     a  x   b   c   d   e  z\n",
              "a    1  1   1   2   3   4  0\n",
              "b  100  2   6   7   8   9  0\n",
              "c  100  3  11  12  13  14  0"
            ]
          },
          "metadata": {},
          "execution_count": 204
        }
      ]
    },
    {
      "cell_type": "markdown",
      "metadata": {
        "id": "twWNVrdF_bEW"
      },
      "source": [
        "### Etiquetas y posiciones en el DF"
      ]
    },
    {
      "cell_type": "code",
      "metadata": {
        "colab": {
          "base_uri": "https://localhost:8080/",
          "height": 173
        },
        "id": "ITqvCUze_fZL",
        "outputId": "72f9cf78-4785-4c5b-a56c-9413c29c4504"
      },
      "source": [
        "dic = {\n",
        "    'nombre' : ['edu','uriel', 'marines','alex'],\n",
        "    'edad' : np.random.randint(15,30,4),\n",
        "    'calific' : np.random.randint(0,20,4),\n",
        "    'correos' : ['aqsw', 'swsed', 'aqaqs', 'eeeee']\n",
        "}\n",
        "\n",
        "data=pd.DataFrame(dic, index = list('abcd'))\n",
        "data"
      ],
      "execution_count": null,
      "outputs": [
        {
          "output_type": "execute_result",
          "data": {
            "text/html": [
              "<div>\n",
              "<style scoped>\n",
              "    .dataframe tbody tr th:only-of-type {\n",
              "        vertical-align: middle;\n",
              "    }\n",
              "\n",
              "    .dataframe tbody tr th {\n",
              "        vertical-align: top;\n",
              "    }\n",
              "\n",
              "    .dataframe thead th {\n",
              "        text-align: right;\n",
              "    }\n",
              "</style>\n",
              "<table border=\"1\" class=\"dataframe\">\n",
              "  <thead>\n",
              "    <tr style=\"text-align: right;\">\n",
              "      <th></th>\n",
              "      <th>nombre</th>\n",
              "      <th>edad</th>\n",
              "      <th>calific</th>\n",
              "      <th>correos</th>\n",
              "    </tr>\n",
              "  </thead>\n",
              "  <tbody>\n",
              "    <tr>\n",
              "      <th>a</th>\n",
              "      <td>edu</td>\n",
              "      <td>21</td>\n",
              "      <td>10</td>\n",
              "      <td>aqsw</td>\n",
              "    </tr>\n",
              "    <tr>\n",
              "      <th>b</th>\n",
              "      <td>uriel</td>\n",
              "      <td>16</td>\n",
              "      <td>7</td>\n",
              "      <td>swsed</td>\n",
              "    </tr>\n",
              "    <tr>\n",
              "      <th>c</th>\n",
              "      <td>marines</td>\n",
              "      <td>18</td>\n",
              "      <td>16</td>\n",
              "      <td>aqaqs</td>\n",
              "    </tr>\n",
              "    <tr>\n",
              "      <th>d</th>\n",
              "      <td>alex</td>\n",
              "      <td>22</td>\n",
              "      <td>2</td>\n",
              "      <td>eeeee</td>\n",
              "    </tr>\n",
              "  </tbody>\n",
              "</table>\n",
              "</div>"
            ],
            "text/plain": [
              "    nombre  edad  calific correos\n",
              "a      edu    21       10    aqsw\n",
              "b    uriel    16        7   swsed\n",
              "c  marines    18       16   aqaqs\n",
              "d     alex    22        2   eeeee"
            ]
          },
          "metadata": {},
          "execution_count": 217
        }
      ]
    },
    {
      "cell_type": "code",
      "metadata": {
        "colab": {
          "base_uri": "https://localhost:8080/",
          "height": 142
        },
        "id": "kFUS1L79AxLK",
        "outputId": "24337d71-985d-4f7b-a0df-fd35a5fe49c8"
      },
      "source": [
        "#USando LOC Trabaja con etiquetas\n",
        "data.loc['a':'c', ['nombre', 'edad']]"
      ],
      "execution_count": null,
      "outputs": [
        {
          "output_type": "execute_result",
          "data": {
            "text/html": [
              "<div>\n",
              "<style scoped>\n",
              "    .dataframe tbody tr th:only-of-type {\n",
              "        vertical-align: middle;\n",
              "    }\n",
              "\n",
              "    .dataframe tbody tr th {\n",
              "        vertical-align: top;\n",
              "    }\n",
              "\n",
              "    .dataframe thead th {\n",
              "        text-align: right;\n",
              "    }\n",
              "</style>\n",
              "<table border=\"1\" class=\"dataframe\">\n",
              "  <thead>\n",
              "    <tr style=\"text-align: right;\">\n",
              "      <th></th>\n",
              "      <th>nombre</th>\n",
              "      <th>edad</th>\n",
              "    </tr>\n",
              "  </thead>\n",
              "  <tbody>\n",
              "    <tr>\n",
              "      <th>a</th>\n",
              "      <td>edu</td>\n",
              "      <td>20</td>\n",
              "    </tr>\n",
              "    <tr>\n",
              "      <th>b</th>\n",
              "      <td>uriel</td>\n",
              "      <td>16</td>\n",
              "    </tr>\n",
              "    <tr>\n",
              "      <th>c</th>\n",
              "      <td>marines</td>\n",
              "      <td>28</td>\n",
              "    </tr>\n",
              "  </tbody>\n",
              "</table>\n",
              "</div>"
            ],
            "text/plain": [
              "    nombre  edad\n",
              "a      edu    20\n",
              "b    uriel    16\n",
              "c  marines    28"
            ]
          },
          "metadata": {},
          "execution_count": 214
        }
      ]
    },
    {
      "cell_type": "code",
      "metadata": {
        "colab": {
          "base_uri": "https://localhost:8080/",
          "height": 111
        },
        "id": "VcNp1OumBbXZ",
        "outputId": "0b6eab08-0ada-4f1e-e24e-578d2807de64"
      },
      "source": [
        "data.loc [ data.edad > 20 , ['nombre','edad']].sort_values('nombre')"
      ],
      "execution_count": null,
      "outputs": [
        {
          "output_type": "execute_result",
          "data": {
            "text/html": [
              "<div>\n",
              "<style scoped>\n",
              "    .dataframe tbody tr th:only-of-type {\n",
              "        vertical-align: middle;\n",
              "    }\n",
              "\n",
              "    .dataframe tbody tr th {\n",
              "        vertical-align: top;\n",
              "    }\n",
              "\n",
              "    .dataframe thead th {\n",
              "        text-align: right;\n",
              "    }\n",
              "</style>\n",
              "<table border=\"1\" class=\"dataframe\">\n",
              "  <thead>\n",
              "    <tr style=\"text-align: right;\">\n",
              "      <th></th>\n",
              "      <th>nombre</th>\n",
              "      <th>edad</th>\n",
              "    </tr>\n",
              "  </thead>\n",
              "  <tbody>\n",
              "    <tr>\n",
              "      <th>d</th>\n",
              "      <td>alex</td>\n",
              "      <td>22</td>\n",
              "    </tr>\n",
              "    <tr>\n",
              "      <th>a</th>\n",
              "      <td>edu</td>\n",
              "      <td>21</td>\n",
              "    </tr>\n",
              "  </tbody>\n",
              "</table>\n",
              "</div>"
            ],
            "text/plain": [
              "  nombre  edad\n",
              "d   alex    22\n",
              "a    edu    21"
            ]
          },
          "metadata": {},
          "execution_count": 221
        }
      ]
    },
    {
      "cell_type": "code",
      "metadata": {
        "colab": {
          "base_uri": "https://localhost:8080/",
          "height": 111
        },
        "id": "AHKMXpZYCdt7",
        "outputId": "f3a8f9f6-ffa0-47a5-ac1e-8c958e65979b"
      },
      "source": [
        "# USando ILOC Trabaja con posiciones\n",
        "data.iloc[0:2]"
      ],
      "execution_count": null,
      "outputs": [
        {
          "output_type": "execute_result",
          "data": {
            "text/html": [
              "<div>\n",
              "<style scoped>\n",
              "    .dataframe tbody tr th:only-of-type {\n",
              "        vertical-align: middle;\n",
              "    }\n",
              "\n",
              "    .dataframe tbody tr th {\n",
              "        vertical-align: top;\n",
              "    }\n",
              "\n",
              "    .dataframe thead th {\n",
              "        text-align: right;\n",
              "    }\n",
              "</style>\n",
              "<table border=\"1\" class=\"dataframe\">\n",
              "  <thead>\n",
              "    <tr style=\"text-align: right;\">\n",
              "      <th></th>\n",
              "      <th>nombre</th>\n",
              "      <th>edad</th>\n",
              "      <th>calific</th>\n",
              "      <th>correos</th>\n",
              "    </tr>\n",
              "  </thead>\n",
              "  <tbody>\n",
              "    <tr>\n",
              "      <th>a</th>\n",
              "      <td>edu</td>\n",
              "      <td>21</td>\n",
              "      <td>10</td>\n",
              "      <td>aqsw</td>\n",
              "    </tr>\n",
              "    <tr>\n",
              "      <th>b</th>\n",
              "      <td>uriel</td>\n",
              "      <td>16</td>\n",
              "      <td>7</td>\n",
              "      <td>swsed</td>\n",
              "    </tr>\n",
              "  </tbody>\n",
              "</table>\n",
              "</div>"
            ],
            "text/plain": [
              "  nombre  edad  calific correos\n",
              "a    edu    21       10    aqsw\n",
              "b  uriel    16        7   swsed"
            ]
          },
          "metadata": {},
          "execution_count": 223
        }
      ]
    },
    {
      "cell_type": "markdown",
      "metadata": {
        "id": "bst9ezbVE4Mp"
      },
      "source": [
        "### Agrupando"
      ]
    },
    {
      "cell_type": "code",
      "metadata": {
        "colab": {
          "base_uri": "https://localhost:8080/",
          "height": 173
        },
        "id": "mFpz3oFaCfYC",
        "outputId": "7b1993a5-6046-4e47-ec96-d053891a7212"
      },
      "source": [
        "frutas = {\n",
        "    'nombre' : ['naraja','manzana', 'manzana', 'pera'] ,\n",
        "    'color': ['naranja','verde','verde','verde'],\n",
        "    'cantidad' : np.random.randint(1,5,4)\n",
        "    }\n",
        "df = pd.DataFrame(frutas)\n",
        "df"
      ],
      "execution_count": null,
      "outputs": [
        {
          "output_type": "execute_result",
          "data": {
            "text/html": [
              "<div>\n",
              "<style scoped>\n",
              "    .dataframe tbody tr th:only-of-type {\n",
              "        vertical-align: middle;\n",
              "    }\n",
              "\n",
              "    .dataframe tbody tr th {\n",
              "        vertical-align: top;\n",
              "    }\n",
              "\n",
              "    .dataframe thead th {\n",
              "        text-align: right;\n",
              "    }\n",
              "</style>\n",
              "<table border=\"1\" class=\"dataframe\">\n",
              "  <thead>\n",
              "    <tr style=\"text-align: right;\">\n",
              "      <th></th>\n",
              "      <th>nombre</th>\n",
              "      <th>color</th>\n",
              "      <th>cantidad</th>\n",
              "    </tr>\n",
              "  </thead>\n",
              "  <tbody>\n",
              "    <tr>\n",
              "      <th>0</th>\n",
              "      <td>naraja</td>\n",
              "      <td>naranja</td>\n",
              "      <td>3</td>\n",
              "    </tr>\n",
              "    <tr>\n",
              "      <th>1</th>\n",
              "      <td>manzana</td>\n",
              "      <td>verde</td>\n",
              "      <td>2</td>\n",
              "    </tr>\n",
              "    <tr>\n",
              "      <th>2</th>\n",
              "      <td>manzana</td>\n",
              "      <td>verde</td>\n",
              "      <td>1</td>\n",
              "    </tr>\n",
              "    <tr>\n",
              "      <th>3</th>\n",
              "      <td>pera</td>\n",
              "      <td>verde</td>\n",
              "      <td>2</td>\n",
              "    </tr>\n",
              "  </tbody>\n",
              "</table>\n",
              "</div>"
            ],
            "text/plain": [
              "    nombre    color  cantidad\n",
              "0   naraja  naranja         3\n",
              "1  manzana    verde         2\n",
              "2  manzana    verde         1\n",
              "3     pera    verde         2"
            ]
          },
          "metadata": {},
          "execution_count": 225
        }
      ]
    },
    {
      "cell_type": "code",
      "metadata": {
        "colab": {
          "base_uri": "https://localhost:8080/",
          "height": 173
        },
        "id": "2Q7BeldcFgPw",
        "outputId": "b5f2c0b0-7a7e-4116-9240-833cb9be72f5"
      },
      "source": [
        "#agrupando por registros duplicados\n",
        "#agrupo por nmombre y sumo la cantidad\n",
        "df.groupby('nombre').cantidad.sum().to_frame('cantidad') #para que se cree un dataframe\n"
      ],
      "execution_count": null,
      "outputs": [
        {
          "output_type": "execute_result",
          "data": {
            "text/html": [
              "<div>\n",
              "<style scoped>\n",
              "    .dataframe tbody tr th:only-of-type {\n",
              "        vertical-align: middle;\n",
              "    }\n",
              "\n",
              "    .dataframe tbody tr th {\n",
              "        vertical-align: top;\n",
              "    }\n",
              "\n",
              "    .dataframe thead th {\n",
              "        text-align: right;\n",
              "    }\n",
              "</style>\n",
              "<table border=\"1\" class=\"dataframe\">\n",
              "  <thead>\n",
              "    <tr style=\"text-align: right;\">\n",
              "      <th></th>\n",
              "      <th>cantidad</th>\n",
              "    </tr>\n",
              "    <tr>\n",
              "      <th>nombre</th>\n",
              "      <th></th>\n",
              "    </tr>\n",
              "  </thead>\n",
              "  <tbody>\n",
              "    <tr>\n",
              "      <th>manzana</th>\n",
              "      <td>3</td>\n",
              "    </tr>\n",
              "    <tr>\n",
              "      <th>naraja</th>\n",
              "      <td>3</td>\n",
              "    </tr>\n",
              "    <tr>\n",
              "      <th>pera</th>\n",
              "      <td>2</td>\n",
              "    </tr>\n",
              "  </tbody>\n",
              "</table>\n",
              "</div>"
            ],
            "text/plain": [
              "         cantidad\n",
              "nombre           \n",
              "manzana         3\n",
              "naraja          3\n",
              "pera            2"
            ]
          },
          "metadata": {},
          "execution_count": 227
        }
      ]
    },
    {
      "cell_type": "code",
      "metadata": {
        "colab": {
          "base_uri": "https://localhost:8080/",
          "height": 142
        },
        "id": "xA3VSgaJGDNd",
        "outputId": "6c4670d3-3d8c-46c4-a0bd-71bba00f167b"
      },
      "source": [
        "#filtro los valores que agrupados son mayores que 2\n",
        "df.groupby('nombre').filter( lambda fruta: fruta.cantidad.sum()>2).groupby('nombre').cantidad.sum().to_frame('cantidad')"
      ],
      "execution_count": null,
      "outputs": [
        {
          "output_type": "execute_result",
          "data": {
            "text/html": [
              "<div>\n",
              "<style scoped>\n",
              "    .dataframe tbody tr th:only-of-type {\n",
              "        vertical-align: middle;\n",
              "    }\n",
              "\n",
              "    .dataframe tbody tr th {\n",
              "        vertical-align: top;\n",
              "    }\n",
              "\n",
              "    .dataframe thead th {\n",
              "        text-align: right;\n",
              "    }\n",
              "</style>\n",
              "<table border=\"1\" class=\"dataframe\">\n",
              "  <thead>\n",
              "    <tr style=\"text-align: right;\">\n",
              "      <th></th>\n",
              "      <th>cantidad</th>\n",
              "    </tr>\n",
              "    <tr>\n",
              "      <th>nombre</th>\n",
              "      <th></th>\n",
              "    </tr>\n",
              "  </thead>\n",
              "  <tbody>\n",
              "    <tr>\n",
              "      <th>manzana</th>\n",
              "      <td>3</td>\n",
              "    </tr>\n",
              "    <tr>\n",
              "      <th>naraja</th>\n",
              "      <td>3</td>\n",
              "    </tr>\n",
              "  </tbody>\n",
              "</table>\n",
              "</div>"
            ],
            "text/plain": [
              "         cantidad\n",
              "nombre           \n",
              "manzana         3\n",
              "naraja          3"
            ]
          },
          "metadata": {},
          "execution_count": 236
        }
      ]
    }
  ]
}