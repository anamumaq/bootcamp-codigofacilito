{
  "nbformat": 4,
  "nbformat_minor": 0,
  "metadata": {
    "colab": {
      "name": "Modulo 2 - Practica Numpy & Pandas - Codigofacilito",
      "provenance": [],
      "collapsed_sections": [],
      "authorship_tag": "ABX9TyOKkHmnSE4a0iLSrozm1ZEP",
      "include_colab_link": true
    },
    "kernelspec": {
      "name": "python3",
      "display_name": "Python 3"
    },
    "language_info": {
      "name": "python"
    }
  },
  "cells": [
    {
      "cell_type": "markdown",
      "metadata": {
        "id": "view-in-github",
        "colab_type": "text"
      },
      "source": [
        "<a href=\"https://colab.research.google.com/github/anamumaq/bootcamp-codigofacilito/blob/main/Modulo_2_Practica_Numpy_%26_Pandas_Codigofacilito.ipynb\" target=\"_parent\"><img src=\"https://colab.research.google.com/assets/colab-badge.svg\" alt=\"Open In Colab\"/></a>"
      ]
    },
    {
      "cell_type": "markdown",
      "metadata": {
        "id": "qZfv0SuzOnEV"
      },
      "source": [
        "# Numpys\n",
        "* Listas son modificables\n",
        "* puedo usar dtype = np.complex si necesito usar numeros con digitos extremadamente grandes\n",
        "* Para representar vacios np.nan\n"
      ]
    },
    {
      "cell_type": "markdown",
      "metadata": {
        "id": "Pk1781Nl0ZhE"
      },
      "source": [
        "### Importando Numpy"
      ]
    },
    {
      "cell_type": "code",
      "metadata": {
        "id": "J6d5AkMXltbG"
      },
      "source": [
        "import numpy as np"
      ],
      "execution_count": 2,
      "outputs": []
    },
    {
      "cell_type": "markdown",
      "metadata": {
        "id": "NNCR4h-p0ciN"
      },
      "source": [
        "### Creando Listas"
      ]
    },
    {
      "cell_type": "code",
      "metadata": {
        "id": "rCiW3Ta8PVKP"
      },
      "source": [
        "lista =[1,2,3,3]"
      ],
      "execution_count": null,
      "outputs": []
    },
    {
      "cell_type": "markdown",
      "metadata": {
        "id": "b1YfodLo0hQd"
      },
      "source": [
        "### Creando **arreglo** a traves de una lista"
      ]
    },
    {
      "cell_type": "code",
      "metadata": {
        "colab": {
          "base_uri": "https://localhost:8080/"
        },
        "id": "NErZIr4ZPfyW",
        "outputId": "2cd1bc0a-728a-49d4-f6b9-69b58797f52c"
      },
      "source": [
        "arreglo = np.array(lista)\n",
        "print(arreglo)"
      ],
      "execution_count": null,
      "outputs": [
        {
          "output_type": "stream",
          "name": "stdout",
          "text": [
            "[1 2 3 3]\n"
          ]
        }
      ]
    },
    {
      "cell_type": "markdown",
      "metadata": {
        "id": "odasq6Uk0nLs"
      },
      "source": [
        "* Puedo Crear un arreglo con una lista que tenga string  y decirle que el arreglo sea de tipo int, el resultado es que convierte todos los elementos a int"
      ]
    },
    {
      "cell_type": "code",
      "metadata": {
        "id": "5Cw5t59-PqTT"
      },
      "source": [
        "lista =[1,2,3,'4']\n",
        "arreglo = np.array(lista, dtype = np.int)\n",
        "print(arreglo)"
      ],
      "execution_count": null,
      "outputs": []
    },
    {
      "cell_type": "markdown",
      "metadata": {
        "id": "u5thYeem08RD"
      },
      "source": [
        "* Puedo crear un arreglo donde todos sean string definiendo los elementos en el arreglo"
      ]
    },
    {
      "cell_type": "code",
      "metadata": {
        "colab": {
          "base_uri": "https://localhost:8080/"
        },
        "id": "o-5YgovyP3QM",
        "outputId": "4f6fd2b3-c338-4cff-874c-47489eac7659"
      },
      "source": [
        "lista =[1,2,3,'4']\n",
        "arreglo = np.array(lista, dtype = np.str)\n",
        "print(arreglo)"
      ],
      "execution_count": null,
      "outputs": [
        {
          "output_type": "stream",
          "name": "stdout",
          "text": [
            "['1' '2' '3' '4']\n"
          ]
        }
      ]
    },
    {
      "cell_type": "markdown",
      "metadata": {
        "id": "jn3TlKRF1HiT"
      },
      "source": [
        "* Puedo crear arreglos de unos y de ceros, deficiendo dentro el tipo de elementos que quiero que sean "
      ]
    },
    {
      "cell_type": "code",
      "metadata": {
        "colab": {
          "base_uri": "https://localhost:8080/"
        },
        "id": "VcrofsNCQi0P",
        "outputId": "222a5356-fba4-429e-90f3-87d7bd2dac04"
      },
      "source": [
        "# Creando arreglos de unos\n",
        "a = np.ones(10, dtype=np.int)\n",
        "print(a)\n",
        "\n",
        "# Creando arreglos de ceros\n",
        "c = np.zeros(10, dtype=np.int)\n",
        "print(c)"
      ],
      "execution_count": 3,
      "outputs": [
        {
          "output_type": "stream",
          "name": "stdout",
          "text": [
            "[1 1 1 1 1 1 1 1 1 1]\n",
            "[0 0 0 0 0 0 0 0 0 0]\n"
          ]
        }
      ]
    },
    {
      "cell_type": "code",
      "metadata": {
        "colab": {
          "base_uri": "https://localhost:8080/"
        },
        "id": "Oi4DPMRcQ6bb",
        "outputId": "c4550b8d-7af6-46ad-a287-02ae87f39a66"
      },
      "source": [
        "print(\"tamano del elemento\", a.size)\n",
        "print(\"numero de dimensiones que posee el array\", a.ndim)\n",
        "print(\"la forma del array\", a.shape)"
      ],
      "execution_count": 4,
      "outputs": [
        {
          "output_type": "stream",
          "name": "stdout",
          "text": [
            "tamano del elemento 10\n",
            "numero de dimensiones que posee el array 1\n",
            "la forma del array (10,)\n"
          ]
        }
      ]
    },
    {
      "cell_type": "markdown",
      "metadata": {
        "id": "O3g35qtM15gF"
      },
      "source": [
        "### Creando arreglos con **Datos Basura**\n",
        "* Devuelde elementos de cualquier tipo, normalmente puedo usarlo para definir el tamañano de un array que no se que elementos tendrá, luego puedo ir cambiando los elementos"
      ]
    },
    {
      "cell_type": "code",
      "metadata": {
        "colab": {
          "base_uri": "https://localhost:8080/"
        },
        "id": "Ro_3-v2ERTd7",
        "outputId": "0e129e10-3ca4-41d1-c45b-3a13d43b4c78"
      },
      "source": [
        "#crear arregles con datos basura\n",
        "b = np.empty(10, dtype=np.int)\n",
        "print(b)"
      ],
      "execution_count": null,
      "outputs": [
        {
          "output_type": "stream",
          "name": "stdout",
          "text": [
            "[1 1 1 1 1 1 1 1 1 1]\n"
          ]
        }
      ]
    },
    {
      "cell_type": "markdown",
      "metadata": {
        "id": "0crAs40b2acW"
      },
      "source": [
        "### Creando elementos random con randint\n",
        "* (inicial, final, numero de elementos)"
      ]
    },
    {
      "cell_type": "code",
      "metadata": {
        "id": "GkRtCFmyhXdZ"
      },
      "source": [
        "a = np.random.randint(0,20,10)"
      ],
      "execution_count": null,
      "outputs": []
    },
    {
      "cell_type": "code",
      "metadata": {
        "colab": {
          "base_uri": "https://localhost:8080/"
        },
        "id": "9RTT5dgcl72p",
        "outputId": "664d8695-8d34-4366-b7d8-f8d9c9a394f7"
      },
      "source": [
        "#Estes el arreglo generado\n",
        "a"
      ],
      "execution_count": null,
      "outputs": [
        {
          "output_type": "execute_result",
          "data": {
            "text/plain": [
              "array([ 3, 18, 14,  7, 17, 18,  5,  1,  8,  8])"
            ]
          },
          "metadata": {},
          "execution_count": 22
        }
      ]
    },
    {
      "cell_type": "markdown",
      "metadata": {
        "id": "eMkVp3sR2qKT"
      },
      "source": [
        "### Filtrando con booleans los elementos del array"
      ]
    },
    {
      "cell_type": "code",
      "metadata": {
        "colab": {
          "base_uri": "https://localhost:8080/"
        },
        "id": "_GhEAj-Ul-kf",
        "outputId": "d235c1f4-68d8-4661-c736-e143afbf5c02"
      },
      "source": [
        "# que elementos son mayores a 5 devuelve bool\n",
        "a>5"
      ],
      "execution_count": null,
      "outputs": [
        {
          "output_type": "execute_result",
          "data": {
            "text/plain": [
              "array([False,  True,  True,  True,  True,  True, False, False,  True,\n",
              "        True])"
            ]
          },
          "metadata": {},
          "execution_count": 23
        }
      ]
    },
    {
      "cell_type": "code",
      "metadata": {
        "colab": {
          "base_uri": "https://localhost:8080/"
        },
        "id": "NaYVa94smEev",
        "outputId": "3829312a-b775-4e8e-df4d-5d2fcb0fe0ba"
      },
      "source": [
        "#encuentro estos elementos mayores a 5\n",
        "a[a>5]"
      ],
      "execution_count": null,
      "outputs": [
        {
          "output_type": "execute_result",
          "data": {
            "text/plain": [
              "array([18, 14,  7, 17, 18,  8,  8])"
            ]
          },
          "metadata": {},
          "execution_count": 24
        }
      ]
    },
    {
      "cell_type": "markdown",
      "metadata": {
        "id": "R-Ouc_DUnnXG"
      },
      "source": [
        "# Pandas\n",
        "* Dataframe son arreglos pero con esteroides\n",
        "* Pandas si usa numpys por eso es necesario primero aprender numpy"
      ]
    },
    {
      "cell_type": "code",
      "metadata": {
        "id": "j5dg4rxRoh-t"
      },
      "source": [
        "#importando pandas\n",
        "import pandas as pd"
      ],
      "execution_count": null,
      "outputs": []
    },
    {
      "cell_type": "markdown",
      "metadata": {
        "id": "SrMo0sg29WZ_"
      },
      "source": [
        "### Leo la bd del repo en .csv"
      ]
    },
    {
      "cell_type": "code",
      "metadata": {
        "id": "PMyVBPGLm4t4"
      },
      "source": [
        "url = 'https://raw.githubusercontent.com/codigofacilito/pandas-python/master/users.csv'\n",
        "df = pd.read_csv(url, index_col=0)"
      ],
      "execution_count": null,
      "outputs": []
    },
    {
      "cell_type": "code",
      "metadata": {
        "colab": {
          "base_uri": "https://localhost:8080/",
          "height": 206
        },
        "id": "CQ1S-i25o9o9",
        "outputId": "55dd6163-8213-4cc3-e6c2-e6194cff55c8"
      },
      "source": [
        "#primeros 5 elementos de la base de datos\n",
        "df.head()"
      ],
      "execution_count": null,
      "outputs": [
        {
          "output_type": "execute_result",
          "data": {
            "text/html": [
              "<div>\n",
              "<style scoped>\n",
              "    .dataframe tbody tr th:only-of-type {\n",
              "        vertical-align: middle;\n",
              "    }\n",
              "\n",
              "    .dataframe tbody tr th {\n",
              "        vertical-align: top;\n",
              "    }\n",
              "\n",
              "    .dataframe thead th {\n",
              "        text-align: right;\n",
              "    }\n",
              "</style>\n",
              "<table border=\"1\" class=\"dataframe\">\n",
              "  <thead>\n",
              "    <tr style=\"text-align: right;\">\n",
              "      <th></th>\n",
              "      <th>nombre</th>\n",
              "      <th>edad</th>\n",
              "      <th>genero</th>\n",
              "      <th>pais</th>\n",
              "      <th>email</th>\n",
              "    </tr>\n",
              "  </thead>\n",
              "  <tbody>\n",
              "    <tr>\n",
              "      <th>0</th>\n",
              "      <td>Mr Jerome Thomas</td>\n",
              "      <td>73</td>\n",
              "      <td>male</td>\n",
              "      <td>United States</td>\n",
              "      <td>jerome.thomas@example.com</td>\n",
              "    </tr>\n",
              "    <tr>\n",
              "      <th>1</th>\n",
              "      <td>Mr Gary Berry</td>\n",
              "      <td>70</td>\n",
              "      <td>male</td>\n",
              "      <td>United Kingdom</td>\n",
              "      <td>gary.berry@example.com</td>\n",
              "    </tr>\n",
              "    <tr>\n",
              "      <th>2</th>\n",
              "      <td>Mr Noham Dubois</td>\n",
              "      <td>40</td>\n",
              "      <td>male</td>\n",
              "      <td>France</td>\n",
              "      <td>noham.dubois@example.com</td>\n",
              "    </tr>\n",
              "    <tr>\n",
              "      <th>3</th>\n",
              "      <td>Mrs Naja Johansen</td>\n",
              "      <td>63</td>\n",
              "      <td>female</td>\n",
              "      <td>Denmark</td>\n",
              "      <td>naja.johansen@example.com</td>\n",
              "    </tr>\n",
              "    <tr>\n",
              "      <th>4</th>\n",
              "      <td>Mr Damien Marchand</td>\n",
              "      <td>61</td>\n",
              "      <td>male</td>\n",
              "      <td>France</td>\n",
              "      <td>damien.marchand@example.com</td>\n",
              "    </tr>\n",
              "  </tbody>\n",
              "</table>\n",
              "</div>"
            ],
            "text/plain": [
              "               nombre  edad  ...            pais                        email\n",
              "0    Mr Jerome Thomas    73  ...   United States    jerome.thomas@example.com\n",
              "1       Mr Gary Berry    70  ...  United Kingdom       gary.berry@example.com\n",
              "2     Mr Noham Dubois    40  ...          France     noham.dubois@example.com\n",
              "3   Mrs Naja Johansen    63  ...         Denmark    naja.johansen@example.com\n",
              "4  Mr Damien Marchand    61  ...          France  damien.marchand@example.com\n",
              "\n",
              "[5 rows x 5 columns]"
            ]
          },
          "metadata": {},
          "execution_count": 35
        }
      ]
    },
    {
      "cell_type": "markdown",
      "metadata": {
        "id": "8o2buMgg9luw"
      },
      "source": [
        "### Aprendiendo iloc y loc"
      ]
    },
    {
      "cell_type": "code",
      "metadata": {
        "colab": {
          "base_uri": "https://localhost:8080/"
        },
        "id": "hNYVb7cmpK7E",
        "outputId": "a57ff492-1ad1-4a1d-f98c-1ca59f00203e"
      },
      "source": [
        " # elementos a partir de indices desde las filas\n",
        " # iloc para enteros\n",
        " # jalo la quinta fila\n",
        "df.iloc[4]"
      ],
      "execution_count": null,
      "outputs": [
        {
          "output_type": "execute_result",
          "data": {
            "text/plain": [
              "nombre             Mr Damien Marchand\n",
              "edad                               61\n",
              "genero                           male\n",
              "pais                           France\n",
              "email     damien.marchand@example.com\n",
              "Name: 4, dtype: object"
            ]
          },
          "metadata": {},
          "execution_count": 40
        }
      ]
    },
    {
      "cell_type": "code",
      "metadata": {
        "colab": {
          "base_uri": "https://localhost:8080/",
          "height": 112
        },
        "id": "HUYdZx9-p6wN",
        "outputId": "bdfa1e2d-d0d0-4347-f65b-aa55606ccbd7"
      },
      "source": [
        "# jalando varias filas a la vez\n",
        "# la segunda y tercera fila\n",
        "df.iloc[[1,2]]"
      ],
      "execution_count": null,
      "outputs": [
        {
          "output_type": "execute_result",
          "data": {
            "text/html": [
              "<div>\n",
              "<style scoped>\n",
              "    .dataframe tbody tr th:only-of-type {\n",
              "        vertical-align: middle;\n",
              "    }\n",
              "\n",
              "    .dataframe tbody tr th {\n",
              "        vertical-align: top;\n",
              "    }\n",
              "\n",
              "    .dataframe thead th {\n",
              "        text-align: right;\n",
              "    }\n",
              "</style>\n",
              "<table border=\"1\" class=\"dataframe\">\n",
              "  <thead>\n",
              "    <tr style=\"text-align: right;\">\n",
              "      <th></th>\n",
              "      <th>nombre</th>\n",
              "      <th>edad</th>\n",
              "      <th>genero</th>\n",
              "      <th>pais</th>\n",
              "      <th>email</th>\n",
              "    </tr>\n",
              "  </thead>\n",
              "  <tbody>\n",
              "    <tr>\n",
              "      <th>1</th>\n",
              "      <td>Mr Gary Berry</td>\n",
              "      <td>70</td>\n",
              "      <td>male</td>\n",
              "      <td>United Kingdom</td>\n",
              "      <td>gary.berry@example.com</td>\n",
              "    </tr>\n",
              "    <tr>\n",
              "      <th>2</th>\n",
              "      <td>Mr Noham Dubois</td>\n",
              "      <td>40</td>\n",
              "      <td>male</td>\n",
              "      <td>France</td>\n",
              "      <td>noham.dubois@example.com</td>\n",
              "    </tr>\n",
              "  </tbody>\n",
              "</table>\n",
              "</div>"
            ],
            "text/plain": [
              "            nombre  edad genero            pais                     email\n",
              "1    Mr Gary Berry    70   male  United Kingdom    gary.berry@example.com\n",
              "2  Mr Noham Dubois    40   male          France  noham.dubois@example.com"
            ]
          },
          "metadata": {},
          "execution_count": 41
        }
      ]
    },
    {
      "cell_type": "code",
      "metadata": {
        "colab": {
          "base_uri": "https://localhost:8080/"
        },
        "id": "zRE0corBqdfd",
        "outputId": "c28fbc05-8279-4751-a46e-f3a28fcaa172"
      },
      "source": [
        "#Loc para strings\n",
        "df.loc[:,'edad']"
      ],
      "execution_count": null,
      "outputs": [
        {
          "output_type": "execute_result",
          "data": {
            "text/plain": [
              "0      73\n",
              "1      70\n",
              "2      40\n",
              "3      63\n",
              "4      61\n",
              "       ..\n",
              "195    46\n",
              "196    40\n",
              "197    40\n",
              "198    37\n",
              "199    60\n",
              "Name: edad, Length: 200, dtype: int64"
            ]
          },
          "metadata": {},
          "execution_count": 88
        }
      ]
    },
    {
      "cell_type": "markdown",
      "metadata": {
        "id": "PiB5fchM96XA"
      },
      "source": [
        "### Extraigo los NaN"
      ]
    },
    {
      "cell_type": "code",
      "metadata": {
        "id": "mMbRTse1q7-m"
      },
      "source": [
        "#quitando NaN\n",
        "data = df.dropna()"
      ],
      "execution_count": null,
      "outputs": []
    },
    {
      "cell_type": "code",
      "metadata": {
        "colab": {
          "base_uri": "https://localhost:8080/"
        },
        "id": "TfpUULE3rEiZ",
        "outputId": "095ba5ce-7d42-4382-e555-3403a8674cb2"
      },
      "source": [
        "data.info"
      ],
      "execution_count": null,
      "outputs": [
        {
          "output_type": "execute_result",
          "data": {
            "text/plain": [
              "<bound method DataFrame.info of                  nombre  edad  ...            pais                        email\n",
              "0      Mr Jerome Thomas    73  ...   United States    jerome.thomas@example.com\n",
              "1         Mr Gary Berry    70  ...  United Kingdom       gary.berry@example.com\n",
              "2       Mr Noham Dubois    40  ...          France     noham.dubois@example.com\n",
              "3     Mrs Naja Johansen    63  ...         Denmark    naja.johansen@example.com\n",
              "4    Mr Damien Marchand    61  ...          France  damien.marchand@example.com\n",
              "..                  ...   ...  ...             ...                          ...\n",
              "195       Mr Raul Bravo    46  ...           Spain       raul.bravo@example.com\n",
              "196   Miss Maeva Fortin    40  ...          Canada     maeva.fortin@example.com\n",
              "197   Mr Gabriel Berger    40  ...          France   gabriel.berger@example.com\n",
              "198  Mrs Ülkü Tanrıkulu    37  ...          Turkey   ulku.tanrikulu@example.com\n",
              "199     Mr Raff Valkema    60  ...     Netherlands     raff.valkema@example.com\n",
              "\n",
              "[200 rows x 5 columns]>"
            ]
          },
          "metadata": {},
          "execution_count": 45
        }
      ]
    },
    {
      "cell_type": "markdown",
      "metadata": {
        "id": "TCJVtp5E-v5B"
      },
      "source": [
        "## Obteniendo informacion de un dataframe"
      ]
    },
    {
      "cell_type": "markdown",
      "metadata": {
        "id": "6Z0QjAR5rHZ1"
      },
      "source": [
        "### Obtener el nombre de todos los usuarios que edad sean mayor a 40"
      ]
    },
    {
      "cell_type": "code",
      "metadata": {
        "colab": {
          "base_uri": "https://localhost:8080/",
          "height": 424
        },
        "id": "W0bff6dqrNwX",
        "outputId": "d0ecfa44-934e-4736-c611-4e3772ac8137"
      },
      "source": [
        "#usuarios con edad mayor a 40\n",
        "data[data['edad']>40]"
      ],
      "execution_count": null,
      "outputs": [
        {
          "output_type": "execute_result",
          "data": {
            "text/html": [
              "<div>\n",
              "<style scoped>\n",
              "    .dataframe tbody tr th:only-of-type {\n",
              "        vertical-align: middle;\n",
              "    }\n",
              "\n",
              "    .dataframe tbody tr th {\n",
              "        vertical-align: top;\n",
              "    }\n",
              "\n",
              "    .dataframe thead th {\n",
              "        text-align: right;\n",
              "    }\n",
              "</style>\n",
              "<table border=\"1\" class=\"dataframe\">\n",
              "  <thead>\n",
              "    <tr style=\"text-align: right;\">\n",
              "      <th></th>\n",
              "      <th>nombre</th>\n",
              "      <th>edad</th>\n",
              "      <th>genero</th>\n",
              "      <th>pais</th>\n",
              "      <th>email</th>\n",
              "    </tr>\n",
              "  </thead>\n",
              "  <tbody>\n",
              "    <tr>\n",
              "      <th>0</th>\n",
              "      <td>Mr Jerome Thomas</td>\n",
              "      <td>73</td>\n",
              "      <td>male</td>\n",
              "      <td>United States</td>\n",
              "      <td>jerome.thomas@example.com</td>\n",
              "    </tr>\n",
              "    <tr>\n",
              "      <th>1</th>\n",
              "      <td>Mr Gary Berry</td>\n",
              "      <td>70</td>\n",
              "      <td>male</td>\n",
              "      <td>United Kingdom</td>\n",
              "      <td>gary.berry@example.com</td>\n",
              "    </tr>\n",
              "    <tr>\n",
              "      <th>3</th>\n",
              "      <td>Mrs Naja Johansen</td>\n",
              "      <td>63</td>\n",
              "      <td>female</td>\n",
              "      <td>Denmark</td>\n",
              "      <td>naja.johansen@example.com</td>\n",
              "    </tr>\n",
              "    <tr>\n",
              "      <th>4</th>\n",
              "      <td>Mr Damien Marchand</td>\n",
              "      <td>61</td>\n",
              "      <td>male</td>\n",
              "      <td>France</td>\n",
              "      <td>damien.marchand@example.com</td>\n",
              "    </tr>\n",
              "    <tr>\n",
              "      <th>5</th>\n",
              "      <td>Mr Harri Althoff</td>\n",
              "      <td>56</td>\n",
              "      <td>male</td>\n",
              "      <td>Germany</td>\n",
              "      <td>harri.althoff@example.com</td>\n",
              "    </tr>\n",
              "    <tr>\n",
              "      <th>...</th>\n",
              "      <td>...</td>\n",
              "      <td>...</td>\n",
              "      <td>...</td>\n",
              "      <td>...</td>\n",
              "      <td>...</td>\n",
              "    </tr>\n",
              "    <tr>\n",
              "      <th>191</th>\n",
              "      <td>Mr Noah Moore</td>\n",
              "      <td>44</td>\n",
              "      <td>male</td>\n",
              "      <td>New Zealand</td>\n",
              "      <td>noah.moore@example.com</td>\n",
              "    </tr>\n",
              "    <tr>\n",
              "      <th>193</th>\n",
              "      <td>Ms Delphine Ginnish</td>\n",
              "      <td>58</td>\n",
              "      <td>female</td>\n",
              "      <td>Canada</td>\n",
              "      <td>delphine.ginnish@example.com</td>\n",
              "    </tr>\n",
              "    <tr>\n",
              "      <th>194</th>\n",
              "      <td>Madame Rosa Lefevre</td>\n",
              "      <td>67</td>\n",
              "      <td>female</td>\n",
              "      <td>Switzerland</td>\n",
              "      <td>rosa.lefevre@example.com</td>\n",
              "    </tr>\n",
              "    <tr>\n",
              "      <th>195</th>\n",
              "      <td>Mr Raul Bravo</td>\n",
              "      <td>46</td>\n",
              "      <td>male</td>\n",
              "      <td>Spain</td>\n",
              "      <td>raul.bravo@example.com</td>\n",
              "    </tr>\n",
              "    <tr>\n",
              "      <th>199</th>\n",
              "      <td>Mr Raff Valkema</td>\n",
              "      <td>60</td>\n",
              "      <td>male</td>\n",
              "      <td>Netherlands</td>\n",
              "      <td>raff.valkema@example.com</td>\n",
              "    </tr>\n",
              "  </tbody>\n",
              "</table>\n",
              "<p>122 rows × 5 columns</p>\n",
              "</div>"
            ],
            "text/plain": [
              "                  nombre  edad  ...            pais                         email\n",
              "0       Mr Jerome Thomas    73  ...   United States     jerome.thomas@example.com\n",
              "1          Mr Gary Berry    70  ...  United Kingdom        gary.berry@example.com\n",
              "3      Mrs Naja Johansen    63  ...         Denmark     naja.johansen@example.com\n",
              "4     Mr Damien Marchand    61  ...          France   damien.marchand@example.com\n",
              "5       Mr Harri Althoff    56  ...         Germany     harri.althoff@example.com\n",
              "..                   ...   ...  ...             ...                           ...\n",
              "191        Mr Noah Moore    44  ...     New Zealand        noah.moore@example.com\n",
              "193  Ms Delphine Ginnish    58  ...          Canada  delphine.ginnish@example.com\n",
              "194  Madame Rosa Lefevre    67  ...     Switzerland      rosa.lefevre@example.com\n",
              "195        Mr Raul Bravo    46  ...           Spain        raul.bravo@example.com\n",
              "199      Mr Raff Valkema    60  ...     Netherlands      raff.valkema@example.com\n",
              "\n",
              "[122 rows x 5 columns]"
            ]
          },
          "metadata": {},
          "execution_count": 47
        }
      ]
    },
    {
      "cell_type": "code",
      "metadata": {
        "colab": {
          "base_uri": "https://localhost:8080/"
        },
        "id": "Frd0hO4WreQf",
        "outputId": "7afd3eab-fd4f-4a5c-fcd3-0122c1cfb9b9"
      },
      "source": [
        "# Nombre de los usuarios con edad mayor a 40\n",
        "data[data['edad']>40]['nombre']"
      ],
      "execution_count": null,
      "outputs": [
        {
          "output_type": "execute_result",
          "data": {
            "text/plain": [
              "0         Mr Jerome Thomas\n",
              "1            Mr Gary Berry\n",
              "3        Mrs Naja Johansen\n",
              "4       Mr Damien Marchand\n",
              "5         Mr Harri Althoff\n",
              "              ...         \n",
              "191          Mr Noah Moore\n",
              "193    Ms Delphine Ginnish\n",
              "194    Madame Rosa Lefevre\n",
              "195          Mr Raul Bravo\n",
              "199        Mr Raff Valkema\n",
              "Name: nombre, Length: 122, dtype: object"
            ]
          },
          "metadata": {},
          "execution_count": 49
        }
      ]
    },
    {
      "cell_type": "markdown",
      "metadata": {
        "id": "_KmKyWAor5sN"
      },
      "source": [
        "### Obtener el nombre de todos los usuarios que edad sean mayor a 40 y de sexo *femenino*"
      ]
    },
    {
      "cell_type": "code",
      "metadata": {
        "colab": {
          "base_uri": "https://localhost:8080/"
        },
        "id": "pdBbbXKWr5TF",
        "outputId": "3a4721e2-1035-4275-f907-3d6643cab913"
      },
      "source": [
        "data[(data['edad'] > 40) & (data['genero'] =='female')]['nombre']"
      ],
      "execution_count": null,
      "outputs": [
        {
          "output_type": "execute_result",
          "data": {
            "text/plain": [
              "3            Mrs Naja Johansen\n",
              "9         Miss Emilia Laitinen\n",
              "10         Ms Cathriona Hanson\n",
              "11            Miss Maia Clarke\n",
              "12           Ms Cathy Simmmons\n",
              "                ...           \n",
              "181             Mrs Avery King\n",
              "182            Mrs Soila Silva\n",
              "190    Miss Margrietha Holster\n",
              "193        Ms Delphine Ginnish\n",
              "194        Madame Rosa Lefevre\n",
              "Name: nombre, Length: 68, dtype: object"
            ]
          },
          "metadata": {},
          "execution_count": 51
        }
      ]
    },
    {
      "cell_type": "markdown",
      "metadata": {
        "id": "U0yMd2wXsg39"
      },
      "source": [
        "### Probando strings\n",
        "* Puedo usar **.str.endwith** para extraer los textos que temrinen con determinada caracteristica"
      ]
    },
    {
      "cell_type": "code",
      "metadata": {
        "colab": {
          "base_uri": "https://localhost:8080/",
          "height": 424
        },
        "id": "In6MC-KdslOc",
        "outputId": "94f82f85-70bb-4f0f-b8b8-1fe3be59483e"
      },
      "source": [
        "# que terminen con example\n",
        "\n",
        "data[data['email'].str.endswith('@example.com')] "
      ],
      "execution_count": null,
      "outputs": [
        {
          "output_type": "execute_result",
          "data": {
            "text/html": [
              "<div>\n",
              "<style scoped>\n",
              "    .dataframe tbody tr th:only-of-type {\n",
              "        vertical-align: middle;\n",
              "    }\n",
              "\n",
              "    .dataframe tbody tr th {\n",
              "        vertical-align: top;\n",
              "    }\n",
              "\n",
              "    .dataframe thead th {\n",
              "        text-align: right;\n",
              "    }\n",
              "</style>\n",
              "<table border=\"1\" class=\"dataframe\">\n",
              "  <thead>\n",
              "    <tr style=\"text-align: right;\">\n",
              "      <th></th>\n",
              "      <th>nombre</th>\n",
              "      <th>edad</th>\n",
              "      <th>genero</th>\n",
              "      <th>pais</th>\n",
              "      <th>email</th>\n",
              "    </tr>\n",
              "  </thead>\n",
              "  <tbody>\n",
              "    <tr>\n",
              "      <th>0</th>\n",
              "      <td>Mr Jerome Thomas</td>\n",
              "      <td>73</td>\n",
              "      <td>male</td>\n",
              "      <td>United States</td>\n",
              "      <td>jerome.thomas@example.com</td>\n",
              "    </tr>\n",
              "    <tr>\n",
              "      <th>1</th>\n",
              "      <td>Mr Gary Berry</td>\n",
              "      <td>70</td>\n",
              "      <td>male</td>\n",
              "      <td>United Kingdom</td>\n",
              "      <td>gary.berry@example.com</td>\n",
              "    </tr>\n",
              "    <tr>\n",
              "      <th>2</th>\n",
              "      <td>Mr Noham Dubois</td>\n",
              "      <td>40</td>\n",
              "      <td>male</td>\n",
              "      <td>France</td>\n",
              "      <td>noham.dubois@example.com</td>\n",
              "    </tr>\n",
              "    <tr>\n",
              "      <th>3</th>\n",
              "      <td>Mrs Naja Johansen</td>\n",
              "      <td>63</td>\n",
              "      <td>female</td>\n",
              "      <td>Denmark</td>\n",
              "      <td>naja.johansen@example.com</td>\n",
              "    </tr>\n",
              "    <tr>\n",
              "      <th>4</th>\n",
              "      <td>Mr Damien Marchand</td>\n",
              "      <td>61</td>\n",
              "      <td>male</td>\n",
              "      <td>France</td>\n",
              "      <td>damien.marchand@example.com</td>\n",
              "    </tr>\n",
              "    <tr>\n",
              "      <th>...</th>\n",
              "      <td>...</td>\n",
              "      <td>...</td>\n",
              "      <td>...</td>\n",
              "      <td>...</td>\n",
              "      <td>...</td>\n",
              "    </tr>\n",
              "    <tr>\n",
              "      <th>195</th>\n",
              "      <td>Mr Raul Bravo</td>\n",
              "      <td>46</td>\n",
              "      <td>male</td>\n",
              "      <td>Spain</td>\n",
              "      <td>raul.bravo@example.com</td>\n",
              "    </tr>\n",
              "    <tr>\n",
              "      <th>196</th>\n",
              "      <td>Miss Maeva Fortin</td>\n",
              "      <td>40</td>\n",
              "      <td>female</td>\n",
              "      <td>Canada</td>\n",
              "      <td>maeva.fortin@example.com</td>\n",
              "    </tr>\n",
              "    <tr>\n",
              "      <th>197</th>\n",
              "      <td>Mr Gabriel Berger</td>\n",
              "      <td>40</td>\n",
              "      <td>male</td>\n",
              "      <td>France</td>\n",
              "      <td>gabriel.berger@example.com</td>\n",
              "    </tr>\n",
              "    <tr>\n",
              "      <th>198</th>\n",
              "      <td>Mrs Ülkü Tanrıkulu</td>\n",
              "      <td>37</td>\n",
              "      <td>female</td>\n",
              "      <td>Turkey</td>\n",
              "      <td>ulku.tanrikulu@example.com</td>\n",
              "    </tr>\n",
              "    <tr>\n",
              "      <th>199</th>\n",
              "      <td>Mr Raff Valkema</td>\n",
              "      <td>60</td>\n",
              "      <td>male</td>\n",
              "      <td>Netherlands</td>\n",
              "      <td>raff.valkema@example.com</td>\n",
              "    </tr>\n",
              "  </tbody>\n",
              "</table>\n",
              "<p>199 rows × 5 columns</p>\n",
              "</div>"
            ],
            "text/plain": [
              "                 nombre  edad  ...            pais                        email\n",
              "0      Mr Jerome Thomas    73  ...   United States    jerome.thomas@example.com\n",
              "1         Mr Gary Berry    70  ...  United Kingdom       gary.berry@example.com\n",
              "2       Mr Noham Dubois    40  ...          France     noham.dubois@example.com\n",
              "3     Mrs Naja Johansen    63  ...         Denmark    naja.johansen@example.com\n",
              "4    Mr Damien Marchand    61  ...          France  damien.marchand@example.com\n",
              "..                  ...   ...  ...             ...                          ...\n",
              "195       Mr Raul Bravo    46  ...           Spain       raul.bravo@example.com\n",
              "196   Miss Maeva Fortin    40  ...          Canada     maeva.fortin@example.com\n",
              "197   Mr Gabriel Berger    40  ...          France   gabriel.berger@example.com\n",
              "198  Mrs Ülkü Tanrıkulu    37  ...          Turkey   ulku.tanrikulu@example.com\n",
              "199     Mr Raff Valkema    60  ...     Netherlands     raff.valkema@example.com\n",
              "\n",
              "[199 rows x 5 columns]"
            ]
          },
          "metadata": {},
          "execution_count": 54
        }
      ]
    },
    {
      "cell_type": "code",
      "metadata": {
        "colab": {
          "base_uri": "https://localhost:8080/",
          "height": 81
        },
        "id": "kYcfu6iHs5i6",
        "outputId": "7d309b52-9cde-430d-cdb2-8766c68d76e7"
      },
      "source": [
        "# que NO terminen con example\n",
        "\n",
        "data[~data['email'].str.endswith('@example.com')] "
      ],
      "execution_count": null,
      "outputs": [
        {
          "output_type": "execute_result",
          "data": {
            "text/html": [
              "<div>\n",
              "<style scoped>\n",
              "    .dataframe tbody tr th:only-of-type {\n",
              "        vertical-align: middle;\n",
              "    }\n",
              "\n",
              "    .dataframe tbody tr th {\n",
              "        vertical-align: top;\n",
              "    }\n",
              "\n",
              "    .dataframe thead th {\n",
              "        text-align: right;\n",
              "    }\n",
              "</style>\n",
              "<table border=\"1\" class=\"dataframe\">\n",
              "  <thead>\n",
              "    <tr style=\"text-align: right;\">\n",
              "      <th></th>\n",
              "      <th>nombre</th>\n",
              "      <th>edad</th>\n",
              "      <th>genero</th>\n",
              "      <th>pais</th>\n",
              "      <th>email</th>\n",
              "    </tr>\n",
              "  </thead>\n",
              "  <tbody>\n",
              "    <tr>\n",
              "      <th>151</th>\n",
              "      <td>Mr Thomas Lam</td>\n",
              "      <td>42</td>\n",
              "      <td>male</td>\n",
              "      <td>Canada</td>\n",
              "      <td>thomas.lam@gmail.com</td>\n",
              "    </tr>\n",
              "  </tbody>\n",
              "</table>\n",
              "</div>"
            ],
            "text/plain": [
              "            nombre  edad genero    pais                 email\n",
              "151  Mr Thomas Lam    42   male  Canada  thomas.lam@gmail.com"
            ]
          },
          "metadata": {},
          "execution_count": 55
        }
      ]
    },
    {
      "cell_type": "markdown",
      "metadata": {
        "id": "enbo9T_7-nVg"
      },
      "source": [
        "### Obtener los paises de Germany, Finland y Canada"
      ]
    },
    {
      "cell_type": "code",
      "metadata": {
        "colab": {
          "base_uri": "https://localhost:8080/",
          "height": 1000
        },
        "id": "7ainlkkitMu-",
        "outputId": "371b505f-15fd-458b-c0be-79d1df7c6106"
      },
      "source": [
        "data[(data['pais'] == 'Germany')|(data['pais'] == 'Finland')|(data['pais'] == 'Canada')]"
      ],
      "execution_count": null,
      "outputs": [
        {
          "output_type": "execute_result",
          "data": {
            "text/html": [
              "<div>\n",
              "<style scoped>\n",
              "    .dataframe tbody tr th:only-of-type {\n",
              "        vertical-align: middle;\n",
              "    }\n",
              "\n",
              "    .dataframe tbody tr th {\n",
              "        vertical-align: top;\n",
              "    }\n",
              "\n",
              "    .dataframe thead th {\n",
              "        text-align: right;\n",
              "    }\n",
              "</style>\n",
              "<table border=\"1\" class=\"dataframe\">\n",
              "  <thead>\n",
              "    <tr style=\"text-align: right;\">\n",
              "      <th></th>\n",
              "      <th>nombre</th>\n",
              "      <th>edad</th>\n",
              "      <th>genero</th>\n",
              "      <th>pais</th>\n",
              "      <th>email</th>\n",
              "    </tr>\n",
              "  </thead>\n",
              "  <tbody>\n",
              "    <tr>\n",
              "      <th>5</th>\n",
              "      <td>Mr Harri Althoff</td>\n",
              "      <td>56</td>\n",
              "      <td>male</td>\n",
              "      <td>Germany</td>\n",
              "      <td>harri.althoff@example.com</td>\n",
              "    </tr>\n",
              "    <tr>\n",
              "      <th>7</th>\n",
              "      <td>Ms Britta Weinert</td>\n",
              "      <td>35</td>\n",
              "      <td>female</td>\n",
              "      <td>Germany</td>\n",
              "      <td>britta.weinert@example.com</td>\n",
              "    </tr>\n",
              "    <tr>\n",
              "      <th>9</th>\n",
              "      <td>Miss Emilia Laitinen</td>\n",
              "      <td>53</td>\n",
              "      <td>female</td>\n",
              "      <td>Finland</td>\n",
              "      <td>emilia.laitinen@example.com</td>\n",
              "    </tr>\n",
              "    <tr>\n",
              "      <th>20</th>\n",
              "      <td>Mr Vincenzo Rauscher</td>\n",
              "      <td>25</td>\n",
              "      <td>male</td>\n",
              "      <td>Germany</td>\n",
              "      <td>vincenzo.rauscher@example.com</td>\n",
              "    </tr>\n",
              "    <tr>\n",
              "      <th>21</th>\n",
              "      <td>Mr Louis Ross</td>\n",
              "      <td>60</td>\n",
              "      <td>male</td>\n",
              "      <td>Canada</td>\n",
              "      <td>louis.ross@example.com</td>\n",
              "    </tr>\n",
              "    <tr>\n",
              "      <th>31</th>\n",
              "      <td>Mr Toivo Kotila</td>\n",
              "      <td>27</td>\n",
              "      <td>male</td>\n",
              "      <td>Finland</td>\n",
              "      <td>toivo.kotila@example.com</td>\n",
              "    </tr>\n",
              "    <tr>\n",
              "      <th>36</th>\n",
              "      <td>Mr Anthony Wong</td>\n",
              "      <td>42</td>\n",
              "      <td>male</td>\n",
              "      <td>Canada</td>\n",
              "      <td>anthony.wong@example.com</td>\n",
              "    </tr>\n",
              "    <tr>\n",
              "      <th>38</th>\n",
              "      <td>Mrs Lotta Rintala</td>\n",
              "      <td>26</td>\n",
              "      <td>female</td>\n",
              "      <td>Finland</td>\n",
              "      <td>lotta.rintala@example.com</td>\n",
              "    </tr>\n",
              "    <tr>\n",
              "      <th>41</th>\n",
              "      <td>Miss Iida Ketola</td>\n",
              "      <td>46</td>\n",
              "      <td>female</td>\n",
              "      <td>Finland</td>\n",
              "      <td>iida.ketola@example.com</td>\n",
              "    </tr>\n",
              "    <tr>\n",
              "      <th>45</th>\n",
              "      <td>Ms Ilona Moilanen</td>\n",
              "      <td>22</td>\n",
              "      <td>female</td>\n",
              "      <td>Finland</td>\n",
              "      <td>ilona.moilanen@example.com</td>\n",
              "    </tr>\n",
              "    <tr>\n",
              "      <th>47</th>\n",
              "      <td>Miss Ellen Rinne</td>\n",
              "      <td>66</td>\n",
              "      <td>female</td>\n",
              "      <td>Finland</td>\n",
              "      <td>ellen.rinne@example.com</td>\n",
              "    </tr>\n",
              "    <tr>\n",
              "      <th>50</th>\n",
              "      <td>Mr Theo Miller</td>\n",
              "      <td>33</td>\n",
              "      <td>male</td>\n",
              "      <td>Canada</td>\n",
              "      <td>theo.miller@example.com</td>\n",
              "    </tr>\n",
              "    <tr>\n",
              "      <th>53</th>\n",
              "      <td>Ms Aino Lassila</td>\n",
              "      <td>54</td>\n",
              "      <td>female</td>\n",
              "      <td>Finland</td>\n",
              "      <td>aino.lassila@example.com</td>\n",
              "    </tr>\n",
              "    <tr>\n",
              "      <th>56</th>\n",
              "      <td>Ms Marcella Brosch</td>\n",
              "      <td>38</td>\n",
              "      <td>female</td>\n",
              "      <td>Germany</td>\n",
              "      <td>marcella.brosch@example.com</td>\n",
              "    </tr>\n",
              "    <tr>\n",
              "      <th>58</th>\n",
              "      <td>Miss Madison Ennis</td>\n",
              "      <td>49</td>\n",
              "      <td>female</td>\n",
              "      <td>Canada</td>\n",
              "      <td>madison.ennis@example.com</td>\n",
              "    </tr>\n",
              "    <tr>\n",
              "      <th>72</th>\n",
              "      <td>Ms Megan Brown</td>\n",
              "      <td>26</td>\n",
              "      <td>female</td>\n",
              "      <td>Canada</td>\n",
              "      <td>megan.brown@example.com</td>\n",
              "    </tr>\n",
              "    <tr>\n",
              "      <th>79</th>\n",
              "      <td>Ms Hanne Aschenbrenner</td>\n",
              "      <td>64</td>\n",
              "      <td>female</td>\n",
              "      <td>Germany</td>\n",
              "      <td>hanne.aschenbrenner@example.com</td>\n",
              "    </tr>\n",
              "    <tr>\n",
              "      <th>85</th>\n",
              "      <td>Mrs Luisa Weißmann</td>\n",
              "      <td>32</td>\n",
              "      <td>female</td>\n",
              "      <td>Germany</td>\n",
              "      <td>luisa.weissmann@example.com</td>\n",
              "    </tr>\n",
              "    <tr>\n",
              "      <th>87</th>\n",
              "      <td>Mr Joona Koskela</td>\n",
              "      <td>59</td>\n",
              "      <td>male</td>\n",
              "      <td>Finland</td>\n",
              "      <td>joona.koskela@example.com</td>\n",
              "    </tr>\n",
              "    <tr>\n",
              "      <th>88</th>\n",
              "      <td>Mrs Hilda Epp</td>\n",
              "      <td>22</td>\n",
              "      <td>female</td>\n",
              "      <td>Germany</td>\n",
              "      <td>hilda.epp@example.com</td>\n",
              "    </tr>\n",
              "    <tr>\n",
              "      <th>131</th>\n",
              "      <td>Mr Xavier Addy</td>\n",
              "      <td>30</td>\n",
              "      <td>male</td>\n",
              "      <td>Canada</td>\n",
              "      <td>xavier.addy@example.com</td>\n",
              "    </tr>\n",
              "    <tr>\n",
              "      <th>133</th>\n",
              "      <td>Miss Julia Ambrose</td>\n",
              "      <td>34</td>\n",
              "      <td>female</td>\n",
              "      <td>Canada</td>\n",
              "      <td>julia.ambrose@example.com</td>\n",
              "    </tr>\n",
              "    <tr>\n",
              "      <th>144</th>\n",
              "      <td>Ms Mareile Plate</td>\n",
              "      <td>51</td>\n",
              "      <td>female</td>\n",
              "      <td>Germany</td>\n",
              "      <td>mareile.plate@example.com</td>\n",
              "    </tr>\n",
              "    <tr>\n",
              "      <th>147</th>\n",
              "      <td>Mr Lauri Kotila</td>\n",
              "      <td>32</td>\n",
              "      <td>male</td>\n",
              "      <td>Finland</td>\n",
              "      <td>lauri.kotila@example.com</td>\n",
              "    </tr>\n",
              "    <tr>\n",
              "      <th>151</th>\n",
              "      <td>Mr Thomas Lam</td>\n",
              "      <td>42</td>\n",
              "      <td>male</td>\n",
              "      <td>Canada</td>\n",
              "      <td>thomas.lam@gmail.com</td>\n",
              "    </tr>\n",
              "    <tr>\n",
              "      <th>158</th>\n",
              "      <td>Mr Rafael Spangenberg</td>\n",
              "      <td>33</td>\n",
              "      <td>male</td>\n",
              "      <td>Germany</td>\n",
              "      <td>rafael.spangenberg@example.com</td>\n",
              "    </tr>\n",
              "    <tr>\n",
              "      <th>170</th>\n",
              "      <td>Mr Ryder Côté</td>\n",
              "      <td>25</td>\n",
              "      <td>male</td>\n",
              "      <td>Canada</td>\n",
              "      <td>ryder.cote@example.com</td>\n",
              "    </tr>\n",
              "    <tr>\n",
              "      <th>174</th>\n",
              "      <td>Ms Isla Koistinen</td>\n",
              "      <td>37</td>\n",
              "      <td>female</td>\n",
              "      <td>Finland</td>\n",
              "      <td>isla.koistinen@example.com</td>\n",
              "    </tr>\n",
              "    <tr>\n",
              "      <th>184</th>\n",
              "      <td>Mr Philip Bélanger</td>\n",
              "      <td>24</td>\n",
              "      <td>male</td>\n",
              "      <td>Canada</td>\n",
              "      <td>philip.belanger@example.com</td>\n",
              "    </tr>\n",
              "    <tr>\n",
              "      <th>193</th>\n",
              "      <td>Ms Delphine Ginnish</td>\n",
              "      <td>58</td>\n",
              "      <td>female</td>\n",
              "      <td>Canada</td>\n",
              "      <td>delphine.ginnish@example.com</td>\n",
              "    </tr>\n",
              "    <tr>\n",
              "      <th>196</th>\n",
              "      <td>Miss Maeva Fortin</td>\n",
              "      <td>40</td>\n",
              "      <td>female</td>\n",
              "      <td>Canada</td>\n",
              "      <td>maeva.fortin@example.com</td>\n",
              "    </tr>\n",
              "  </tbody>\n",
              "</table>\n",
              "</div>"
            ],
            "text/plain": [
              "                     nombre  edad  ...     pais                            email\n",
              "5          Mr Harri Althoff    56  ...  Germany        harri.althoff@example.com\n",
              "7         Ms Britta Weinert    35  ...  Germany       britta.weinert@example.com\n",
              "9      Miss Emilia Laitinen    53  ...  Finland      emilia.laitinen@example.com\n",
              "20     Mr Vincenzo Rauscher    25  ...  Germany    vincenzo.rauscher@example.com\n",
              "21            Mr Louis Ross    60  ...   Canada           louis.ross@example.com\n",
              "31          Mr Toivo Kotila    27  ...  Finland         toivo.kotila@example.com\n",
              "36          Mr Anthony Wong    42  ...   Canada         anthony.wong@example.com\n",
              "38        Mrs Lotta Rintala    26  ...  Finland        lotta.rintala@example.com\n",
              "41         Miss Iida Ketola    46  ...  Finland          iida.ketola@example.com\n",
              "45        Ms Ilona Moilanen    22  ...  Finland       ilona.moilanen@example.com\n",
              "47         Miss Ellen Rinne    66  ...  Finland          ellen.rinne@example.com\n",
              "50           Mr Theo Miller    33  ...   Canada          theo.miller@example.com\n",
              "53          Ms Aino Lassila    54  ...  Finland         aino.lassila@example.com\n",
              "56       Ms Marcella Brosch    38  ...  Germany      marcella.brosch@example.com\n",
              "58       Miss Madison Ennis    49  ...   Canada        madison.ennis@example.com\n",
              "72           Ms Megan Brown    26  ...   Canada          megan.brown@example.com\n",
              "79   Ms Hanne Aschenbrenner    64  ...  Germany  hanne.aschenbrenner@example.com\n",
              "85       Mrs Luisa Weißmann    32  ...  Germany      luisa.weissmann@example.com\n",
              "87         Mr Joona Koskela    59  ...  Finland        joona.koskela@example.com\n",
              "88            Mrs Hilda Epp    22  ...  Germany            hilda.epp@example.com\n",
              "131          Mr Xavier Addy    30  ...   Canada          xavier.addy@example.com\n",
              "133      Miss Julia Ambrose    34  ...   Canada        julia.ambrose@example.com\n",
              "144        Ms Mareile Plate    51  ...  Germany        mareile.plate@example.com\n",
              "147         Mr Lauri Kotila    32  ...  Finland         lauri.kotila@example.com\n",
              "151           Mr Thomas Lam    42  ...   Canada             thomas.lam@gmail.com\n",
              "158   Mr Rafael Spangenberg    33  ...  Germany   rafael.spangenberg@example.com\n",
              "170           Mr Ryder Côté    25  ...   Canada           ryder.cote@example.com\n",
              "174       Ms Isla Koistinen    37  ...  Finland       isla.koistinen@example.com\n",
              "184      Mr Philip Bélanger    24  ...   Canada      philip.belanger@example.com\n",
              "193     Ms Delphine Ginnish    58  ...   Canada     delphine.ginnish@example.com\n",
              "196       Miss Maeva Fortin    40  ...   Canada         maeva.fortin@example.com\n",
              "\n",
              "[31 rows x 5 columns]"
            ]
          },
          "metadata": {},
          "execution_count": 61
        }
      ]
    },
    {
      "cell_type": "code",
      "metadata": {
        "colab": {
          "base_uri": "https://localhost:8080/",
          "height": 645
        },
        "id": "alO0mLCgtsQK",
        "outputId": "3c02eeeb-4cc9-4be7-98e0-5505debda4c2"
      },
      "source": [
        "# otra forma de hacer varios filtros en uno solo\n",
        "data[(data['pais'].isin ( ['Germany','Finland']))]"
      ],
      "execution_count": null,
      "outputs": [
        {
          "output_type": "execute_result",
          "data": {
            "text/html": [
              "<div>\n",
              "<style scoped>\n",
              "    .dataframe tbody tr th:only-of-type {\n",
              "        vertical-align: middle;\n",
              "    }\n",
              "\n",
              "    .dataframe tbody tr th {\n",
              "        vertical-align: top;\n",
              "    }\n",
              "\n",
              "    .dataframe thead th {\n",
              "        text-align: right;\n",
              "    }\n",
              "</style>\n",
              "<table border=\"1\" class=\"dataframe\">\n",
              "  <thead>\n",
              "    <tr style=\"text-align: right;\">\n",
              "      <th></th>\n",
              "      <th>nombre</th>\n",
              "      <th>edad</th>\n",
              "      <th>genero</th>\n",
              "      <th>pais</th>\n",
              "      <th>email</th>\n",
              "    </tr>\n",
              "  </thead>\n",
              "  <tbody>\n",
              "    <tr>\n",
              "      <th>5</th>\n",
              "      <td>Mr Harri Althoff</td>\n",
              "      <td>56</td>\n",
              "      <td>male</td>\n",
              "      <td>Germany</td>\n",
              "      <td>harri.althoff@example.com</td>\n",
              "    </tr>\n",
              "    <tr>\n",
              "      <th>7</th>\n",
              "      <td>Ms Britta Weinert</td>\n",
              "      <td>35</td>\n",
              "      <td>female</td>\n",
              "      <td>Germany</td>\n",
              "      <td>britta.weinert@example.com</td>\n",
              "    </tr>\n",
              "    <tr>\n",
              "      <th>9</th>\n",
              "      <td>Miss Emilia Laitinen</td>\n",
              "      <td>53</td>\n",
              "      <td>female</td>\n",
              "      <td>Finland</td>\n",
              "      <td>emilia.laitinen@example.com</td>\n",
              "    </tr>\n",
              "    <tr>\n",
              "      <th>20</th>\n",
              "      <td>Mr Vincenzo Rauscher</td>\n",
              "      <td>25</td>\n",
              "      <td>male</td>\n",
              "      <td>Germany</td>\n",
              "      <td>vincenzo.rauscher@example.com</td>\n",
              "    </tr>\n",
              "    <tr>\n",
              "      <th>31</th>\n",
              "      <td>Mr Toivo Kotila</td>\n",
              "      <td>27</td>\n",
              "      <td>male</td>\n",
              "      <td>Finland</td>\n",
              "      <td>toivo.kotila@example.com</td>\n",
              "    </tr>\n",
              "    <tr>\n",
              "      <th>38</th>\n",
              "      <td>Mrs Lotta Rintala</td>\n",
              "      <td>26</td>\n",
              "      <td>female</td>\n",
              "      <td>Finland</td>\n",
              "      <td>lotta.rintala@example.com</td>\n",
              "    </tr>\n",
              "    <tr>\n",
              "      <th>41</th>\n",
              "      <td>Miss Iida Ketola</td>\n",
              "      <td>46</td>\n",
              "      <td>female</td>\n",
              "      <td>Finland</td>\n",
              "      <td>iida.ketola@example.com</td>\n",
              "    </tr>\n",
              "    <tr>\n",
              "      <th>45</th>\n",
              "      <td>Ms Ilona Moilanen</td>\n",
              "      <td>22</td>\n",
              "      <td>female</td>\n",
              "      <td>Finland</td>\n",
              "      <td>ilona.moilanen@example.com</td>\n",
              "    </tr>\n",
              "    <tr>\n",
              "      <th>47</th>\n",
              "      <td>Miss Ellen Rinne</td>\n",
              "      <td>66</td>\n",
              "      <td>female</td>\n",
              "      <td>Finland</td>\n",
              "      <td>ellen.rinne@example.com</td>\n",
              "    </tr>\n",
              "    <tr>\n",
              "      <th>53</th>\n",
              "      <td>Ms Aino Lassila</td>\n",
              "      <td>54</td>\n",
              "      <td>female</td>\n",
              "      <td>Finland</td>\n",
              "      <td>aino.lassila@example.com</td>\n",
              "    </tr>\n",
              "    <tr>\n",
              "      <th>56</th>\n",
              "      <td>Ms Marcella Brosch</td>\n",
              "      <td>38</td>\n",
              "      <td>female</td>\n",
              "      <td>Germany</td>\n",
              "      <td>marcella.brosch@example.com</td>\n",
              "    </tr>\n",
              "    <tr>\n",
              "      <th>79</th>\n",
              "      <td>Ms Hanne Aschenbrenner</td>\n",
              "      <td>64</td>\n",
              "      <td>female</td>\n",
              "      <td>Germany</td>\n",
              "      <td>hanne.aschenbrenner@example.com</td>\n",
              "    </tr>\n",
              "    <tr>\n",
              "      <th>85</th>\n",
              "      <td>Mrs Luisa Weißmann</td>\n",
              "      <td>32</td>\n",
              "      <td>female</td>\n",
              "      <td>Germany</td>\n",
              "      <td>luisa.weissmann@example.com</td>\n",
              "    </tr>\n",
              "    <tr>\n",
              "      <th>87</th>\n",
              "      <td>Mr Joona Koskela</td>\n",
              "      <td>59</td>\n",
              "      <td>male</td>\n",
              "      <td>Finland</td>\n",
              "      <td>joona.koskela@example.com</td>\n",
              "    </tr>\n",
              "    <tr>\n",
              "      <th>88</th>\n",
              "      <td>Mrs Hilda Epp</td>\n",
              "      <td>22</td>\n",
              "      <td>female</td>\n",
              "      <td>Germany</td>\n",
              "      <td>hilda.epp@example.com</td>\n",
              "    </tr>\n",
              "    <tr>\n",
              "      <th>144</th>\n",
              "      <td>Ms Mareile Plate</td>\n",
              "      <td>51</td>\n",
              "      <td>female</td>\n",
              "      <td>Germany</td>\n",
              "      <td>mareile.plate@example.com</td>\n",
              "    </tr>\n",
              "    <tr>\n",
              "      <th>147</th>\n",
              "      <td>Mr Lauri Kotila</td>\n",
              "      <td>32</td>\n",
              "      <td>male</td>\n",
              "      <td>Finland</td>\n",
              "      <td>lauri.kotila@example.com</td>\n",
              "    </tr>\n",
              "    <tr>\n",
              "      <th>158</th>\n",
              "      <td>Mr Rafael Spangenberg</td>\n",
              "      <td>33</td>\n",
              "      <td>male</td>\n",
              "      <td>Germany</td>\n",
              "      <td>rafael.spangenberg@example.com</td>\n",
              "    </tr>\n",
              "    <tr>\n",
              "      <th>174</th>\n",
              "      <td>Ms Isla Koistinen</td>\n",
              "      <td>37</td>\n",
              "      <td>female</td>\n",
              "      <td>Finland</td>\n",
              "      <td>isla.koistinen@example.com</td>\n",
              "    </tr>\n",
              "  </tbody>\n",
              "</table>\n",
              "</div>"
            ],
            "text/plain": [
              "                     nombre  edad  ...     pais                            email\n",
              "5          Mr Harri Althoff    56  ...  Germany        harri.althoff@example.com\n",
              "7         Ms Britta Weinert    35  ...  Germany       britta.weinert@example.com\n",
              "9      Miss Emilia Laitinen    53  ...  Finland      emilia.laitinen@example.com\n",
              "20     Mr Vincenzo Rauscher    25  ...  Germany    vincenzo.rauscher@example.com\n",
              "31          Mr Toivo Kotila    27  ...  Finland         toivo.kotila@example.com\n",
              "38        Mrs Lotta Rintala    26  ...  Finland        lotta.rintala@example.com\n",
              "41         Miss Iida Ketola    46  ...  Finland          iida.ketola@example.com\n",
              "45        Ms Ilona Moilanen    22  ...  Finland       ilona.moilanen@example.com\n",
              "47         Miss Ellen Rinne    66  ...  Finland          ellen.rinne@example.com\n",
              "53          Ms Aino Lassila    54  ...  Finland         aino.lassila@example.com\n",
              "56       Ms Marcella Brosch    38  ...  Germany      marcella.brosch@example.com\n",
              "79   Ms Hanne Aschenbrenner    64  ...  Germany  hanne.aschenbrenner@example.com\n",
              "85       Mrs Luisa Weißmann    32  ...  Germany      luisa.weissmann@example.com\n",
              "87         Mr Joona Koskela    59  ...  Finland        joona.koskela@example.com\n",
              "88            Mrs Hilda Epp    22  ...  Germany            hilda.epp@example.com\n",
              "144        Ms Mareile Plate    51  ...  Germany        mareile.plate@example.com\n",
              "147         Mr Lauri Kotila    32  ...  Finland         lauri.kotila@example.com\n",
              "158   Mr Rafael Spangenberg    33  ...  Germany   rafael.spangenberg@example.com\n",
              "174       Ms Isla Koistinen    37  ...  Finland       isla.koistinen@example.com\n",
              "\n",
              "[19 rows x 5 columns]"
            ]
          },
          "metadata": {},
          "execution_count": 62
        }
      ]
    },
    {
      "cell_type": "markdown",
      "metadata": {
        "id": "g3KeoqNz_FMa"
      },
      "source": [
        "### Obtener los mujeres que sean de Germany"
      ]
    },
    {
      "cell_type": "code",
      "metadata": {
        "colab": {
          "base_uri": "https://localhost:8080/",
          "height": 238
        },
        "id": "06hNc91Tt95t",
        "outputId": "5e9d482c-8c7a-4682-8f87-cdeafb21ed13"
      },
      "source": [
        "# Filtrando mujeres de alemania\n",
        "data[(data['genero']=='female') & (data['pais']=='Germany')]"
      ],
      "execution_count": null,
      "outputs": [
        {
          "output_type": "execute_result",
          "data": {
            "text/html": [
              "<div>\n",
              "<style scoped>\n",
              "    .dataframe tbody tr th:only-of-type {\n",
              "        vertical-align: middle;\n",
              "    }\n",
              "\n",
              "    .dataframe tbody tr th {\n",
              "        vertical-align: top;\n",
              "    }\n",
              "\n",
              "    .dataframe thead th {\n",
              "        text-align: right;\n",
              "    }\n",
              "</style>\n",
              "<table border=\"1\" class=\"dataframe\">\n",
              "  <thead>\n",
              "    <tr style=\"text-align: right;\">\n",
              "      <th></th>\n",
              "      <th>nombre</th>\n",
              "      <th>edad</th>\n",
              "      <th>genero</th>\n",
              "      <th>pais</th>\n",
              "      <th>email</th>\n",
              "    </tr>\n",
              "  </thead>\n",
              "  <tbody>\n",
              "    <tr>\n",
              "      <th>7</th>\n",
              "      <td>Ms Britta Weinert</td>\n",
              "      <td>35</td>\n",
              "      <td>female</td>\n",
              "      <td>Germany</td>\n",
              "      <td>britta.weinert@example.com</td>\n",
              "    </tr>\n",
              "    <tr>\n",
              "      <th>56</th>\n",
              "      <td>Ms Marcella Brosch</td>\n",
              "      <td>38</td>\n",
              "      <td>female</td>\n",
              "      <td>Germany</td>\n",
              "      <td>marcella.brosch@example.com</td>\n",
              "    </tr>\n",
              "    <tr>\n",
              "      <th>79</th>\n",
              "      <td>Ms Hanne Aschenbrenner</td>\n",
              "      <td>64</td>\n",
              "      <td>female</td>\n",
              "      <td>Germany</td>\n",
              "      <td>hanne.aschenbrenner@example.com</td>\n",
              "    </tr>\n",
              "    <tr>\n",
              "      <th>85</th>\n",
              "      <td>Mrs Luisa Weißmann</td>\n",
              "      <td>32</td>\n",
              "      <td>female</td>\n",
              "      <td>Germany</td>\n",
              "      <td>luisa.weissmann@example.com</td>\n",
              "    </tr>\n",
              "    <tr>\n",
              "      <th>88</th>\n",
              "      <td>Mrs Hilda Epp</td>\n",
              "      <td>22</td>\n",
              "      <td>female</td>\n",
              "      <td>Germany</td>\n",
              "      <td>hilda.epp@example.com</td>\n",
              "    </tr>\n",
              "    <tr>\n",
              "      <th>144</th>\n",
              "      <td>Ms Mareile Plate</td>\n",
              "      <td>51</td>\n",
              "      <td>female</td>\n",
              "      <td>Germany</td>\n",
              "      <td>mareile.plate@example.com</td>\n",
              "    </tr>\n",
              "  </tbody>\n",
              "</table>\n",
              "</div>"
            ],
            "text/plain": [
              "                     nombre  edad  ...     pais                            email\n",
              "7         Ms Britta Weinert    35  ...  Germany       britta.weinert@example.com\n",
              "56       Ms Marcella Brosch    38  ...  Germany      marcella.brosch@example.com\n",
              "79   Ms Hanne Aschenbrenner    64  ...  Germany  hanne.aschenbrenner@example.com\n",
              "85       Mrs Luisa Weißmann    32  ...  Germany      luisa.weissmann@example.com\n",
              "88            Mrs Hilda Epp    22  ...  Germany            hilda.epp@example.com\n",
              "144        Ms Mareile Plate    51  ...  Germany        mareile.plate@example.com\n",
              "\n",
              "[6 rows x 5 columns]"
            ]
          },
          "metadata": {},
          "execution_count": 63
        }
      ]
    },
    {
      "cell_type": "markdown",
      "metadata": {
        "id": "NmECaZ1m_RUX"
      },
      "source": [
        "### Cuantos hombres hay en Canada"
      ]
    },
    {
      "cell_type": "code",
      "metadata": {
        "colab": {
          "base_uri": "https://localhost:8080/"
        },
        "id": "znZj1zlIujIG",
        "outputId": "ce67cec4-0523-46cf-cc4f-9c069dbb327e"
      },
      "source": [
        "# cuenta el resultado del filtro en cada fila\n",
        "data[(data['genero']=='male') & (data['pais']=='Canada')].count()"
      ],
      "execution_count": null,
      "outputs": [
        {
          "output_type": "execute_result",
          "data": {
            "text/plain": [
              "nombre    7\n",
              "edad      7\n",
              "genero    7\n",
              "pais      7\n",
              "email     7\n",
              "dtype: int64"
            ]
          },
          "metadata": {},
          "execution_count": 65
        }
      ]
    },
    {
      "cell_type": "code",
      "metadata": {
        "colab": {
          "base_uri": "https://localhost:8080/"
        },
        "id": "e_7lDYuMu0sV",
        "outputId": "9494555d-bb43-4189-de7f-cab1458574af"
      },
      "source": [
        "# Cuenta el resultado del filtro solo del pais\n",
        "data[(data['genero']=='male') & (data['pais']=='Canada')]['pais'].count()"
      ],
      "execution_count": null,
      "outputs": [
        {
          "output_type": "execute_result",
          "data": {
            "text/plain": [
              "7"
            ]
          },
          "metadata": {},
          "execution_count": 67
        }
      ]
    },
    {
      "cell_type": "markdown",
      "metadata": {
        "id": "0xITmPwMvDYE"
      },
      "source": [
        "## Groupby"
      ]
    },
    {
      "cell_type": "markdown",
      "metadata": {
        "id": "uOSbVDg4_oAi"
      },
      "source": [
        "## Cuantos hombre y mujeres hay en toda la tabla"
      ]
    },
    {
      "cell_type": "code",
      "metadata": {
        "colab": {
          "base_uri": "https://localhost:8080/",
          "height": 143
        },
        "id": "CaIQcUAtvE5Z",
        "outputId": "3b80decc-c74c-43b2-df78-e9406a1ddd17"
      },
      "source": [
        "data.groupby('genero').count()"
      ],
      "execution_count": null,
      "outputs": [
        {
          "output_type": "execute_result",
          "data": {
            "text/html": [
              "<div>\n",
              "<style scoped>\n",
              "    .dataframe tbody tr th:only-of-type {\n",
              "        vertical-align: middle;\n",
              "    }\n",
              "\n",
              "    .dataframe tbody tr th {\n",
              "        vertical-align: top;\n",
              "    }\n",
              "\n",
              "    .dataframe thead th {\n",
              "        text-align: right;\n",
              "    }\n",
              "</style>\n",
              "<table border=\"1\" class=\"dataframe\">\n",
              "  <thead>\n",
              "    <tr style=\"text-align: right;\">\n",
              "      <th></th>\n",
              "      <th>nombre</th>\n",
              "      <th>edad</th>\n",
              "      <th>pais</th>\n",
              "      <th>email</th>\n",
              "    </tr>\n",
              "    <tr>\n",
              "      <th>genero</th>\n",
              "      <th></th>\n",
              "      <th></th>\n",
              "      <th></th>\n",
              "      <th></th>\n",
              "    </tr>\n",
              "  </thead>\n",
              "  <tbody>\n",
              "    <tr>\n",
              "      <th>female</th>\n",
              "      <td>106</td>\n",
              "      <td>106</td>\n",
              "      <td>106</td>\n",
              "      <td>106</td>\n",
              "    </tr>\n",
              "    <tr>\n",
              "      <th>male</th>\n",
              "      <td>94</td>\n",
              "      <td>94</td>\n",
              "      <td>94</td>\n",
              "      <td>94</td>\n",
              "    </tr>\n",
              "  </tbody>\n",
              "</table>\n",
              "</div>"
            ],
            "text/plain": [
              "        nombre  edad  pais  email\n",
              "genero                           \n",
              "female     106   106   106    106\n",
              "male        94    94    94     94"
            ]
          },
          "metadata": {},
          "execution_count": 68
        }
      ]
    },
    {
      "cell_type": "code",
      "metadata": {
        "colab": {
          "base_uri": "https://localhost:8080/"
        },
        "id": "UKK3AIiCvbwg",
        "outputId": "1dfbb93e-df01-43a2-b0b5-69db57e87ac3"
      },
      "source": [
        "data.groupby('genero').count().index.values # obtengo el arreglo"
      ],
      "execution_count": null,
      "outputs": [
        {
          "output_type": "execute_result",
          "data": {
            "text/plain": [
              "array(['female', 'male'], dtype=object)"
            ]
          },
          "metadata": {},
          "execution_count": 69
        }
      ]
    },
    {
      "cell_type": "code",
      "metadata": {
        "colab": {
          "base_uri": "https://localhost:8080/"
        },
        "id": "ro1NADkcvlUx",
        "outputId": "e41d8a74-6b65-4fec-99ba-52d92cee4929"
      },
      "source": [
        "data.groupby('genero')['genero'].count()"
      ],
      "execution_count": null,
      "outputs": [
        {
          "output_type": "execute_result",
          "data": {
            "text/plain": [
              "genero\n",
              "female    106\n",
              "male       94\n",
              "Name: genero, dtype: int64"
            ]
          },
          "metadata": {},
          "execution_count": 71
        }
      ]
    },
    {
      "cell_type": "markdown",
      "metadata": {
        "id": "9mX8Fv8T_yW6"
      },
      "source": [
        "### Encontrar el pais con mas mujeres\n",
        "* Filtra mujeres\n",
        "* Agrupa segun pais los ya filtrado\n",
        "* Cuenta solos elementos de pais"
      ]
    },
    {
      "cell_type": "code",
      "metadata": {
        "colab": {
          "base_uri": "https://localhost:8080/"
        },
        "id": "BtecnI01wHuP",
        "outputId": "733c5930-0bfc-4f74-bd5e-5bdb7f3ef5df"
      },
      "source": [
        "# el pais con mas mujeres\n",
        "data[data['genero']=='female'].groupby('pais')['pais'].count()"
      ],
      "execution_count": null,
      "outputs": [
        {
          "output_type": "execute_result",
          "data": {
            "text/plain": [
              "pais\n",
              "Australia          6\n",
              "Brazil             5\n",
              "Canada             5\n",
              "Denmark           12\n",
              "Finland            7\n",
              "France             4\n",
              "Germany            6\n",
              "Iran               5\n",
              "Ireland            6\n",
              "Netherlands        4\n",
              "New Zealand       10\n",
              "Norway             6\n",
              "Spain              9\n",
              "Switzerland        6\n",
              "Turkey             7\n",
              "United Kingdom     6\n",
              "United States      2\n",
              "Name: pais, dtype: int64"
            ]
          },
          "metadata": {},
          "execution_count": 74
        }
      ]
    },
    {
      "cell_type": "markdown",
      "metadata": {
        "id": "_YJ1g_KZAJV_"
      },
      "source": [
        "* Ordena la tabla agrupada por pais de manera descentende\n",
        "* Solo me importa tener el primer encabezado"
      ]
    },
    {
      "cell_type": "code",
      "metadata": {
        "colab": {
          "base_uri": "https://localhost:8080/"
        },
        "id": "MX6L9aUKwlBo",
        "outputId": "11638660-04c7-4b06-d7ea-07d14ec6d531"
      },
      "source": [
        "data[data['genero']=='female'].groupby('pais')['pais'].count().sort_values(ascending=False).head(1)"
      ],
      "execution_count": null,
      "outputs": [
        {
          "output_type": "execute_result",
          "data": {
            "text/plain": [
              "pais\n",
              "Denmark    12\n",
              "Name: pais, dtype: int64"
            ]
          },
          "metadata": {},
          "execution_count": 78
        }
      ]
    },
    {
      "cell_type": "markdown",
      "metadata": {
        "id": "wULfPpaSAYGL"
      },
      "source": [
        "### Obtener el pais con menos usuarios"
      ]
    },
    {
      "cell_type": "code",
      "metadata": {
        "colab": {
          "base_uri": "https://localhost:8080/"
        },
        "id": "F1fjiEw7w9TU",
        "outputId": "a2fee0a4-fbfe-423f-9120-9bd42f2baf03"
      },
      "source": [
        "data.groupby('pais')['pais'].count().sort_values()"
      ],
      "execution_count": null,
      "outputs": [
        {
          "output_type": "execute_result",
          "data": {
            "text/plain": [
              "pais\n",
              "Netherlands        6\n",
              "Brazil             9\n",
              "Switzerland        9\n",
              "Germany            9\n",
              "United States     10\n",
              "Finland           10\n",
              "France            10\n",
              "Turkey            12\n",
              "Australia         12\n",
              "Canada            12\n",
              "Iran              13\n",
              "Spain             13\n",
              "New Zealand       14\n",
              "Norway            14\n",
              "United Kingdom    15\n",
              "Denmark           16\n",
              "Ireland           16\n",
              "Name: pais, dtype: int64"
            ]
          },
          "metadata": {},
          "execution_count": 80
        }
      ]
    }
  ]
}